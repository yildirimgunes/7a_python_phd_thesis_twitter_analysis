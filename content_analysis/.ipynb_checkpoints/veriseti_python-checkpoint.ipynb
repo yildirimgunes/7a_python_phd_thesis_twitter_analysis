{
 "cells": [
  {
   "cell_type": "code",
   "execution_count": null,
   "id": "6877bcf9-0a9a-49b4-a23c-3358222da28e",
   "metadata": {},
   "outputs": [],
   "source": [
    "#Text_mining_libraries"
   ]
  },
  {
   "cell_type": "code",
   "execution_count": null,
   "id": "9fafd063-191f-4cf9-b0fb-de99018065e4",
   "metadata": {},
   "outputs": [],
   "source": [
    "#String_matematiksel işlemler_görselleştirme"
   ]
  },
  {
   "cell_type": "code",
   "execution_count": 111,
   "id": "ff20506f-c360-4b70-b9ad-d8da61146329",
   "metadata": {
    "tags": []
   },
   "outputs": [],
   "source": [
    "import pandas as pd\n",
    "import numpy as np\n",
    "import seaborn as sns"
   ]
  },
  {
   "cell_type": "code",
   "execution_count": null,
   "id": "3bd5cbed-7619-4c98-b526-89e66b5970d9",
   "metadata": {},
   "outputs": [],
   "source": [
    "#terim_ağırlıklandırma_algoritmalar"
   ]
  },
  {
   "cell_type": "code",
   "execution_count": 112,
   "id": "b25586e0-12be-4e36-80c9-e1852089a19c",
   "metadata": {
    "tags": []
   },
   "outputs": [],
   "source": [
    "from textblob import TextBlob\n",
    "from sklearn import model_selection, preprocessing, linear_model, naive_bayes, metrics\n",
    "from sklearn.feature_extraction.text import TfidfVectorizer, CountVectorizer"
   ]
  },
  {
   "cell_type": "code",
   "execution_count": 113,
   "id": "cc8347ec-165f-477f-ad20-d3cb8644da7c",
   "metadata": {},
   "outputs": [],
   "source": [
    "from sklearn import decomposition, ensemble"
   ]
  },
  {
   "cell_type": "code",
   "execution_count": 114,
   "id": "5b1aa346-0e2e-4308-9084-7f4105cd0a57",
   "metadata": {
    "collapsed": true,
    "jupyter": {
     "outputs_hidden": true
    },
    "tags": []
   },
   "outputs": [
    {
     "name": "stdout",
     "output_type": "stream",
     "text": [
      "Requirement already satisfied: wordcloud in /Users/yildirimgunes/opt/anaconda3/lib/python3.9/site-packages (1.8.1)\n",
      "Requirement already satisfied: pillow in /Users/yildirimgunes/opt/anaconda3/lib/python3.9/site-packages (from wordcloud) (8.4.0)\n",
      "Requirement already satisfied: matplotlib in /Users/yildirimgunes/opt/anaconda3/lib/python3.9/site-packages (from wordcloud) (3.4.3)\n",
      "Requirement already satisfied: numpy>=1.6.1 in /Users/yildirimgunes/opt/anaconda3/lib/python3.9/site-packages (from wordcloud) (1.20.3)\n",
      "Requirement already satisfied: python-dateutil>=2.7 in /Users/yildirimgunes/opt/anaconda3/lib/python3.9/site-packages (from matplotlib->wordcloud) (2.8.2)\n",
      "Requirement already satisfied: cycler>=0.10 in /Users/yildirimgunes/opt/anaconda3/lib/python3.9/site-packages (from matplotlib->wordcloud) (0.10.0)\n",
      "Requirement already satisfied: pyparsing>=2.2.1 in /Users/yildirimgunes/opt/anaconda3/lib/python3.9/site-packages (from matplotlib->wordcloud) (3.0.4)\n",
      "Requirement already satisfied: kiwisolver>=1.0.1 in /Users/yildirimgunes/opt/anaconda3/lib/python3.9/site-packages (from matplotlib->wordcloud) (1.3.1)\n",
      "Requirement already satisfied: six in /Users/yildirimgunes/opt/anaconda3/lib/python3.9/site-packages (from cycler>=0.10->matplotlib->wordcloud) (1.16.0)\n"
     ]
    }
   ],
   "source": [
    "!pip install wordcloud"
   ]
  },
  {
   "cell_type": "code",
   "execution_count": null,
   "id": "ec1b87e9-b8c4-4525-b39d-569412aa8815",
   "metadata": {},
   "outputs": [],
   "source": [
    "#Görselleştirme_grafik çizimi"
   ]
  },
  {
   "cell_type": "code",
   "execution_count": 115,
   "id": "a06cdb55-2ca8-442b-81e4-98ff50ac84e2",
   "metadata": {
    "tags": []
   },
   "outputs": [],
   "source": [
    "from os import path\n",
    "from PIL import Image\n",
    "from wordcloud import WordCloud, STOPWORDS, ImageColorGenerator\n",
    "import matplotlib.pyplot as plt"
   ]
  },
  {
   "cell_type": "code",
   "execution_count": null,
   "id": "6afc522e-8aa1-4b0a-9606-ec50a6174179",
   "metadata": {},
   "outputs": [],
   "source": [
    "#Stopwords_durak kelimeleri ayıklama"
   ]
  },
  {
   "cell_type": "code",
   "execution_count": 168,
   "id": "c1b0ad4f-1d5e-4438-bbf6-63b2d6d037cd",
   "metadata": {
    "collapsed": true,
    "jupyter": {
     "outputs_hidden": true
    },
    "tags": []
   },
   "outputs": [
    {
     "name": "stdout",
     "output_type": "stream",
     "text": [
      "Requirement already satisfied: nltk in /Users/yildirimgunes/opt/anaconda3/lib/python3.9/site-packages (3.6.5)\n",
      "Requirement already satisfied: click in /Users/yildirimgunes/opt/anaconda3/lib/python3.9/site-packages (from nltk) (8.0.3)\n",
      "Requirement already satisfied: joblib in /Users/yildirimgunes/opt/anaconda3/lib/python3.9/site-packages (from nltk) (1.1.0)\n",
      "Requirement already satisfied: regex>=2021.8.3 in /Users/yildirimgunes/opt/anaconda3/lib/python3.9/site-packages (from nltk) (2021.8.3)\n",
      "Requirement already satisfied: tqdm in /Users/yildirimgunes/opt/anaconda3/lib/python3.9/site-packages (from nltk) (4.62.3)\n"
     ]
    },
    {
     "name": "stderr",
     "output_type": "stream",
     "text": [
      "[nltk_data] Downloading package stopwords to\n",
      "[nltk_data]     /Users/yildirimgunes/nltk_data...\n",
      "[nltk_data]   Package stopwords is already up-to-date!\n"
     ]
    }
   ],
   "source": [
    "!pip install nltk\n",
    "import nltk\n",
    "nltk.download(\"stopwords\")\n",
    "from nltk.corpus import stopwords"
   ]
  },
  {
   "cell_type": "code",
   "execution_count": null,
   "id": "d52d9d0a-2600-4d59-b440-de251389bbe2",
   "metadata": {},
   "outputs": [],
   "source": [
    "#Cümleleri kelimelere ayırma_tokenization"
   ]
  },
  {
   "cell_type": "code",
   "execution_count": 117,
   "id": "f8c75ed7-9557-4acc-b01e-cb71a7705106",
   "metadata": {
    "collapsed": true,
    "jupyter": {
     "outputs_hidden": true
    },
    "tags": []
   },
   "outputs": [
    {
     "name": "stderr",
     "output_type": "stream",
     "text": [
      "[nltk_data] Downloading package punkt to\n",
      "[nltk_data]     /Users/yildirimgunes/nltk_data...\n",
      "[nltk_data]   Package punkt is already up-to-date!\n"
     ]
    },
    {
     "name": "stdout",
     "output_type": "stream",
     "text": [
      "Requirement already satisfied: textblob in /Users/yildirimgunes/opt/anaconda3/lib/python3.9/site-packages (0.17.1)\n",
      "Requirement already satisfied: nltk>=3.1 in /Users/yildirimgunes/opt/anaconda3/lib/python3.9/site-packages (from textblob) (3.6.5)\n",
      "Requirement already satisfied: click in /Users/yildirimgunes/opt/anaconda3/lib/python3.9/site-packages (from nltk>=3.1->textblob) (8.0.3)\n",
      "Requirement already satisfied: joblib in /Users/yildirimgunes/opt/anaconda3/lib/python3.9/site-packages (from nltk>=3.1->textblob) (1.1.0)\n",
      "Requirement already satisfied: regex>=2021.8.3 in /Users/yildirimgunes/opt/anaconda3/lib/python3.9/site-packages (from nltk>=3.1->textblob) (2021.8.3)\n",
      "Requirement already satisfied: tqdm in /Users/yildirimgunes/opt/anaconda3/lib/python3.9/site-packages (from nltk>=3.1->textblob) (4.62.3)\n"
     ]
    }
   ],
   "source": [
    "nltk.download(\"punkt\")\n",
    "!pip install textblob\n",
    "import textblob\n",
    "from textblob import TextBlob"
   ]
  },
  {
   "cell_type": "code",
   "execution_count": null,
   "id": "263f6c77-afb3-4d0b-ae18-9a145e369efb",
   "metadata": {},
   "outputs": [],
   "source": [
    "#Kökleştirme"
   ]
  },
  {
   "cell_type": "code",
   "execution_count": 208,
   "id": "c0272bd3-ba94-452c-9302-7e06ed914549",
   "metadata": {
    "tags": []
   },
   "outputs": [],
   "source": [
    "from nltk.stem import PorterStemmer\n",
    "st=PorterStemmer()"
   ]
  },
  {
   "cell_type": "code",
   "execution_count": null,
   "id": "4c4405c3-c4fc-44e6-a1e9-be9da8afc86c",
   "metadata": {},
   "outputs": [],
   "source": [
    "#Türkçe için kökleştirme"
   ]
  },
  {
   "cell_type": "code",
   "execution_count": 226,
   "id": "550c1cb5-c893-40b1-8c40-3ae25a43a0a0",
   "metadata": {
    "tags": []
   },
   "outputs": [
    {
     "name": "stdout",
     "output_type": "stream",
     "text": [
      "Requirement already satisfied: snowballstemmer in /Users/yildirimgunes/opt/anaconda3/lib/python3.9/site-packages (2.1.0)\n"
     ]
    }
   ],
   "source": [
    "!pip install snowballstemmer\n",
    "from snowballstemmer import TurkishStemmer"
   ]
  },
  {
   "cell_type": "code",
   "execution_count": 236,
   "id": "cf8929d1-4014-4604-a960-1a896e989fda",
   "metadata": {
    "collapsed": true,
    "jupyter": {
     "outputs_hidden": true
    },
    "tags": []
   },
   "outputs": [
    {
     "name": "stdout",
     "output_type": "stream",
     "text": [
      "Requirement already satisfied: zemberek-python in /Users/yildirimgunes/opt/anaconda3/lib/python3.9/site-packages (0.2.2)\n",
      "Requirement already satisfied: numpy>=1.19.0 in /Users/yildirimgunes/opt/anaconda3/lib/python3.9/site-packages (from zemberek-python) (1.20.3)\n",
      "Requirement already satisfied: antlr4-python3-runtime==4.8 in /Users/yildirimgunes/opt/anaconda3/lib/python3.9/site-packages (from zemberek-python) (4.8)\n",
      "Collecting JPype1\n",
      "  Downloading JPype1-1.4.1-cp39-cp39-macosx_10_9_x86_64.whl (381 kB)\n",
      "\u001b[K     |████████████████████████████████| 381 kB 327 kB/s eta 0:00:01\n",
      "\u001b[?25hRequirement already satisfied: packaging in /Users/yildirimgunes/opt/anaconda3/lib/python3.9/site-packages (from JPype1) (21.0)\n",
      "Requirement already satisfied: pyparsing>=2.0.2 in /Users/yildirimgunes/opt/anaconda3/lib/python3.9/site-packages (from packaging->JPype1) (3.0.4)\n",
      "Installing collected packages: JPype1\n",
      "Successfully installed JPype1-1.4.1\n"
     ]
    }
   ],
   "source": [
    "!pip install zemberek-python\n",
    "!pip install JPype1"
   ]
  },
  {
   "cell_type": "code",
   "execution_count": null,
   "id": "d632b78c-b88d-45cc-a7b8-40562c95a6d6",
   "metadata": {},
   "outputs": [],
   "source": [
    "#Lemmetization_Mastar hale dönüştürme"
   ]
  },
  {
   "cell_type": "code",
   "execution_count": 118,
   "id": "1f3c9c48-f608-42ed-add3-c0560e72cbb2",
   "metadata": {},
   "outputs": [
    {
     "name": "stderr",
     "output_type": "stream",
     "text": [
      "[nltk_data] Downloading package wordnet to\n",
      "[nltk_data]     /Users/yildirimgunes/nltk_data...\n",
      "[nltk_data]   Package wordnet is already up-to-date!\n"
     ]
    },
    {
     "data": {
      "text/plain": [
       "True"
      ]
     },
     "execution_count": 118,
     "metadata": {},
     "output_type": "execute_result"
    }
   ],
   "source": [
    "from textblob import Word\n",
    "nltk.download(\"wordnet\")"
   ]
  },
  {
   "cell_type": "code",
   "execution_count": 120,
   "id": "371485d1-535f-40a0-af8e-b72f604c3a8a",
   "metadata": {
    "tags": []
   },
   "outputs": [
    {
     "name": "stderr",
     "output_type": "stream",
     "text": [
      "[nltk_data] Error loading averaged_perception_tagger: Package\n",
      "[nltk_data]     'averaged_perception_tagger' not found in index\n"
     ]
    },
    {
     "data": {
      "text/plain": [
       "False"
      ]
     },
     "execution_count": 120,
     "metadata": {},
     "output_type": "execute_result"
    }
   ],
   "source": [
    "nltk.download(\"averaged_perception_tagger\")"
   ]
  },
  {
   "cell_type": "code",
   "execution_count": null,
   "id": "48d1ec01-f9cd-471e-ad5b-ff0f4d09b9be",
   "metadata": {},
   "outputs": [],
   "source": [
    "#POS Tag_Kelime görevlerine göre etiketleme"
   ]
  },
  {
   "cell_type": "code",
   "execution_count": 190,
   "id": "42736dd5-bed7-42e3-a6a0-8e7e8db96991",
   "metadata": {
    "tags": []
   },
   "outputs": [
    {
     "name": "stderr",
     "output_type": "stream",
     "text": [
      "[nltk_data] Error loading averaged_perception_tagger: Package\n",
      "[nltk_data]     'averaged_perception_tagger' not found in index\n",
      "[nltk_data] Downloading package maxent_ne_chunker to\n",
      "[nltk_data]     /Users/yildirimgunes/nltk_data...\n",
      "[nltk_data]   Package maxent_ne_chunker is already up-to-date!\n",
      "[nltk_data] Downloading package words to\n",
      "[nltk_data]     /Users/yildirimgunes/nltk_data...\n",
      "[nltk_data]   Package words is already up-to-date!\n"
     ]
    },
    {
     "data": {
      "text/plain": [
       "True"
      ]
     },
     "execution_count": 190,
     "metadata": {},
     "output_type": "execute_result"
    }
   ],
   "source": [
    "nltk.download(\"averaged_perception_tagger\")\n",
    "from nltk import word_tokenize, pos_tag, ne_chunk\n",
    "nltk.download(\"maxent_ne_chunker\")\n",
    "nltk.download(\"words\")"
   ]
  },
  {
   "cell_type": "code",
   "execution_count": null,
   "id": "b480bf91-39da-44d7-882b-2abf36d6b923",
   "metadata": {},
   "outputs": [],
   "source": [
    "#DOKTORA VERİSETİNİN DUYGU SINIFLANDIRMASI İÇİN UYGULAMA\n",
    "#Text_mining için excel belgesinin içe aktarılması_csv ye ve DF yapıya dönüştürülmesi"
   ]
  },
  {
   "cell_type": "code",
   "execution_count": 125,
   "id": "ac79257b-e57f-487e-b6b4-883430c132ed",
   "metadata": {
    "tags": []
   },
   "outputs": [
    {
     "data": {
      "text/html": [
       "<div>\n",
       "<style scoped>\n",
       "    .dataframe tbody tr th:only-of-type {\n",
       "        vertical-align: middle;\n",
       "    }\n",
       "\n",
       "    .dataframe tbody tr th {\n",
       "        vertical-align: top;\n",
       "    }\n",
       "\n",
       "    .dataframe thead th {\n",
       "        text-align: right;\n",
       "    }\n",
       "</style>\n",
       "<table border=\"1\" class=\"dataframe\">\n",
       "  <thead>\n",
       "    <tr style=\"text-align: right;\">\n",
       "      <th></th>\n",
       "      <th>Document_Number</th>\n",
       "      <th>Text</th>\n",
       "      <th>Label_Duygu</th>\n",
       "      <th>Label_urunhiz</th>\n",
       "    </tr>\n",
       "  </thead>\n",
       "  <tbody>\n",
       "    <tr>\n",
       "      <th>0</th>\n",
       "      <td>D1</td>\n",
       "      <td>öyle demekle olmaz adresi atıyorum yemek sepet...</td>\n",
       "      <td>3</td>\n",
       "      <td>6</td>\n",
       "    </tr>\n",
       "    <tr>\n",
       "      <th>1</th>\n",
       "      <td>D2</td>\n",
       "      <td>koskoca yemek sepetinde tatli siparis edebilce...</td>\n",
       "      <td>2</td>\n",
       "      <td>5</td>\n",
       "    </tr>\n",
       "    <tr>\n",
       "      <th>2</th>\n",
       "      <td>D4</td>\n",
       "      <td>2019 yemek sepetinden burç çok sipariş vermişt...</td>\n",
       "      <td>3</td>\n",
       "      <td>6</td>\n",
       "    </tr>\n",
       "    <tr>\n",
       "      <th>3</th>\n",
       "      <td>D5</td>\n",
       "      <td>getir yemek kullanmayın pismanliktir canlı des...</td>\n",
       "      <td>2</td>\n",
       "      <td>5</td>\n",
       "    </tr>\n",
       "    <tr>\n",
       "      <th>4</th>\n",
       "      <td>D7</td>\n",
       "      <td>yemek sepeti canlı yardıma yazdım hazırlanıyor...</td>\n",
       "      <td>2</td>\n",
       "      <td>5</td>\n",
       "    </tr>\n",
       "    <tr>\n",
       "      <th>...</th>\n",
       "      <td>...</td>\n",
       "      <td>...</td>\n",
       "      <td>...</td>\n",
       "      <td>...</td>\n",
       "    </tr>\n",
       "    <tr>\n",
       "      <th>21034</th>\n",
       "      <td>D35469</td>\n",
       "      <td>ben rejim yapam spor yapam zayıflayam ailem dö...</td>\n",
       "      <td>3</td>\n",
       "      <td>6</td>\n",
       "    </tr>\n",
       "    <tr>\n",
       "      <th>21035</th>\n",
       "      <td>D35470</td>\n",
       "      <td>bugün 3 kişi iş yerindeyiz yemek söyleyelim of...</td>\n",
       "      <td>3</td>\n",
       "      <td>5</td>\n",
       "    </tr>\n",
       "    <tr>\n",
       "      <th>21036</th>\n",
       "      <td>D35471</td>\n",
       "      <td>spora gittim geldim ettim</td>\n",
       "      <td>3</td>\n",
       "      <td>6</td>\n",
       "    </tr>\n",
       "    <tr>\n",
       "      <th>21037</th>\n",
       "      <td>D35472</td>\n",
       "      <td>valla hocam çok acıkmıştım yemek yapmaya çok ü...</td>\n",
       "      <td>3</td>\n",
       "      <td>6</td>\n",
       "    </tr>\n",
       "    <tr>\n",
       "      <th>21038</th>\n",
       "      <td>D35473</td>\n",
       "      <td>allah düşünsene yenge eve misafir cağırıyor üm...</td>\n",
       "      <td>1</td>\n",
       "      <td>6</td>\n",
       "    </tr>\n",
       "  </tbody>\n",
       "</table>\n",
       "<p>21039 rows × 4 columns</p>\n",
       "</div>"
      ],
      "text/plain": [
       "      Document_Number                                               Text  \\\n",
       "0                  D1  öyle demekle olmaz adresi atıyorum yemek sepet...   \n",
       "1                  D2  koskoca yemek sepetinde tatli siparis edebilce...   \n",
       "2                  D4  2019 yemek sepetinden burç çok sipariş vermişt...   \n",
       "3                  D5  getir yemek kullanmayın pismanliktir canlı des...   \n",
       "4                  D7  yemek sepeti canlı yardıma yazdım hazırlanıyor...   \n",
       "...               ...                                                ...   \n",
       "21034          D35469  ben rejim yapam spor yapam zayıflayam ailem dö...   \n",
       "21035          D35470  bugün 3 kişi iş yerindeyiz yemek söyleyelim of...   \n",
       "21036          D35471                          spora gittim geldim ettim   \n",
       "21037          D35472  valla hocam çok acıkmıştım yemek yapmaya çok ü...   \n",
       "21038          D35473  allah düşünsene yenge eve misafir cağırıyor üm...   \n",
       "\n",
       "       Label_Duygu  Label_urunhiz  \n",
       "0                3              6  \n",
       "1                2              5  \n",
       "2                3              6  \n",
       "3                2              5  \n",
       "4                2              5  \n",
       "...            ...            ...  \n",
       "21034            3              6  \n",
       "21035            3              5  \n",
       "21036            3              6  \n",
       "21037            3              6  \n",
       "21038            1              6  \n",
       "\n",
       "[21039 rows x 4 columns]"
      ]
     },
     "execution_count": 125,
     "metadata": {},
     "output_type": "execute_result"
    }
   ],
   "source": [
    "read_file=pd.read_excel(r\"sadece_cumle.xlsx\")\n",
    "df=read_file.to_csv(r\"sadece_cumle.csv\", index=None)\n",
    "df=pd.read_csv(\"sadece_cumle.csv\")\n",
    "df=pd.DataFrame(df)\n",
    "df"
   ]
  },
  {
   "cell_type": "code",
   "execution_count": null,
   "id": "3244e390-0e9c-4c22-b5aa-f740de20bd56",
   "metadata": {
    "tags": []
   },
   "outputs": [],
   "source": [
    "#belgenin başlangıç şeklinin yedeklenmesi"
   ]
  },
  {
   "cell_type": "code",
   "execution_count": 126,
   "id": "876b787c-7833-4ad3-b5b5-3170ed7ac5a9",
   "metadata": {},
   "outputs": [],
   "source": [
    "df_yedek=df.copy()"
   ]
  },
  {
   "cell_type": "code",
   "execution_count": 127,
   "id": "1254f40a-32d9-4870-8ece-64bff042f765",
   "metadata": {
    "tags": []
   },
   "outputs": [
    {
     "data": {
      "text/html": [
       "<div>\n",
       "<style scoped>\n",
       "    .dataframe tbody tr th:only-of-type {\n",
       "        vertical-align: middle;\n",
       "    }\n",
       "\n",
       "    .dataframe tbody tr th {\n",
       "        vertical-align: top;\n",
       "    }\n",
       "\n",
       "    .dataframe thead th {\n",
       "        text-align: right;\n",
       "    }\n",
       "</style>\n",
       "<table border=\"1\" class=\"dataframe\">\n",
       "  <thead>\n",
       "    <tr style=\"text-align: right;\">\n",
       "      <th></th>\n",
       "      <th>Document_Number</th>\n",
       "      <th>Text</th>\n",
       "      <th>Label_Duygu</th>\n",
       "      <th>Label_urunhiz</th>\n",
       "    </tr>\n",
       "  </thead>\n",
       "  <tbody>\n",
       "    <tr>\n",
       "      <th>0</th>\n",
       "      <td>D1</td>\n",
       "      <td>öyle demekle olmaz adresi atıyorum yemek sepet...</td>\n",
       "      <td>3</td>\n",
       "      <td>6</td>\n",
       "    </tr>\n",
       "    <tr>\n",
       "      <th>1</th>\n",
       "      <td>D2</td>\n",
       "      <td>koskoca yemek sepetinde tatli siparis edebilce...</td>\n",
       "      <td>2</td>\n",
       "      <td>5</td>\n",
       "    </tr>\n",
       "    <tr>\n",
       "      <th>2</th>\n",
       "      <td>D4</td>\n",
       "      <td>2019 yemek sepetinden burç çok sipariş vermişt...</td>\n",
       "      <td>3</td>\n",
       "      <td>6</td>\n",
       "    </tr>\n",
       "    <tr>\n",
       "      <th>3</th>\n",
       "      <td>D5</td>\n",
       "      <td>getir yemek kullanmayın pismanliktir canlı des...</td>\n",
       "      <td>2</td>\n",
       "      <td>5</td>\n",
       "    </tr>\n",
       "    <tr>\n",
       "      <th>4</th>\n",
       "      <td>D7</td>\n",
       "      <td>yemek sepeti canlı yardıma yazdım hazırlanıyor...</td>\n",
       "      <td>2</td>\n",
       "      <td>5</td>\n",
       "    </tr>\n",
       "    <tr>\n",
       "      <th>...</th>\n",
       "      <td>...</td>\n",
       "      <td>...</td>\n",
       "      <td>...</td>\n",
       "      <td>...</td>\n",
       "    </tr>\n",
       "    <tr>\n",
       "      <th>21034</th>\n",
       "      <td>D35469</td>\n",
       "      <td>ben rejim yapam spor yapam zayıflayam ailem dö...</td>\n",
       "      <td>3</td>\n",
       "      <td>6</td>\n",
       "    </tr>\n",
       "    <tr>\n",
       "      <th>21035</th>\n",
       "      <td>D35470</td>\n",
       "      <td>bugün 3 kişi iş yerindeyiz yemek söyleyelim of...</td>\n",
       "      <td>3</td>\n",
       "      <td>5</td>\n",
       "    </tr>\n",
       "    <tr>\n",
       "      <th>21036</th>\n",
       "      <td>D35471</td>\n",
       "      <td>spora gittim geldim ettim</td>\n",
       "      <td>3</td>\n",
       "      <td>6</td>\n",
       "    </tr>\n",
       "    <tr>\n",
       "      <th>21037</th>\n",
       "      <td>D35472</td>\n",
       "      <td>valla hocam çok acıkmıştım yemek yapmaya çok ü...</td>\n",
       "      <td>3</td>\n",
       "      <td>6</td>\n",
       "    </tr>\n",
       "    <tr>\n",
       "      <th>21038</th>\n",
       "      <td>D35473</td>\n",
       "      <td>allah düşünsene yenge eve misafir cağırıyor üm...</td>\n",
       "      <td>1</td>\n",
       "      <td>6</td>\n",
       "    </tr>\n",
       "  </tbody>\n",
       "</table>\n",
       "<p>21039 rows × 4 columns</p>\n",
       "</div>"
      ],
      "text/plain": [
       "      Document_Number                                               Text  \\\n",
       "0                  D1  öyle demekle olmaz adresi atıyorum yemek sepet...   \n",
       "1                  D2  koskoca yemek sepetinde tatli siparis edebilce...   \n",
       "2                  D4  2019 yemek sepetinden burç çok sipariş vermişt...   \n",
       "3                  D5  getir yemek kullanmayın pismanliktir canlı des...   \n",
       "4                  D7  yemek sepeti canlı yardıma yazdım hazırlanıyor...   \n",
       "...               ...                                                ...   \n",
       "21034          D35469  ben rejim yapam spor yapam zayıflayam ailem dö...   \n",
       "21035          D35470  bugün 3 kişi iş yerindeyiz yemek söyleyelim of...   \n",
       "21036          D35471                          spora gittim geldim ettim   \n",
       "21037          D35472  valla hocam çok acıkmıştım yemek yapmaya çok ü...   \n",
       "21038          D35473  allah düşünsene yenge eve misafir cağırıyor üm...   \n",
       "\n",
       "       Label_Duygu  Label_urunhiz  \n",
       "0                3              6  \n",
       "1                2              5  \n",
       "2                3              6  \n",
       "3                2              5  \n",
       "4                2              5  \n",
       "...            ...            ...  \n",
       "21034            3              6  \n",
       "21035            3              5  \n",
       "21036            3              6  \n",
       "21037            3              6  \n",
       "21038            1              6  \n",
       "\n",
       "[21039 rows x 4 columns]"
      ]
     },
     "execution_count": 127,
     "metadata": {},
     "output_type": "execute_result"
    }
   ],
   "source": [
    "df_yedek=pd.DataFrame(df_yedek)\n",
    "df_yedek"
   ]
  },
  {
   "cell_type": "code",
   "execution_count": null,
   "id": "800f4eb5-b7d3-4bdb-8df5-c5e5f0416d51",
   "metadata": {},
   "outputs": [],
   "source": [
    "#Metin kısmının liste hali"
   ]
  },
  {
   "cell_type": "code",
   "execution_count": 1,
   "id": "75b5be5d-407a-474b-9d39-6754f7afaf0f",
   "metadata": {
    "tags": []
   },
   "outputs": [
    {
     "ename": "NameError",
     "evalue": "name 'df_yedek' is not defined",
     "output_type": "error",
     "traceback": [
      "\u001b[0;31m---------------------------------------------------------------------------\u001b[0m",
      "\u001b[0;31mNameError\u001b[0m                                 Traceback (most recent call last)",
      "\u001b[0;32m/var/folders/xg/30080dtj3glgwllkfn5zhjl40000gn/T/ipykernel_3089/1521466734.py\u001b[0m in \u001b[0;36m<module>\u001b[0;34m\u001b[0m\n\u001b[0;32m----> 1\u001b[0;31m \u001b[0mmetin_liste\u001b[0m\u001b[0;34m=\u001b[0m\u001b[0mlist\u001b[0m\u001b[0;34m(\u001b[0m\u001b[0mdf_yedek\u001b[0m\u001b[0;34m[\u001b[0m\u001b[0;34m\"Text\"\u001b[0m\u001b[0;34m]\u001b[0m\u001b[0;34m)\u001b[0m\u001b[0;34m\u001b[0m\u001b[0;34m\u001b[0m\u001b[0m\n\u001b[0m\u001b[1;32m      2\u001b[0m \u001b[0mmetin_liste\u001b[0m\u001b[0;34m\u001b[0m\u001b[0;34m\u001b[0m\u001b[0m\n",
      "\u001b[0;31mNameError\u001b[0m: name 'df_yedek' is not defined"
     ]
    }
   ],
   "source": [
    "metin_liste=list(df_yedek[\"Text\"])\n",
    "metin_liste"
   ]
  },
  {
   "cell_type": "code",
   "execution_count": 129,
   "id": "66094cb9-9395-474c-909a-c39fa0af96c6",
   "metadata": {
    "tags": []
   },
   "outputs": [],
   "source": [
    "metin_liste_yedek=metin_liste"
   ]
  },
  {
   "cell_type": "code",
   "execution_count": null,
   "id": "f595a59a-8e7b-4f96-8a84-8cff29d32e8f",
   "metadata": {},
   "outputs": [],
   "source": [
    "#Veri önişlemleri"
   ]
  },
  {
   "cell_type": "code",
   "execution_count": null,
   "id": "42a64f5d-ebf9-4f6f-9cd0-f476b1618c6b",
   "metadata": {},
   "outputs": [],
   "source": [
    "#Veri önişlemleri_1_boş satırların silinmesi ve hata giderme_bu işlem yapılmadığında bazen metin \n",
    "#temizliğinin sonraki aşamalarında problemler ortaya çıkabilmektedir."
   ]
  },
  {
   "cell_type": "code",
   "execution_count": 141,
   "id": "e95d949d-724b-4234-a98c-dacb0508c086",
   "metadata": {
    "tags": []
   },
   "outputs": [],
   "source": [
    "df_bos_satir_sil=df_yedek.copy()"
   ]
  },
  {
   "cell_type": "code",
   "execution_count": 145,
   "id": "69948789-fbdd-4912-b8b1-3ef058ad5704",
   "metadata": {
    "collapsed": true,
    "jupyter": {
     "outputs_hidden": true
    },
    "tags": []
   },
   "outputs": [
    {
     "data": {
      "text/html": [
       "<div>\n",
       "<style scoped>\n",
       "    .dataframe tbody tr th:only-of-type {\n",
       "        vertical-align: middle;\n",
       "    }\n",
       "\n",
       "    .dataframe tbody tr th {\n",
       "        vertical-align: top;\n",
       "    }\n",
       "\n",
       "    .dataframe thead th {\n",
       "        text-align: right;\n",
       "    }\n",
       "</style>\n",
       "<table border=\"1\" class=\"dataframe\">\n",
       "  <thead>\n",
       "    <tr style=\"text-align: right;\">\n",
       "      <th></th>\n",
       "      <th>Document_Number</th>\n",
       "      <th>Text</th>\n",
       "      <th>Label_Duygu</th>\n",
       "      <th>Label_urunhiz</th>\n",
       "    </tr>\n",
       "  </thead>\n",
       "  <tbody>\n",
       "    <tr>\n",
       "      <th>0</th>\n",
       "      <td>D1</td>\n",
       "      <td>öyle demekle olmaz adresi atıyorum yemek sepet...</td>\n",
       "      <td>3</td>\n",
       "      <td>6</td>\n",
       "    </tr>\n",
       "    <tr>\n",
       "      <th>1</th>\n",
       "      <td>D2</td>\n",
       "      <td>koskoca yemek sepetinde tatli siparis edebilce...</td>\n",
       "      <td>2</td>\n",
       "      <td>5</td>\n",
       "    </tr>\n",
       "    <tr>\n",
       "      <th>2</th>\n",
       "      <td>D4</td>\n",
       "      <td>2019 yemek sepetinden burç çok sipariş vermişt...</td>\n",
       "      <td>3</td>\n",
       "      <td>6</td>\n",
       "    </tr>\n",
       "    <tr>\n",
       "      <th>3</th>\n",
       "      <td>D5</td>\n",
       "      <td>getir yemek kullanmayın pismanliktir canlı des...</td>\n",
       "      <td>2</td>\n",
       "      <td>5</td>\n",
       "    </tr>\n",
       "    <tr>\n",
       "      <th>4</th>\n",
       "      <td>D7</td>\n",
       "      <td>yemek sepeti canlı yardıma yazdım hazırlanıyor...</td>\n",
       "      <td>2</td>\n",
       "      <td>5</td>\n",
       "    </tr>\n",
       "    <tr>\n",
       "      <th>...</th>\n",
       "      <td>...</td>\n",
       "      <td>...</td>\n",
       "      <td>...</td>\n",
       "      <td>...</td>\n",
       "    </tr>\n",
       "    <tr>\n",
       "      <th>21034</th>\n",
       "      <td>D35469</td>\n",
       "      <td>ben rejim yapam spor yapam zayıflayam ailem dö...</td>\n",
       "      <td>3</td>\n",
       "      <td>6</td>\n",
       "    </tr>\n",
       "    <tr>\n",
       "      <th>21035</th>\n",
       "      <td>D35470</td>\n",
       "      <td>bugün 3 kişi iş yerindeyiz yemek söyleyelim of...</td>\n",
       "      <td>3</td>\n",
       "      <td>5</td>\n",
       "    </tr>\n",
       "    <tr>\n",
       "      <th>21036</th>\n",
       "      <td>D35471</td>\n",
       "      <td>spora gittim geldim ettim</td>\n",
       "      <td>3</td>\n",
       "      <td>6</td>\n",
       "    </tr>\n",
       "    <tr>\n",
       "      <th>21037</th>\n",
       "      <td>D35472</td>\n",
       "      <td>valla hocam çok acıkmıştım yemek yapmaya çok ü...</td>\n",
       "      <td>3</td>\n",
       "      <td>6</td>\n",
       "    </tr>\n",
       "    <tr>\n",
       "      <th>21038</th>\n",
       "      <td>D35473</td>\n",
       "      <td>allah düşünsene yenge eve misafir cağırıyor üm...</td>\n",
       "      <td>1</td>\n",
       "      <td>6</td>\n",
       "    </tr>\n",
       "  </tbody>\n",
       "</table>\n",
       "<p>21039 rows × 4 columns</p>\n",
       "</div>"
      ],
      "text/plain": [
       "      Document_Number                                               Text  \\\n",
       "0                  D1  öyle demekle olmaz adresi atıyorum yemek sepet...   \n",
       "1                  D2  koskoca yemek sepetinde tatli siparis edebilce...   \n",
       "2                  D4  2019 yemek sepetinden burç çok sipariş vermişt...   \n",
       "3                  D5  getir yemek kullanmayın pismanliktir canlı des...   \n",
       "4                  D7  yemek sepeti canlı yardıma yazdım hazırlanıyor...   \n",
       "...               ...                                                ...   \n",
       "21034          D35469  ben rejim yapam spor yapam zayıflayam ailem dö...   \n",
       "21035          D35470  bugün 3 kişi iş yerindeyiz yemek söyleyelim of...   \n",
       "21036          D35471                          spora gittim geldim ettim   \n",
       "21037          D35472  valla hocam çok acıkmıştım yemek yapmaya çok ü...   \n",
       "21038          D35473  allah düşünsene yenge eve misafir cağırıyor üm...   \n",
       "\n",
       "       Label_Duygu  Label_urunhiz  \n",
       "0                3              6  \n",
       "1                2              5  \n",
       "2                3              6  \n",
       "3                2              5  \n",
       "4                2              5  \n",
       "...            ...            ...  \n",
       "21034            3              6  \n",
       "21035            3              5  \n",
       "21036            3              6  \n",
       "21037            3              6  \n",
       "21038            1              6  \n",
       "\n",
       "[21039 rows x 4 columns]"
      ]
     },
     "execution_count": 145,
     "metadata": {},
     "output_type": "execute_result"
    }
   ],
   "source": [
    "df_bos_satir_sil[\"Text\"]=(df_bos_satir_sil[\"Text\"]).dropna(axis=0)\n",
    "df_bos_satir_sil"
   ]
  },
  {
   "cell_type": "code",
   "execution_count": 148,
   "id": "f4b3e680-02da-4212-9f41-27a0cabc9544",
   "metadata": {},
   "outputs": [],
   "source": [
    "df_bos_satir_sil[\"Text\"]=df_bos_satir_sil[\"Text\"][:].astype(str)"
   ]
  },
  {
   "cell_type": "code",
   "execution_count": null,
   "id": "8f06f694-a703-43af-9613-9cd44c4218fb",
   "metadata": {},
   "outputs": [],
   "source": [
    "#Küçük harfe dönüştürme"
   ]
  },
  {
   "cell_type": "code",
   "execution_count": 155,
   "id": "b8f1a5ab-e835-48b3-8f9f-3a9b500a9dab",
   "metadata": {},
   "outputs": [],
   "source": [
    "df_bos_satir_sil_kucuk_harf=df_bos_satir_sil.copy()"
   ]
  },
  {
   "cell_type": "code",
   "execution_count": 157,
   "id": "64eb0d56-4494-4934-8d41-8707c79eb944",
   "metadata": {
    "collapsed": true,
    "jupyter": {
     "outputs_hidden": true
    },
    "tags": []
   },
   "outputs": [
    {
     "data": {
      "text/html": [
       "<div>\n",
       "<style scoped>\n",
       "    .dataframe tbody tr th:only-of-type {\n",
       "        vertical-align: middle;\n",
       "    }\n",
       "\n",
       "    .dataframe tbody tr th {\n",
       "        vertical-align: top;\n",
       "    }\n",
       "\n",
       "    .dataframe thead th {\n",
       "        text-align: right;\n",
       "    }\n",
       "</style>\n",
       "<table border=\"1\" class=\"dataframe\">\n",
       "  <thead>\n",
       "    <tr style=\"text-align: right;\">\n",
       "      <th></th>\n",
       "      <th>Document_Number</th>\n",
       "      <th>Text</th>\n",
       "      <th>Label_Duygu</th>\n",
       "      <th>Label_urunhiz</th>\n",
       "    </tr>\n",
       "  </thead>\n",
       "  <tbody>\n",
       "    <tr>\n",
       "      <th>0</th>\n",
       "      <td>D1</td>\n",
       "      <td>öyle demekle olmaz adresi atıyorum yemek sepet...</td>\n",
       "      <td>3</td>\n",
       "      <td>6</td>\n",
       "    </tr>\n",
       "    <tr>\n",
       "      <th>1</th>\n",
       "      <td>D2</td>\n",
       "      <td>koskoca yemek sepetinde tatli siparis edebilce...</td>\n",
       "      <td>2</td>\n",
       "      <td>5</td>\n",
       "    </tr>\n",
       "    <tr>\n",
       "      <th>2</th>\n",
       "      <td>D4</td>\n",
       "      <td>2019 yemek sepetinden burç çok sipariş vermişt...</td>\n",
       "      <td>3</td>\n",
       "      <td>6</td>\n",
       "    </tr>\n",
       "    <tr>\n",
       "      <th>3</th>\n",
       "      <td>D5</td>\n",
       "      <td>getir yemek kullanmayın pismanliktir canlı des...</td>\n",
       "      <td>2</td>\n",
       "      <td>5</td>\n",
       "    </tr>\n",
       "    <tr>\n",
       "      <th>4</th>\n",
       "      <td>D7</td>\n",
       "      <td>yemek sepeti canlı yardıma yazdım hazırlanıyor...</td>\n",
       "      <td>2</td>\n",
       "      <td>5</td>\n",
       "    </tr>\n",
       "    <tr>\n",
       "      <th>...</th>\n",
       "      <td>...</td>\n",
       "      <td>...</td>\n",
       "      <td>...</td>\n",
       "      <td>...</td>\n",
       "    </tr>\n",
       "    <tr>\n",
       "      <th>21034</th>\n",
       "      <td>D35469</td>\n",
       "      <td>ben rejim yapam spor yapam zayıflayam ailem dö...</td>\n",
       "      <td>3</td>\n",
       "      <td>6</td>\n",
       "    </tr>\n",
       "    <tr>\n",
       "      <th>21035</th>\n",
       "      <td>D35470</td>\n",
       "      <td>bugün 3 kişi iş yerindeyiz yemek söyleyelim of...</td>\n",
       "      <td>3</td>\n",
       "      <td>5</td>\n",
       "    </tr>\n",
       "    <tr>\n",
       "      <th>21036</th>\n",
       "      <td>D35471</td>\n",
       "      <td>spora gittim geldim ettim</td>\n",
       "      <td>3</td>\n",
       "      <td>6</td>\n",
       "    </tr>\n",
       "    <tr>\n",
       "      <th>21037</th>\n",
       "      <td>D35472</td>\n",
       "      <td>valla hocam çok acıkmıştım yemek yapmaya çok ü...</td>\n",
       "      <td>3</td>\n",
       "      <td>6</td>\n",
       "    </tr>\n",
       "    <tr>\n",
       "      <th>21038</th>\n",
       "      <td>D35473</td>\n",
       "      <td>allah düşünsene yenge eve misafir cağırıyor üm...</td>\n",
       "      <td>1</td>\n",
       "      <td>6</td>\n",
       "    </tr>\n",
       "  </tbody>\n",
       "</table>\n",
       "<p>21039 rows × 4 columns</p>\n",
       "</div>"
      ],
      "text/plain": [
       "      Document_Number                                               Text  \\\n",
       "0                  D1  öyle demekle olmaz adresi atıyorum yemek sepet...   \n",
       "1                  D2  koskoca yemek sepetinde tatli siparis edebilce...   \n",
       "2                  D4  2019 yemek sepetinden burç çok sipariş vermişt...   \n",
       "3                  D5  getir yemek kullanmayın pismanliktir canlı des...   \n",
       "4                  D7  yemek sepeti canlı yardıma yazdım hazırlanıyor...   \n",
       "...               ...                                                ...   \n",
       "21034          D35469  ben rejim yapam spor yapam zayıflayam ailem dö...   \n",
       "21035          D35470  bugün 3 kişi iş yerindeyiz yemek söyleyelim of...   \n",
       "21036          D35471                          spora gittim geldim ettim   \n",
       "21037          D35472  valla hocam çok acıkmıştım yemek yapmaya çok ü...   \n",
       "21038          D35473  allah düşünsene yenge eve misafir cağırıyor üm...   \n",
       "\n",
       "       Label_Duygu  Label_urunhiz  \n",
       "0                3              6  \n",
       "1                2              5  \n",
       "2                3              6  \n",
       "3                2              5  \n",
       "4                2              5  \n",
       "...            ...            ...  \n",
       "21034            3              6  \n",
       "21035            3              5  \n",
       "21036            3              6  \n",
       "21037            3              6  \n",
       "21038            1              6  \n",
       "\n",
       "[21039 rows x 4 columns]"
      ]
     },
     "execution_count": 157,
     "metadata": {},
     "output_type": "execute_result"
    }
   ],
   "source": [
    "df_bos_satir_sil_kucuk_harf[\"Text\"]= df_bos_satir_sil_kucuk_harf[\"Text\"].apply (lambda x:\" \".\n",
    "                                                                                join(x.lower() for x in x.split()))\n",
    "df_bos_satir_sil_kucuk_harf"
   ]
  },
  {
   "cell_type": "code",
   "execution_count": null,
   "id": "e27b4de6-64f8-4a36-8195-37c789823eba",
   "metadata": {
    "tags": []
   },
   "outputs": [],
   "source": [
    "#Sayıları veri setinden silme"
   ]
  },
  {
   "cell_type": "code",
   "execution_count": 172,
   "id": "5f83d37a-86e1-419c-ae77-f85f35f97a60",
   "metadata": {},
   "outputs": [],
   "source": [
    "df_bos_satir_sil_kucuk_harf_sayi_sil=df_bos_satir_sil_kucuk_harf.copy()"
   ]
  },
  {
   "cell_type": "code",
   "execution_count": 173,
   "id": "a6211837-fcde-44a4-ade9-58bb3efce1ee",
   "metadata": {},
   "outputs": [
    {
     "data": {
      "text/html": [
       "<div>\n",
       "<style scoped>\n",
       "    .dataframe tbody tr th:only-of-type {\n",
       "        vertical-align: middle;\n",
       "    }\n",
       "\n",
       "    .dataframe tbody tr th {\n",
       "        vertical-align: top;\n",
       "    }\n",
       "\n",
       "    .dataframe thead th {\n",
       "        text-align: right;\n",
       "    }\n",
       "</style>\n",
       "<table border=\"1\" class=\"dataframe\">\n",
       "  <thead>\n",
       "    <tr style=\"text-align: right;\">\n",
       "      <th></th>\n",
       "      <th>Document_Number</th>\n",
       "      <th>Text</th>\n",
       "      <th>Label_Duygu</th>\n",
       "      <th>Label_urunhiz</th>\n",
       "    </tr>\n",
       "  </thead>\n",
       "  <tbody>\n",
       "    <tr>\n",
       "      <th>0</th>\n",
       "      <td>D1</td>\n",
       "      <td>öyle demekle olmaz adresi atıyorum yemek sepet...</td>\n",
       "      <td>3</td>\n",
       "      <td>6</td>\n",
       "    </tr>\n",
       "    <tr>\n",
       "      <th>1</th>\n",
       "      <td>D2</td>\n",
       "      <td>koskoca yemek sepetinde tatli siparis edebilce...</td>\n",
       "      <td>2</td>\n",
       "      <td>5</td>\n",
       "    </tr>\n",
       "    <tr>\n",
       "      <th>2</th>\n",
       "      <td>D4</td>\n",
       "      <td>2019 yemek sepetinden burç çok sipariş vermişt...</td>\n",
       "      <td>3</td>\n",
       "      <td>6</td>\n",
       "    </tr>\n",
       "    <tr>\n",
       "      <th>3</th>\n",
       "      <td>D5</td>\n",
       "      <td>getir yemek kullanmayın pismanliktir canlı des...</td>\n",
       "      <td>2</td>\n",
       "      <td>5</td>\n",
       "    </tr>\n",
       "    <tr>\n",
       "      <th>4</th>\n",
       "      <td>D7</td>\n",
       "      <td>yemek sepeti canlı yardıma yazdım hazırlanıyor...</td>\n",
       "      <td>2</td>\n",
       "      <td>5</td>\n",
       "    </tr>\n",
       "    <tr>\n",
       "      <th>...</th>\n",
       "      <td>...</td>\n",
       "      <td>...</td>\n",
       "      <td>...</td>\n",
       "      <td>...</td>\n",
       "    </tr>\n",
       "    <tr>\n",
       "      <th>21034</th>\n",
       "      <td>D35469</td>\n",
       "      <td>ben rejim yapam spor yapam zayıflayam ailem dö...</td>\n",
       "      <td>3</td>\n",
       "      <td>6</td>\n",
       "    </tr>\n",
       "    <tr>\n",
       "      <th>21035</th>\n",
       "      <td>D35470</td>\n",
       "      <td>bugün 3 kişi iş yerindeyiz yemek söyleyelim of...</td>\n",
       "      <td>3</td>\n",
       "      <td>5</td>\n",
       "    </tr>\n",
       "    <tr>\n",
       "      <th>21036</th>\n",
       "      <td>D35471</td>\n",
       "      <td>spora gittim geldim ettim</td>\n",
       "      <td>3</td>\n",
       "      <td>6</td>\n",
       "    </tr>\n",
       "    <tr>\n",
       "      <th>21037</th>\n",
       "      <td>D35472</td>\n",
       "      <td>valla hocam çok acıkmıştım yemek yapmaya çok ü...</td>\n",
       "      <td>3</td>\n",
       "      <td>6</td>\n",
       "    </tr>\n",
       "    <tr>\n",
       "      <th>21038</th>\n",
       "      <td>D35473</td>\n",
       "      <td>allah düşünsene yenge eve misafir cağırıyor üm...</td>\n",
       "      <td>1</td>\n",
       "      <td>6</td>\n",
       "    </tr>\n",
       "  </tbody>\n",
       "</table>\n",
       "<p>21039 rows × 4 columns</p>\n",
       "</div>"
      ],
      "text/plain": [
       "      Document_Number                                               Text  \\\n",
       "0                  D1  öyle demekle olmaz adresi atıyorum yemek sepet...   \n",
       "1                  D2  koskoca yemek sepetinde tatli siparis edebilce...   \n",
       "2                  D4  2019 yemek sepetinden burç çok sipariş vermişt...   \n",
       "3                  D5  getir yemek kullanmayın pismanliktir canlı des...   \n",
       "4                  D7  yemek sepeti canlı yardıma yazdım hazırlanıyor...   \n",
       "...               ...                                                ...   \n",
       "21034          D35469  ben rejim yapam spor yapam zayıflayam ailem dö...   \n",
       "21035          D35470  bugün 3 kişi iş yerindeyiz yemek söyleyelim of...   \n",
       "21036          D35471                          spora gittim geldim ettim   \n",
       "21037          D35472  valla hocam çok acıkmıştım yemek yapmaya çok ü...   \n",
       "21038          D35473  allah düşünsene yenge eve misafir cağırıyor üm...   \n",
       "\n",
       "       Label_Duygu  Label_urunhiz  \n",
       "0                3              6  \n",
       "1                2              5  \n",
       "2                3              6  \n",
       "3                2              5  \n",
       "4                2              5  \n",
       "...            ...            ...  \n",
       "21034            3              6  \n",
       "21035            3              5  \n",
       "21036            3              6  \n",
       "21037            3              6  \n",
       "21038            1              6  \n",
       "\n",
       "[21039 rows x 4 columns]"
      ]
     },
     "execution_count": 173,
     "metadata": {},
     "output_type": "execute_result"
    }
   ],
   "source": [
    "df_bos_satir_sil_kucuk_harf_sayi_sil[\"Text\"]=df_bos_satir_sil_kucuk_harf_sayi_sil[\"Text\"].str.replace(\"digit\",\" \")\n",
    "df_bos_satir_sil_kucuk_harf_sayi_sil"
   ]
  },
  {
   "cell_type": "code",
   "execution_count": null,
   "id": "f9e95d60-431b-4069-b1c6-d0117ddd3c85",
   "metadata": {
    "tags": []
   },
   "outputs": [],
   "source": [
    "#Noktalama işaretlerini silme"
   ]
  },
  {
   "cell_type": "code",
   "execution_count": 174,
   "id": "d8f16145-6b60-49e9-9910-c1bf27f4d8a0",
   "metadata": {},
   "outputs": [],
   "source": [
    "df_bos_satir_sil_kucuk_harf_sayi_nokta_sil=df_bos_satir_sil_kucuk_harf_sayi_sil.copy()"
   ]
  },
  {
   "cell_type": "code",
   "execution_count": 175,
   "id": "694a48bd-210c-48e5-bc47-f6605af3cdb6",
   "metadata": {
    "tags": []
   },
   "outputs": [
    {
     "name": "stderr",
     "output_type": "stream",
     "text": [
      "/var/folders/xg/30080dtj3glgwllkfn5zhjl40000gn/T/ipykernel_15059/564282879.py:1: FutureWarning: The default value of regex will change from True to False in a future version.\n",
      "  df_bos_satir_sil_kucuk_harf_sayi_nokta_sil[\"Text\"]=df_bos_satir_sil_kucuk_harf_sayi_nokta_sil[\"Text\"].str.replace(\"[^\\w\\s]\",\" \")\n"
     ]
    },
    {
     "data": {
      "text/html": [
       "<div>\n",
       "<style scoped>\n",
       "    .dataframe tbody tr th:only-of-type {\n",
       "        vertical-align: middle;\n",
       "    }\n",
       "\n",
       "    .dataframe tbody tr th {\n",
       "        vertical-align: top;\n",
       "    }\n",
       "\n",
       "    .dataframe thead th {\n",
       "        text-align: right;\n",
       "    }\n",
       "</style>\n",
       "<table border=\"1\" class=\"dataframe\">\n",
       "  <thead>\n",
       "    <tr style=\"text-align: right;\">\n",
       "      <th></th>\n",
       "      <th>Document_Number</th>\n",
       "      <th>Text</th>\n",
       "      <th>Label_Duygu</th>\n",
       "      <th>Label_urunhiz</th>\n",
       "    </tr>\n",
       "  </thead>\n",
       "  <tbody>\n",
       "    <tr>\n",
       "      <th>0</th>\n",
       "      <td>D1</td>\n",
       "      <td>öyle demekle olmaz adresi atıyorum yemek sepet...</td>\n",
       "      <td>3</td>\n",
       "      <td>6</td>\n",
       "    </tr>\n",
       "    <tr>\n",
       "      <th>1</th>\n",
       "      <td>D2</td>\n",
       "      <td>koskoca yemek sepetinde tatli siparis edebilce...</td>\n",
       "      <td>2</td>\n",
       "      <td>5</td>\n",
       "    </tr>\n",
       "    <tr>\n",
       "      <th>2</th>\n",
       "      <td>D4</td>\n",
       "      <td>2019 yemek sepetinden burç çok sipariş vermişt...</td>\n",
       "      <td>3</td>\n",
       "      <td>6</td>\n",
       "    </tr>\n",
       "    <tr>\n",
       "      <th>3</th>\n",
       "      <td>D5</td>\n",
       "      <td>getir yemek kullanmayın pismanliktir canlı des...</td>\n",
       "      <td>2</td>\n",
       "      <td>5</td>\n",
       "    </tr>\n",
       "    <tr>\n",
       "      <th>4</th>\n",
       "      <td>D7</td>\n",
       "      <td>yemek sepeti canlı yardıma yazdım hazırlanıyor...</td>\n",
       "      <td>2</td>\n",
       "      <td>5</td>\n",
       "    </tr>\n",
       "    <tr>\n",
       "      <th>...</th>\n",
       "      <td>...</td>\n",
       "      <td>...</td>\n",
       "      <td>...</td>\n",
       "      <td>...</td>\n",
       "    </tr>\n",
       "    <tr>\n",
       "      <th>21034</th>\n",
       "      <td>D35469</td>\n",
       "      <td>ben rejim yapam spor yapam zayıflayam ailem dö...</td>\n",
       "      <td>3</td>\n",
       "      <td>6</td>\n",
       "    </tr>\n",
       "    <tr>\n",
       "      <th>21035</th>\n",
       "      <td>D35470</td>\n",
       "      <td>bugün 3 kişi iş yerindeyiz yemek söyleyelim of...</td>\n",
       "      <td>3</td>\n",
       "      <td>5</td>\n",
       "    </tr>\n",
       "    <tr>\n",
       "      <th>21036</th>\n",
       "      <td>D35471</td>\n",
       "      <td>spora gittim geldim ettim</td>\n",
       "      <td>3</td>\n",
       "      <td>6</td>\n",
       "    </tr>\n",
       "    <tr>\n",
       "      <th>21037</th>\n",
       "      <td>D35472</td>\n",
       "      <td>valla hocam çok acıkmıştım yemek yapmaya çok ü...</td>\n",
       "      <td>3</td>\n",
       "      <td>6</td>\n",
       "    </tr>\n",
       "    <tr>\n",
       "      <th>21038</th>\n",
       "      <td>D35473</td>\n",
       "      <td>allah düşünsene yenge eve misafir cağırıyor üm...</td>\n",
       "      <td>1</td>\n",
       "      <td>6</td>\n",
       "    </tr>\n",
       "  </tbody>\n",
       "</table>\n",
       "<p>21039 rows × 4 columns</p>\n",
       "</div>"
      ],
      "text/plain": [
       "      Document_Number                                               Text  \\\n",
       "0                  D1  öyle demekle olmaz adresi atıyorum yemek sepet...   \n",
       "1                  D2  koskoca yemek sepetinde tatli siparis edebilce...   \n",
       "2                  D4  2019 yemek sepetinden burç çok sipariş vermişt...   \n",
       "3                  D5  getir yemek kullanmayın pismanliktir canlı des...   \n",
       "4                  D7  yemek sepeti canlı yardıma yazdım hazırlanıyor...   \n",
       "...               ...                                                ...   \n",
       "21034          D35469  ben rejim yapam spor yapam zayıflayam ailem dö...   \n",
       "21035          D35470  bugün 3 kişi iş yerindeyiz yemek söyleyelim of...   \n",
       "21036          D35471                          spora gittim geldim ettim   \n",
       "21037          D35472  valla hocam çok acıkmıştım yemek yapmaya çok ü...   \n",
       "21038          D35473  allah düşünsene yenge eve misafir cağırıyor üm...   \n",
       "\n",
       "       Label_Duygu  Label_urunhiz  \n",
       "0                3              6  \n",
       "1                2              5  \n",
       "2                3              6  \n",
       "3                2              5  \n",
       "4                2              5  \n",
       "...            ...            ...  \n",
       "21034            3              6  \n",
       "21035            3              5  \n",
       "21036            3              6  \n",
       "21037            3              6  \n",
       "21038            1              6  \n",
       "\n",
       "[21039 rows x 4 columns]"
      ]
     },
     "execution_count": 175,
     "metadata": {},
     "output_type": "execute_result"
    }
   ],
   "source": [
    "df_bos_satir_sil_kucuk_harf_sayi_nokta_sil[\"Text\"]=df_bos_satir_sil_kucuk_harf_sayi_nokta_sil[\"Text\"].str.replace(\"[^\\w\\s]\",\" \")\n",
    "df_bos_satir_sil_kucuk_harf_sayi_nokta_sil"
   ]
  },
  {
   "cell_type": "code",
   "execution_count": null,
   "id": "58910252-014b-41bc-be46-6fd793119dc1",
   "metadata": {},
   "outputs": [],
   "source": [
    "#Stopwords_durak kelimelerini silme"
   ]
  },
  {
   "cell_type": "code",
   "execution_count": 176,
   "id": "edfec983-0ef6-4a0a-9c0e-167a401e633d",
   "metadata": {},
   "outputs": [],
   "source": [
    "df_bos_satir_sil_kucuk_harf_sayi_nokta_sil_stopw=df_bos_satir_sil_kucuk_harf_sayi_nokta_sil.copy()"
   ]
  },
  {
   "cell_type": "code",
   "execution_count": 177,
   "id": "1c1e46ad-7ef1-4e51-98b7-4d8dc28a40a6",
   "metadata": {},
   "outputs": [
    {
     "data": {
      "text/html": [
       "<div>\n",
       "<style scoped>\n",
       "    .dataframe tbody tr th:only-of-type {\n",
       "        vertical-align: middle;\n",
       "    }\n",
       "\n",
       "    .dataframe tbody tr th {\n",
       "        vertical-align: top;\n",
       "    }\n",
       "\n",
       "    .dataframe thead th {\n",
       "        text-align: right;\n",
       "    }\n",
       "</style>\n",
       "<table border=\"1\" class=\"dataframe\">\n",
       "  <thead>\n",
       "    <tr style=\"text-align: right;\">\n",
       "      <th></th>\n",
       "      <th>Document_Number</th>\n",
       "      <th>Text</th>\n",
       "      <th>Label_Duygu</th>\n",
       "      <th>Label_urunhiz</th>\n",
       "    </tr>\n",
       "  </thead>\n",
       "  <tbody>\n",
       "    <tr>\n",
       "      <th>0</th>\n",
       "      <td>D1</td>\n",
       "      <td>öyle demekle olmaz adresi atıyorum yemek sepet...</td>\n",
       "      <td>3</td>\n",
       "      <td>6</td>\n",
       "    </tr>\n",
       "    <tr>\n",
       "      <th>1</th>\n",
       "      <td>D2</td>\n",
       "      <td>koskoca yemek sepetinde tatli siparis edebilce...</td>\n",
       "      <td>2</td>\n",
       "      <td>5</td>\n",
       "    </tr>\n",
       "    <tr>\n",
       "      <th>2</th>\n",
       "      <td>D4</td>\n",
       "      <td>2019 yemek sepetinden burç sipariş vermiştir b...</td>\n",
       "      <td>3</td>\n",
       "      <td>6</td>\n",
       "    </tr>\n",
       "    <tr>\n",
       "      <th>3</th>\n",
       "      <td>D5</td>\n",
       "      <td>getir yemek kullanmayın pismanliktir canlı des...</td>\n",
       "      <td>2</td>\n",
       "      <td>5</td>\n",
       "    </tr>\n",
       "    <tr>\n",
       "      <th>4</th>\n",
       "      <td>D7</td>\n",
       "      <td>yemek sepeti canlı yardıma yazdım hazırlanıyor...</td>\n",
       "      <td>2</td>\n",
       "      <td>5</td>\n",
       "    </tr>\n",
       "    <tr>\n",
       "      <th>...</th>\n",
       "      <td>...</td>\n",
       "      <td>...</td>\n",
       "      <td>...</td>\n",
       "      <td>...</td>\n",
       "    </tr>\n",
       "    <tr>\n",
       "      <th>21034</th>\n",
       "      <td>D35469</td>\n",
       "      <td>ben rejim yapam spor yapam zayıflayam ailem dö...</td>\n",
       "      <td>3</td>\n",
       "      <td>6</td>\n",
       "    </tr>\n",
       "    <tr>\n",
       "      <th>21035</th>\n",
       "      <td>D35470</td>\n",
       "      <td>bugün 3 kişi iş yerindeyiz yemek söyleyelim of...</td>\n",
       "      <td>3</td>\n",
       "      <td>5</td>\n",
       "    </tr>\n",
       "    <tr>\n",
       "      <th>21036</th>\n",
       "      <td>D35471</td>\n",
       "      <td>spora gittim geldim ettim</td>\n",
       "      <td>3</td>\n",
       "      <td>6</td>\n",
       "    </tr>\n",
       "    <tr>\n",
       "      <th>21037</th>\n",
       "      <td>D35472</td>\n",
       "      <td>valla hocam acıkmıştım yemek yapmaya üşeniyord...</td>\n",
       "      <td>3</td>\n",
       "      <td>6</td>\n",
       "    </tr>\n",
       "    <tr>\n",
       "      <th>21038</th>\n",
       "      <td>D35473</td>\n",
       "      <td>allah düşünsene yenge eve misafir cağırıyor üm...</td>\n",
       "      <td>1</td>\n",
       "      <td>6</td>\n",
       "    </tr>\n",
       "  </tbody>\n",
       "</table>\n",
       "<p>21039 rows × 4 columns</p>\n",
       "</div>"
      ],
      "text/plain": [
       "      Document_Number                                               Text  \\\n",
       "0                  D1  öyle demekle olmaz adresi atıyorum yemek sepet...   \n",
       "1                  D2  koskoca yemek sepetinde tatli siparis edebilce...   \n",
       "2                  D4  2019 yemek sepetinden burç sipariş vermiştir b...   \n",
       "3                  D5  getir yemek kullanmayın pismanliktir canlı des...   \n",
       "4                  D7  yemek sepeti canlı yardıma yazdım hazırlanıyor...   \n",
       "...               ...                                                ...   \n",
       "21034          D35469  ben rejim yapam spor yapam zayıflayam ailem dö...   \n",
       "21035          D35470  bugün 3 kişi iş yerindeyiz yemek söyleyelim of...   \n",
       "21036          D35471                          spora gittim geldim ettim   \n",
       "21037          D35472  valla hocam acıkmıştım yemek yapmaya üşeniyord...   \n",
       "21038          D35473  allah düşünsene yenge eve misafir cağırıyor üm...   \n",
       "\n",
       "       Label_Duygu  Label_urunhiz  \n",
       "0                3              6  \n",
       "1                2              5  \n",
       "2                3              6  \n",
       "3                2              5  \n",
       "4                2              5  \n",
       "...            ...            ...  \n",
       "21034            3              6  \n",
       "21035            3              5  \n",
       "21036            3              6  \n",
       "21037            3              6  \n",
       "21038            1              6  \n",
       "\n",
       "[21039 rows x 4 columns]"
      ]
     },
     "execution_count": 177,
     "metadata": {},
     "output_type": "execute_result"
    }
   ],
   "source": [
    "sw=stopwords.words(\"turkish\")\n",
    "df_bos_satir_sil_kucuk_harf_sayi_nokta_sil_stopw[\"Text\"]=df_bos_satir_sil_kucuk_harf_sayi_nokta_sil_stopw[\"Text\"].apply(lambda x: \" \".\n",
    "                                                                                                                        join(x for x in x.split() if x not in sw))\n",
    "df_bos_satir_sil_kucuk_harf_sayi_nokta_sil_stopw"
   ]
  },
  {
   "cell_type": "code",
   "execution_count": null,
   "id": "4490098a-c070-4e6c-9a27-9185ba99265a",
   "metadata": {},
   "outputs": [],
   "source": [
    "#Seyrekleştirme_50 den daha az sayıda geçen kelimeler verisetinden silinmiştir."
   ]
  },
  {
   "cell_type": "code",
   "execution_count": 178,
   "id": "dccf6227-7fb8-4c77-be87-564f0e7252e7",
   "metadata": {},
   "outputs": [],
   "source": [
    "df_bos_satir_sil_kucuk_harf_sayi_nokta_sil_stopw_seyrek=df_bos_satir_sil_kucuk_harf_sayi_nokta_sil_stopw.copy()"
   ]
  },
  {
   "cell_type": "code",
   "execution_count": 184,
   "id": "a9e44f31-a751-4931-9a49-9027e051a8c6",
   "metadata": {
    "tags": []
   },
   "outputs": [],
   "source": [
    "sil=pd.Series(\" \".join(df_bos_satir_sil_kucuk_harf_sayi_nokta_sil_stopw_seyrek[\"Text\"]).split()).value_counts()[-50:]"
   ]
  },
  {
   "cell_type": "code",
   "execution_count": 187,
   "id": "cd6dcd11-e461-4120-b8d6-9e59a856aad2",
   "metadata": {
    "collapsed": true,
    "jupyter": {
     "outputs_hidden": true
    },
    "tags": []
   },
   "outputs": [
    {
     "data": {
      "text/html": [
       "<div>\n",
       "<style scoped>\n",
       "    .dataframe tbody tr th:only-of-type {\n",
       "        vertical-align: middle;\n",
       "    }\n",
       "\n",
       "    .dataframe tbody tr th {\n",
       "        vertical-align: top;\n",
       "    }\n",
       "\n",
       "    .dataframe thead th {\n",
       "        text-align: right;\n",
       "    }\n",
       "</style>\n",
       "<table border=\"1\" class=\"dataframe\">\n",
       "  <thead>\n",
       "    <tr style=\"text-align: right;\">\n",
       "      <th></th>\n",
       "      <th>Document_Number</th>\n",
       "      <th>Text</th>\n",
       "      <th>Label_Duygu</th>\n",
       "      <th>Label_urunhiz</th>\n",
       "    </tr>\n",
       "  </thead>\n",
       "  <tbody>\n",
       "    <tr>\n",
       "      <th>0</th>\n",
       "      <td>D1</td>\n",
       "      <td>öyle demekle olmaz adresi atıyorum yemek sepet...</td>\n",
       "      <td>3</td>\n",
       "      <td>6</td>\n",
       "    </tr>\n",
       "    <tr>\n",
       "      <th>1</th>\n",
       "      <td>D2</td>\n",
       "      <td>koskoca yemek sepetinde tatli siparis edebilce...</td>\n",
       "      <td>2</td>\n",
       "      <td>5</td>\n",
       "    </tr>\n",
       "    <tr>\n",
       "      <th>2</th>\n",
       "      <td>D4</td>\n",
       "      <td>2019 yemek sepetinden burç sipariş vermiştir b...</td>\n",
       "      <td>3</td>\n",
       "      <td>6</td>\n",
       "    </tr>\n",
       "    <tr>\n",
       "      <th>3</th>\n",
       "      <td>D5</td>\n",
       "      <td>getir yemek kullanmayın pismanliktir canlı des...</td>\n",
       "      <td>2</td>\n",
       "      <td>5</td>\n",
       "    </tr>\n",
       "    <tr>\n",
       "      <th>4</th>\n",
       "      <td>D7</td>\n",
       "      <td>yemek sepeti canlı yardıma yazdım hazırlanıyor...</td>\n",
       "      <td>2</td>\n",
       "      <td>5</td>\n",
       "    </tr>\n",
       "    <tr>\n",
       "      <th>...</th>\n",
       "      <td>...</td>\n",
       "      <td>...</td>\n",
       "      <td>...</td>\n",
       "      <td>...</td>\n",
       "    </tr>\n",
       "    <tr>\n",
       "      <th>21034</th>\n",
       "      <td>D35469</td>\n",
       "      <td>ben rejim yapam spor yapam zayıflayam ailem dö...</td>\n",
       "      <td>3</td>\n",
       "      <td>6</td>\n",
       "    </tr>\n",
       "    <tr>\n",
       "      <th>21035</th>\n",
       "      <td>D35470</td>\n",
       "      <td>bugün 3 kişi iş yerindeyiz yemek söyleyelim of...</td>\n",
       "      <td>3</td>\n",
       "      <td>5</td>\n",
       "    </tr>\n",
       "    <tr>\n",
       "      <th>21036</th>\n",
       "      <td>D35471</td>\n",
       "      <td>spora gittim geldim ettim</td>\n",
       "      <td>3</td>\n",
       "      <td>6</td>\n",
       "    </tr>\n",
       "    <tr>\n",
       "      <th>21037</th>\n",
       "      <td>D35472</td>\n",
       "      <td>valla hocam acıkmıştım yemek yapmaya üşeniyord...</td>\n",
       "      <td>3</td>\n",
       "      <td>6</td>\n",
       "    </tr>\n",
       "    <tr>\n",
       "      <th>21038</th>\n",
       "      <td>D35473</td>\n",
       "      <td>allah düşünsene yenge eve misafir cağırıyor üm...</td>\n",
       "      <td>1</td>\n",
       "      <td>6</td>\n",
       "    </tr>\n",
       "  </tbody>\n",
       "</table>\n",
       "<p>21039 rows × 4 columns</p>\n",
       "</div>"
      ],
      "text/plain": [
       "      Document_Number                                               Text  \\\n",
       "0                  D1  öyle demekle olmaz adresi atıyorum yemek sepet...   \n",
       "1                  D2  koskoca yemek sepetinde tatli siparis edebilce...   \n",
       "2                  D4  2019 yemek sepetinden burç sipariş vermiştir b...   \n",
       "3                  D5  getir yemek kullanmayın pismanliktir canlı des...   \n",
       "4                  D7  yemek sepeti canlı yardıma yazdım hazırlanıyor...   \n",
       "...               ...                                                ...   \n",
       "21034          D35469  ben rejim yapam spor yapam zayıflayam ailem dö...   \n",
       "21035          D35470  bugün 3 kişi iş yerindeyiz yemek söyleyelim of...   \n",
       "21036          D35471                          spora gittim geldim ettim   \n",
       "21037          D35472  valla hocam acıkmıştım yemek yapmaya üşeniyord...   \n",
       "21038          D35473  allah düşünsene yenge eve misafir cağırıyor üm...   \n",
       "\n",
       "       Label_Duygu  Label_urunhiz  \n",
       "0                3              6  \n",
       "1                2              5  \n",
       "2                3              6  \n",
       "3                2              5  \n",
       "4                2              5  \n",
       "...            ...            ...  \n",
       "21034            3              6  \n",
       "21035            3              5  \n",
       "21036            3              6  \n",
       "21037            3              6  \n",
       "21038            1              6  \n",
       "\n",
       "[21039 rows x 4 columns]"
      ]
     },
     "execution_count": 187,
     "metadata": {},
     "output_type": "execute_result"
    }
   ],
   "source": [
    "df_bos_satir_sil_kucuk_harf_sayi_nokta_sil_stopw_seyrek[\"Text\"]=df_bos_satir_sil_kucuk_harf_sayi_nokta_sil_stopw_seyrek[\"Text\"].apply(lambda x:\" \".join (\n",
    "    x for x in x.split() if x not in sil))\n",
    "df_bos_satir_sil_kucuk_harf_sayi_nokta_sil_stopw_seyrek"
   ]
  },
  {
   "cell_type": "code",
   "execution_count": null,
   "id": "5425b618-fcf2-45bf-b8ac-576aeb433fe8",
   "metadata": {},
   "outputs": [],
   "source": [
    "#Metin temizliği tamamlandı"
   ]
  },
  {
   "cell_type": "code",
   "execution_count": 188,
   "id": "9598d83d-f588-4c90-8bfc-256d908d42c9",
   "metadata": {
    "tags": []
   },
   "outputs": [
    {
     "data": {
      "text/html": [
       "<div>\n",
       "<style scoped>\n",
       "    .dataframe tbody tr th:only-of-type {\n",
       "        vertical-align: middle;\n",
       "    }\n",
       "\n",
       "    .dataframe tbody tr th {\n",
       "        vertical-align: top;\n",
       "    }\n",
       "\n",
       "    .dataframe thead th {\n",
       "        text-align: right;\n",
       "    }\n",
       "</style>\n",
       "<table border=\"1\" class=\"dataframe\">\n",
       "  <thead>\n",
       "    <tr style=\"text-align: right;\">\n",
       "      <th></th>\n",
       "      <th>Document_Number</th>\n",
       "      <th>Text</th>\n",
       "      <th>Label_Duygu</th>\n",
       "      <th>Label_urunhiz</th>\n",
       "    </tr>\n",
       "  </thead>\n",
       "  <tbody>\n",
       "    <tr>\n",
       "      <th>0</th>\n",
       "      <td>D1</td>\n",
       "      <td>öyle demekle olmaz adresi atıyorum yemek sepet...</td>\n",
       "      <td>3</td>\n",
       "      <td>6</td>\n",
       "    </tr>\n",
       "    <tr>\n",
       "      <th>1</th>\n",
       "      <td>D2</td>\n",
       "      <td>koskoca yemek sepetinde tatli siparis edebilce...</td>\n",
       "      <td>2</td>\n",
       "      <td>5</td>\n",
       "    </tr>\n",
       "    <tr>\n",
       "      <th>2</th>\n",
       "      <td>D4</td>\n",
       "      <td>2019 yemek sepetinden burç sipariş vermiştir b...</td>\n",
       "      <td>3</td>\n",
       "      <td>6</td>\n",
       "    </tr>\n",
       "    <tr>\n",
       "      <th>3</th>\n",
       "      <td>D5</td>\n",
       "      <td>getir yemek kullanmayın pismanliktir canlı des...</td>\n",
       "      <td>2</td>\n",
       "      <td>5</td>\n",
       "    </tr>\n",
       "    <tr>\n",
       "      <th>4</th>\n",
       "      <td>D7</td>\n",
       "      <td>yemek sepeti canlı yardıma yazdım hazırlanıyor...</td>\n",
       "      <td>2</td>\n",
       "      <td>5</td>\n",
       "    </tr>\n",
       "    <tr>\n",
       "      <th>...</th>\n",
       "      <td>...</td>\n",
       "      <td>...</td>\n",
       "      <td>...</td>\n",
       "      <td>...</td>\n",
       "    </tr>\n",
       "    <tr>\n",
       "      <th>21034</th>\n",
       "      <td>D35469</td>\n",
       "      <td>ben rejim yapam spor yapam zayıflayam ailem dö...</td>\n",
       "      <td>3</td>\n",
       "      <td>6</td>\n",
       "    </tr>\n",
       "    <tr>\n",
       "      <th>21035</th>\n",
       "      <td>D35470</td>\n",
       "      <td>bugün 3 kişi iş yerindeyiz yemek söyleyelim of...</td>\n",
       "      <td>3</td>\n",
       "      <td>5</td>\n",
       "    </tr>\n",
       "    <tr>\n",
       "      <th>21036</th>\n",
       "      <td>D35471</td>\n",
       "      <td>spora gittim geldim ettim</td>\n",
       "      <td>3</td>\n",
       "      <td>6</td>\n",
       "    </tr>\n",
       "    <tr>\n",
       "      <th>21037</th>\n",
       "      <td>D35472</td>\n",
       "      <td>valla hocam acıkmıştım yemek yapmaya üşeniyord...</td>\n",
       "      <td>3</td>\n",
       "      <td>6</td>\n",
       "    </tr>\n",
       "    <tr>\n",
       "      <th>21038</th>\n",
       "      <td>D35473</td>\n",
       "      <td>allah düşünsene yenge eve misafir cağırıyor üm...</td>\n",
       "      <td>1</td>\n",
       "      <td>6</td>\n",
       "    </tr>\n",
       "  </tbody>\n",
       "</table>\n",
       "<p>21039 rows × 4 columns</p>\n",
       "</div>"
      ],
      "text/plain": [
       "      Document_Number                                               Text  \\\n",
       "0                  D1  öyle demekle olmaz adresi atıyorum yemek sepet...   \n",
       "1                  D2  koskoca yemek sepetinde tatli siparis edebilce...   \n",
       "2                  D4  2019 yemek sepetinden burç sipariş vermiştir b...   \n",
       "3                  D5  getir yemek kullanmayın pismanliktir canlı des...   \n",
       "4                  D7  yemek sepeti canlı yardıma yazdım hazırlanıyor...   \n",
       "...               ...                                                ...   \n",
       "21034          D35469  ben rejim yapam spor yapam zayıflayam ailem dö...   \n",
       "21035          D35470  bugün 3 kişi iş yerindeyiz yemek söyleyelim of...   \n",
       "21036          D35471                          spora gittim geldim ettim   \n",
       "21037          D35472  valla hocam acıkmıştım yemek yapmaya üşeniyord...   \n",
       "21038          D35473  allah düşünsene yenge eve misafir cağırıyor üm...   \n",
       "\n",
       "       Label_Duygu  Label_urunhiz  \n",
       "0                3              6  \n",
       "1                2              5  \n",
       "2                3              6  \n",
       "3                2              5  \n",
       "4                2              5  \n",
       "...            ...            ...  \n",
       "21034            3              6  \n",
       "21035            3              5  \n",
       "21036            3              6  \n",
       "21037            3              6  \n",
       "21038            1              6  \n",
       "\n",
       "[21039 rows x 4 columns]"
      ]
     },
     "execution_count": 188,
     "metadata": {},
     "output_type": "execute_result"
    }
   ],
   "source": [
    "df_temiz=df_bos_satir_sil_kucuk_harf_sayi_nokta_sil_stopw_seyrek.copy()\n",
    "df_temiz"
   ]
  },
  {
   "cell_type": "code",
   "execution_count": null,
   "id": "c34c00a8-414f-41ab-8f49-60e4f629978e",
   "metadata": {},
   "outputs": [],
   "source": [
    "#Lemmetization"
   ]
  },
  {
   "cell_type": "code",
   "execution_count": 295,
   "id": "d822b0cf-91da-48a9-8049-85af92e050ee",
   "metadata": {
    "tags": []
   },
   "outputs": [],
   "source": [
    "df_kok_deneme=df_temiz.copy()\n",
    "df_kok_deneme_sonuc=df_kok_deneme.copy()"
   ]
  },
  {
   "cell_type": "code",
   "execution_count": 305,
   "id": "2a762042-8033-48b2-a214-5661a9e6c00d",
   "metadata": {},
   "outputs": [],
   "source": [
    "df_kok_deneme_sonuc[\"Text\"]=df_kok_deneme_sonuc[\"Text\"].apply(lambda x:\" \".join([Word(i).lemmatize() for i in x.split()]))"
   ]
  },
  {
   "cell_type": "code",
   "execution_count": 306,
   "id": "297decb3-0c14-42d0-a7e9-5844278a41ce",
   "metadata": {},
   "outputs": [
    {
     "data": {
      "text/html": [
       "<div>\n",
       "<style scoped>\n",
       "    .dataframe tbody tr th:only-of-type {\n",
       "        vertical-align: middle;\n",
       "    }\n",
       "\n",
       "    .dataframe tbody tr th {\n",
       "        vertical-align: top;\n",
       "    }\n",
       "\n",
       "    .dataframe thead th {\n",
       "        text-align: right;\n",
       "    }\n",
       "</style>\n",
       "<table border=\"1\" class=\"dataframe\">\n",
       "  <thead>\n",
       "    <tr style=\"text-align: right;\">\n",
       "      <th></th>\n",
       "      <th>Document_Number</th>\n",
       "      <th>Text</th>\n",
       "      <th>Label_Duygu</th>\n",
       "      <th>Label_urunhiz</th>\n",
       "    </tr>\n",
       "  </thead>\n",
       "  <tbody>\n",
       "    <tr>\n",
       "      <th>0</th>\n",
       "      <td>D1</td>\n",
       "      <td>öyle demekle olmaz adresi atıyorum yemek sepet...</td>\n",
       "      <td>3</td>\n",
       "      <td>6</td>\n",
       "    </tr>\n",
       "    <tr>\n",
       "      <th>1</th>\n",
       "      <td>D2</td>\n",
       "      <td>koskoca yemek sepetinde tatli siparis edebilce...</td>\n",
       "      <td>2</td>\n",
       "      <td>5</td>\n",
       "    </tr>\n",
       "    <tr>\n",
       "      <th>2</th>\n",
       "      <td>D4</td>\n",
       "      <td>2019 yemek sepetinden burç sipariş vermiştir b...</td>\n",
       "      <td>3</td>\n",
       "      <td>6</td>\n",
       "    </tr>\n",
       "    <tr>\n",
       "      <th>3</th>\n",
       "      <td>D5</td>\n",
       "      <td>getir yemek kullanmayın pismanliktir canlı des...</td>\n",
       "      <td>2</td>\n",
       "      <td>5</td>\n",
       "    </tr>\n",
       "    <tr>\n",
       "      <th>4</th>\n",
       "      <td>D7</td>\n",
       "      <td>yemek sepeti canlı yardıma yazdım hazırlanıyor...</td>\n",
       "      <td>2</td>\n",
       "      <td>5</td>\n",
       "    </tr>\n",
       "    <tr>\n",
       "      <th>...</th>\n",
       "      <td>...</td>\n",
       "      <td>...</td>\n",
       "      <td>...</td>\n",
       "      <td>...</td>\n",
       "    </tr>\n",
       "    <tr>\n",
       "      <th>21034</th>\n",
       "      <td>D35469</td>\n",
       "      <td>ben rejim yapam spor yapam zayıflayam ailem dö...</td>\n",
       "      <td>3</td>\n",
       "      <td>6</td>\n",
       "    </tr>\n",
       "    <tr>\n",
       "      <th>21035</th>\n",
       "      <td>D35470</td>\n",
       "      <td>bugün 3 kişi iş yerindeyiz yemek söyleyelim of...</td>\n",
       "      <td>3</td>\n",
       "      <td>5</td>\n",
       "    </tr>\n",
       "    <tr>\n",
       "      <th>21036</th>\n",
       "      <td>D35471</td>\n",
       "      <td>spora gittim geldim ettim</td>\n",
       "      <td>3</td>\n",
       "      <td>6</td>\n",
       "    </tr>\n",
       "    <tr>\n",
       "      <th>21037</th>\n",
       "      <td>D35472</td>\n",
       "      <td>valla hocam acıkmıştım yemek yapmaya üşeniyord...</td>\n",
       "      <td>3</td>\n",
       "      <td>6</td>\n",
       "    </tr>\n",
       "    <tr>\n",
       "      <th>21038</th>\n",
       "      <td>D35473</td>\n",
       "      <td>allah düşünsene yenge eve misafir cağırıyor üm...</td>\n",
       "      <td>1</td>\n",
       "      <td>6</td>\n",
       "    </tr>\n",
       "  </tbody>\n",
       "</table>\n",
       "<p>21039 rows × 4 columns</p>\n",
       "</div>"
      ],
      "text/plain": [
       "      Document_Number                                               Text  \\\n",
       "0                  D1  öyle demekle olmaz adresi atıyorum yemek sepet...   \n",
       "1                  D2  koskoca yemek sepetinde tatli siparis edebilce...   \n",
       "2                  D4  2019 yemek sepetinden burç sipariş vermiştir b...   \n",
       "3                  D5  getir yemek kullanmayın pismanliktir canlı des...   \n",
       "4                  D7  yemek sepeti canlı yardıma yazdım hazırlanıyor...   \n",
       "...               ...                                                ...   \n",
       "21034          D35469  ben rejim yapam spor yapam zayıflayam ailem dö...   \n",
       "21035          D35470  bugün 3 kişi iş yerindeyiz yemek söyleyelim of...   \n",
       "21036          D35471                          spora gittim geldim ettim   \n",
       "21037          D35472  valla hocam acıkmıştım yemek yapmaya üşeniyord...   \n",
       "21038          D35473  allah düşünsene yenge eve misafir cağırıyor üm...   \n",
       "\n",
       "       Label_Duygu  Label_urunhiz  \n",
       "0                3              6  \n",
       "1                2              5  \n",
       "2                3              6  \n",
       "3                2              5  \n",
       "4                2              5  \n",
       "...            ...            ...  \n",
       "21034            3              6  \n",
       "21035            3              5  \n",
       "21036            3              6  \n",
       "21037            3              6  \n",
       "21038            1              6  \n",
       "\n",
       "[21039 rows x 4 columns]"
      ]
     },
     "execution_count": 306,
     "metadata": {},
     "output_type": "execute_result"
    }
   ],
   "source": [
    "df_kok_deneme_sonuc"
   ]
  },
  {
   "cell_type": "code",
   "execution_count": null,
   "id": "9cc3d3d0-d4d7-44d7-9e5a-f61414d37604",
   "metadata": {
    "tags": []
   },
   "outputs": [],
   "source": [
    "#Cümleleri kelimelere ayırma"
   ]
  },
  {
   "cell_type": "code",
   "execution_count": 310,
   "id": "7ec178a4-dda0-4297-9342-6a7a793a905b",
   "metadata": {},
   "outputs": [],
   "source": [
    "df_kelimelere_ayrilmis=df_kok_deneme_sonuc.copy()"
   ]
  },
  {
   "cell_type": "code",
   "execution_count": 311,
   "id": "a50d895e-f15f-4a7f-b40b-351a5860369a",
   "metadata": {},
   "outputs": [],
   "source": [
    "df_kelimelere_ayrilmis[\"Text\"]=df_kelimelere_ayrilmis[\"Text\"].apply(lambda x: TextBlob(x).words)"
   ]
  },
  {
   "cell_type": "code",
   "execution_count": 312,
   "id": "04eabbe9-f809-4a30-abc0-06aa48125832",
   "metadata": {},
   "outputs": [
    {
     "data": {
      "text/html": [
       "<div>\n",
       "<style scoped>\n",
       "    .dataframe tbody tr th:only-of-type {\n",
       "        vertical-align: middle;\n",
       "    }\n",
       "\n",
       "    .dataframe tbody tr th {\n",
       "        vertical-align: top;\n",
       "    }\n",
       "\n",
       "    .dataframe thead th {\n",
       "        text-align: right;\n",
       "    }\n",
       "</style>\n",
       "<table border=\"1\" class=\"dataframe\">\n",
       "  <thead>\n",
       "    <tr style=\"text-align: right;\">\n",
       "      <th></th>\n",
       "      <th>Document_Number</th>\n",
       "      <th>Text</th>\n",
       "      <th>Label_Duygu</th>\n",
       "      <th>Label_urunhiz</th>\n",
       "    </tr>\n",
       "  </thead>\n",
       "  <tbody>\n",
       "    <tr>\n",
       "      <th>0</th>\n",
       "      <td>D1</td>\n",
       "      <td>[öyle, demekle, olmaz, adresi, atıyorum, yemek...</td>\n",
       "      <td>3</td>\n",
       "      <td>6</td>\n",
       "    </tr>\n",
       "    <tr>\n",
       "      <th>1</th>\n",
       "      <td>D2</td>\n",
       "      <td>[koskoca, yemek, sepetinde, tatli, siparis, ed...</td>\n",
       "      <td>2</td>\n",
       "      <td>5</td>\n",
       "    </tr>\n",
       "    <tr>\n",
       "      <th>2</th>\n",
       "      <td>D4</td>\n",
       "      <td>[2019, yemek, sepetinden, burç, sipariş, vermi...</td>\n",
       "      <td>3</td>\n",
       "      <td>6</td>\n",
       "    </tr>\n",
       "    <tr>\n",
       "      <th>3</th>\n",
       "      <td>D5</td>\n",
       "      <td>[getir, yemek, kullanmayın, pismanliktir, canl...</td>\n",
       "      <td>2</td>\n",
       "      <td>5</td>\n",
       "    </tr>\n",
       "    <tr>\n",
       "      <th>4</th>\n",
       "      <td>D7</td>\n",
       "      <td>[yemek, sepeti, canlı, yardıma, yazdım, hazırl...</td>\n",
       "      <td>2</td>\n",
       "      <td>5</td>\n",
       "    </tr>\n",
       "    <tr>\n",
       "      <th>...</th>\n",
       "      <td>...</td>\n",
       "      <td>...</td>\n",
       "      <td>...</td>\n",
       "      <td>...</td>\n",
       "    </tr>\n",
       "    <tr>\n",
       "      <th>21034</th>\n",
       "      <td>D35469</td>\n",
       "      <td>[ben, rejim, yapam, spor, yapam, zayıflayam, a...</td>\n",
       "      <td>3</td>\n",
       "      <td>6</td>\n",
       "    </tr>\n",
       "    <tr>\n",
       "      <th>21035</th>\n",
       "      <td>D35470</td>\n",
       "      <td>[bugün, 3, kişi, iş, yerindeyiz, yemek, söyley...</td>\n",
       "      <td>3</td>\n",
       "      <td>5</td>\n",
       "    </tr>\n",
       "    <tr>\n",
       "      <th>21036</th>\n",
       "      <td>D35471</td>\n",
       "      <td>[spora, gittim, geldim, ettim]</td>\n",
       "      <td>3</td>\n",
       "      <td>6</td>\n",
       "    </tr>\n",
       "    <tr>\n",
       "      <th>21037</th>\n",
       "      <td>D35472</td>\n",
       "      <td>[valla, hocam, acıkmıştım, yemek, yapmaya, üşe...</td>\n",
       "      <td>3</td>\n",
       "      <td>6</td>\n",
       "    </tr>\n",
       "    <tr>\n",
       "      <th>21038</th>\n",
       "      <td>D35473</td>\n",
       "      <td>[allah, düşünsene, yenge, eve, misafir, cağırı...</td>\n",
       "      <td>1</td>\n",
       "      <td>6</td>\n",
       "    </tr>\n",
       "  </tbody>\n",
       "</table>\n",
       "<p>21039 rows × 4 columns</p>\n",
       "</div>"
      ],
      "text/plain": [
       "      Document_Number                                               Text  \\\n",
       "0                  D1  [öyle, demekle, olmaz, adresi, atıyorum, yemek...   \n",
       "1                  D2  [koskoca, yemek, sepetinde, tatli, siparis, ed...   \n",
       "2                  D4  [2019, yemek, sepetinden, burç, sipariş, vermi...   \n",
       "3                  D5  [getir, yemek, kullanmayın, pismanliktir, canl...   \n",
       "4                  D7  [yemek, sepeti, canlı, yardıma, yazdım, hazırl...   \n",
       "...               ...                                                ...   \n",
       "21034          D35469  [ben, rejim, yapam, spor, yapam, zayıflayam, a...   \n",
       "21035          D35470  [bugün, 3, kişi, iş, yerindeyiz, yemek, söyley...   \n",
       "21036          D35471                     [spora, gittim, geldim, ettim]   \n",
       "21037          D35472  [valla, hocam, acıkmıştım, yemek, yapmaya, üşe...   \n",
       "21038          D35473  [allah, düşünsene, yenge, eve, misafir, cağırı...   \n",
       "\n",
       "       Label_Duygu  Label_urunhiz  \n",
       "0                3              6  \n",
       "1                2              5  \n",
       "2                3              6  \n",
       "3                2              5  \n",
       "4                2              5  \n",
       "...            ...            ...  \n",
       "21034            3              6  \n",
       "21035            3              5  \n",
       "21036            3              6  \n",
       "21037            3              6  \n",
       "21038            1              6  \n",
       "\n",
       "[21039 rows x 4 columns]"
      ]
     },
     "execution_count": 312,
     "metadata": {},
     "output_type": "execute_result"
    }
   ],
   "source": [
    "df_kelimelere_ayrilmis"
   ]
  },
  {
   "cell_type": "code",
   "execution_count": null,
   "id": "33c8892b-5495-40e8-a56e-3dca12d0b307",
   "metadata": {},
   "outputs": [],
   "source": [
    "#Kelimeleri kökleştirme"
   ]
  },
  {
   "cell_type": "code",
   "execution_count": null,
   "id": "2024eac8-0f66-4e29-9121-c7e7f05a6552",
   "metadata": {
    "tags": []
   },
   "outputs": [],
   "source": []
  },
  {
   "cell_type": "code",
   "execution_count": null,
   "id": "a299c1ba-d59a-44ff-9637-8741f71d3528",
   "metadata": {},
   "outputs": [],
   "source": []
  },
  {
   "cell_type": "code",
   "execution_count": null,
   "id": "0b2f098a-e979-46ea-adbe-208c4b2619dd",
   "metadata": {},
   "outputs": [],
   "source": []
  },
  {
   "cell_type": "code",
   "execution_count": null,
   "id": "8aa11c56-b6e1-4127-90fa-d4da5bb39957",
   "metadata": {},
   "outputs": [],
   "source": []
  },
  {
   "cell_type": "code",
   "execution_count": null,
   "id": "dc586cce-262d-4e4d-aac3-959b77e19900",
   "metadata": {},
   "outputs": [],
   "source": []
  },
  {
   "cell_type": "code",
   "execution_count": null,
   "id": "e659e501-2ec0-4438-be9c-5f28555d37c9",
   "metadata": {},
   "outputs": [],
   "source": []
  },
  {
   "cell_type": "code",
   "execution_count": null,
   "id": "cc213439-fc2c-4255-b5a3-5cf112d2c98a",
   "metadata": {},
   "outputs": [],
   "source": []
  },
  {
   "cell_type": "code",
   "execution_count": null,
   "id": "acb3bd61-6923-44fe-a74c-642cc73a2867",
   "metadata": {},
   "outputs": [],
   "source": []
  },
  {
   "cell_type": "code",
   "execution_count": null,
   "id": "63f3b393-c4f7-4c33-95a3-6583a8acd8ae",
   "metadata": {},
   "outputs": [],
   "source": []
  },
  {
   "cell_type": "code",
   "execution_count": null,
   "id": "25eae701-5999-4d11-a1d3-0d99480e7902",
   "metadata": {},
   "outputs": [],
   "source": []
  },
  {
   "cell_type": "code",
   "execution_count": null,
   "id": "e0372b5b-ad0a-46d3-92b2-821bd1e37dc1",
   "metadata": {},
   "outputs": [],
   "source": []
  },
  {
   "cell_type": "code",
   "execution_count": null,
   "id": "dfb49a60-307f-44c2-b073-5693112593f9",
   "metadata": {},
   "outputs": [],
   "source": []
  },
  {
   "cell_type": "code",
   "execution_count": null,
   "id": "778de112-fa72-48c1-a4dd-0cb2df81da49",
   "metadata": {},
   "outputs": [],
   "source": []
  },
  {
   "cell_type": "code",
   "execution_count": null,
   "id": "35655e9f-f663-4c7e-9233-d33e0d49dc96",
   "metadata": {},
   "outputs": [],
   "source": []
  },
  {
   "cell_type": "code",
   "execution_count": null,
   "id": "9079aa8f-1306-4aed-beae-2fdbf91e38d0",
   "metadata": {
    "tags": []
   },
   "outputs": [],
   "source": []
  }
 ],
 "metadata": {
  "kernelspec": {
   "display_name": "Python 3 (ipykernel)",
   "language": "python",
   "name": "python3"
  },
  "language_info": {
   "codemirror_mode": {
    "name": "ipython",
    "version": 3
   },
   "file_extension": ".py",
   "mimetype": "text/x-python",
   "name": "python",
   "nbconvert_exporter": "python",
   "pygments_lexer": "ipython3",
   "version": "3.11.5"
  }
 },
 "nbformat": 4,
 "nbformat_minor": 5
}
