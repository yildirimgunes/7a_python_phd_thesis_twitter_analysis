{
 "cells": [
  {
   "cell_type": "code",
   "execution_count": 1,
   "id": "3766a90c-58f8-4a98-8156-958da8ab2778",
   "metadata": {
    "tags": []
   },
   "outputs": [],
   "source": [
    "import networkx as nx"
   ]
  },
  {
   "cell_type": "code",
   "execution_count": 2,
   "id": "53c49428-0506-4652-bb1e-035b0d0a74c7",
   "metadata": {
    "tags": []
   },
   "outputs": [],
   "source": [
    "import matplotlib.pyplot as plt"
   ]
  },
  {
   "cell_type": "code",
   "execution_count": 99,
   "id": "84151808-f7e9-4455-9dea-0e38889f51c3",
   "metadata": {
    "tags": []
   },
   "outputs": [],
   "source": [
    "#Hande_Koren_Fast_Multiscale_algoritması ile network analiz_grafiğiçizebilmek için\n",
    "#indirilmesi gereken kütüphane\n"
   ]
  },
  {
   "cell_type": "code",
   "execution_count": 118,
   "id": "f528baa4-986b-483e-a1dc-0781c1663886",
   "metadata": {
    "tags": []
   },
   "outputs": [
    {
     "ename": "SyntaxError",
     "evalue": "invalid syntax (4078564529.py, line 1)",
     "output_type": "error",
     "traceback": [
      "\u001b[0;36m  Cell \u001b[0;32mIn[118], line 1\u001b[0;36m\u001b[0m\n\u001b[0;31m    brew install graphviz\u001b[0m\n\u001b[0m         ^\u001b[0m\n\u001b[0;31mSyntaxError\u001b[0m\u001b[0;31m:\u001b[0m invalid syntax\n"
     ]
    }
   ],
   "source": [
    "brew install graphviz\n",
    "python -m pip install \\\n",
    "    --global-option=build_ext \\\n",
    "    --global-option=\"-I$(brew --prefix graphviz)/include/\" \\\n",
    "    --global-option=\"-L$(brew --prefix graphviz)/lib/\" \\\n",
    "    pygraphviz"
   ]
  },
  {
   "cell_type": "code",
   "execution_count": 120,
   "id": "bafa1185-4f50-4727-9b2c-6edd3e4af457",
   "metadata": {
    "tags": []
   },
   "outputs": [
    {
     "ename": "SyntaxError",
     "evalue": "invalid syntax (573023804.py, line 1)",
     "output_type": "error",
     "traceback": [
      "\u001b[0;36m  Cell \u001b[0;32mIn[120], line 1\u001b[0;36m\u001b[0m\n\u001b[0;31m    conda update conda\u001b[0m\n\u001b[0m          ^\u001b[0m\n\u001b[0;31mSyntaxError\u001b[0m\u001b[0;31m:\u001b[0m invalid syntax\n"
     ]
    }
   ],
   "source": [
    "conda update conda\n",
    "conda create --name myenv\n",
    "conda activate myenv\n",
    "conda install -c conda-forge graphviz"
   ]
  },
  {
   "cell_type": "code",
   "execution_count": null,
   "id": "7902e72e-ead7-494a-a8f0-5df7264fb606",
   "metadata": {},
   "outputs": [],
   "source": []
  },
  {
   "cell_type": "code",
   "execution_count": 65,
   "id": "4e4d24e6-0589-4987-aed5-c4025e63947e",
   "metadata": {
    "tags": []
   },
   "outputs": [
    {
     "name": "stdout",
     "output_type": "stream",
     "text": [
      "Requirement already satisfied: statsmodels in /Users/yildirimgunes/anaconda3/lib/python3.11/site-packages (0.14.0)\n",
      "Requirement already satisfied: numpy>=1.18 in /Users/yildirimgunes/anaconda3/lib/python3.11/site-packages (from statsmodels) (1.24.3)\n",
      "Requirement already satisfied: scipy!=1.9.2,>=1.4 in /Users/yildirimgunes/anaconda3/lib/python3.11/site-packages (from statsmodels) (1.11.1)\n",
      "Requirement already satisfied: pandas>=1.0 in /Users/yildirimgunes/anaconda3/lib/python3.11/site-packages (from statsmodels) (2.0.3)\n",
      "Requirement already satisfied: patsy>=0.5.2 in /Users/yildirimgunes/anaconda3/lib/python3.11/site-packages (from statsmodels) (0.5.3)\n",
      "Requirement already satisfied: packaging>=21.3 in /Users/yildirimgunes/anaconda3/lib/python3.11/site-packages (from statsmodels) (23.1)\n",
      "Requirement already satisfied: python-dateutil>=2.8.2 in /Users/yildirimgunes/anaconda3/lib/python3.11/site-packages (from pandas>=1.0->statsmodels) (2.8.2)\n",
      "Requirement already satisfied: pytz>=2020.1 in /Users/yildirimgunes/anaconda3/lib/python3.11/site-packages (from pandas>=1.0->statsmodels) (2023.3.post1)\n",
      "Requirement already satisfied: tzdata>=2022.1 in /Users/yildirimgunes/anaconda3/lib/python3.11/site-packages (from pandas>=1.0->statsmodels) (2023.3)\n",
      "Requirement already satisfied: six in /Users/yildirimgunes/anaconda3/lib/python3.11/site-packages (from patsy>=0.5.2->statsmodels) (1.16.0)\n"
     ]
    }
   ],
   "source": [
    "!pip install statsmodels\n",
    "import numpy as np\n",
    "import pandas as pd\n",
    "import statsmodels.api as sm\n",
    "from statsmodels.formula.api import ols"
   ]
  },
  {
   "cell_type": "code",
   "execution_count": 12,
   "id": "9a4ec440-26a3-423c-86ce-865f38445190",
   "metadata": {
    "tags": []
   },
   "outputs": [],
   "source": [
    "from networkx.drawing.nx_agraph import graphviz_layout"
   ]
  },
  {
   "cell_type": "code",
   "execution_count": 13,
   "id": "19a586d6-f5e1-4611-90fc-cd6f0b0db668",
   "metadata": {
    "tags": []
   },
   "outputs": [],
   "source": [
    "from networkx.algorithms.community import greedy_modularity_communities"
   ]
  },
  {
   "cell_type": "code",
   "execution_count": 16,
   "id": "dfb1ab56-984c-4726-8e0a-349dd141839c",
   "metadata": {
    "tags": []
   },
   "outputs": [
    {
     "data": {
      "text/html": [
       "<div>\n",
       "<style scoped>\n",
       "    .dataframe tbody tr th:only-of-type {\n",
       "        vertical-align: middle;\n",
       "    }\n",
       "\n",
       "    .dataframe tbody tr th {\n",
       "        vertical-align: top;\n",
       "    }\n",
       "\n",
       "    .dataframe thead th {\n",
       "        text-align: right;\n",
       "    }\n",
       "</style>\n",
       "<table border=\"1\" class=\"dataframe\">\n",
       "  <thead>\n",
       "    <tr style=\"text-align: right;\">\n",
       "      <th></th>\n",
       "      <th>@666lehce</th>\n",
       "      <th>@abdulkadir06161</th>\n",
       "      <th>@abdullahciftcib</th>\n",
       "      <th>@adilomera1</th>\n",
       "      <th>@afmsudan</th>\n",
       "      <th>@AliYerlikaya</th>\n",
       "      <th>@amanda_devik</th>\n",
       "      <th>@artdbkglu</th>\n",
       "      <th>@Asibelblonde</th>\n",
       "      <th>@avozgeustun</th>\n",
       "      <th>...</th>\n",
       "      <th>@thewizarddofoz</th>\n",
       "      <th>@tinercimayki</th>\n",
       "      <th>@toskofacts</th>\n",
       "      <th>@UstAkilOyunlari</th>\n",
       "      <th>@Wotah_</th>\n",
       "      <th>@yarftm</th>\n",
       "      <th>@yemeksepeti</th>\n",
       "      <th>@yokmaalesef</th>\n",
       "      <th>@zagortenay76</th>\n",
       "      <th>@zehra_mete</th>\n",
       "    </tr>\n",
       "  </thead>\n",
       "  <tbody>\n",
       "    <tr>\n",
       "      <th>0</th>\n",
       "      <td>0</td>\n",
       "      <td>0</td>\n",
       "      <td>0</td>\n",
       "      <td>0</td>\n",
       "      <td>0</td>\n",
       "      <td>0</td>\n",
       "      <td>0</td>\n",
       "      <td>0</td>\n",
       "      <td>0</td>\n",
       "      <td>0</td>\n",
       "      <td>...</td>\n",
       "      <td>0</td>\n",
       "      <td>0</td>\n",
       "      <td>0</td>\n",
       "      <td>0</td>\n",
       "      <td>0</td>\n",
       "      <td>0</td>\n",
       "      <td>0</td>\n",
       "      <td>0</td>\n",
       "      <td>0</td>\n",
       "      <td>0</td>\n",
       "    </tr>\n",
       "    <tr>\n",
       "      <th>1</th>\n",
       "      <td>0</td>\n",
       "      <td>0</td>\n",
       "      <td>0</td>\n",
       "      <td>0</td>\n",
       "      <td>0</td>\n",
       "      <td>0</td>\n",
       "      <td>0</td>\n",
       "      <td>0</td>\n",
       "      <td>0</td>\n",
       "      <td>0</td>\n",
       "      <td>...</td>\n",
       "      <td>0</td>\n",
       "      <td>0</td>\n",
       "      <td>0</td>\n",
       "      <td>0</td>\n",
       "      <td>0</td>\n",
       "      <td>0</td>\n",
       "      <td>0</td>\n",
       "      <td>0</td>\n",
       "      <td>2</td>\n",
       "      <td>0</td>\n",
       "    </tr>\n",
       "    <tr>\n",
       "      <th>2</th>\n",
       "      <td>0</td>\n",
       "      <td>0</td>\n",
       "      <td>0</td>\n",
       "      <td>0</td>\n",
       "      <td>0</td>\n",
       "      <td>0</td>\n",
       "      <td>0</td>\n",
       "      <td>0</td>\n",
       "      <td>0</td>\n",
       "      <td>0</td>\n",
       "      <td>...</td>\n",
       "      <td>0</td>\n",
       "      <td>0</td>\n",
       "      <td>0</td>\n",
       "      <td>0</td>\n",
       "      <td>0</td>\n",
       "      <td>0</td>\n",
       "      <td>0</td>\n",
       "      <td>0</td>\n",
       "      <td>0</td>\n",
       "      <td>0</td>\n",
       "    </tr>\n",
       "    <tr>\n",
       "      <th>3</th>\n",
       "      <td>0</td>\n",
       "      <td>0</td>\n",
       "      <td>1</td>\n",
       "      <td>0</td>\n",
       "      <td>0</td>\n",
       "      <td>0</td>\n",
       "      <td>0</td>\n",
       "      <td>0</td>\n",
       "      <td>0</td>\n",
       "      <td>0</td>\n",
       "      <td>...</td>\n",
       "      <td>0</td>\n",
       "      <td>0</td>\n",
       "      <td>0</td>\n",
       "      <td>0</td>\n",
       "      <td>0</td>\n",
       "      <td>0</td>\n",
       "      <td>0</td>\n",
       "      <td>0</td>\n",
       "      <td>0</td>\n",
       "      <td>0</td>\n",
       "    </tr>\n",
       "    <tr>\n",
       "      <th>4</th>\n",
       "      <td>0</td>\n",
       "      <td>0</td>\n",
       "      <td>0</td>\n",
       "      <td>0</td>\n",
       "      <td>0</td>\n",
       "      <td>0</td>\n",
       "      <td>0</td>\n",
       "      <td>0</td>\n",
       "      <td>0</td>\n",
       "      <td>0</td>\n",
       "      <td>...</td>\n",
       "      <td>0</td>\n",
       "      <td>0</td>\n",
       "      <td>0</td>\n",
       "      <td>0</td>\n",
       "      <td>0</td>\n",
       "      <td>0</td>\n",
       "      <td>0</td>\n",
       "      <td>0</td>\n",
       "      <td>0</td>\n",
       "      <td>0</td>\n",
       "    </tr>\n",
       "    <tr>\n",
       "      <th>...</th>\n",
       "      <td>...</td>\n",
       "      <td>...</td>\n",
       "      <td>...</td>\n",
       "      <td>...</td>\n",
       "      <td>...</td>\n",
       "      <td>...</td>\n",
       "      <td>...</td>\n",
       "      <td>...</td>\n",
       "      <td>...</td>\n",
       "      <td>...</td>\n",
       "      <td>...</td>\n",
       "      <td>...</td>\n",
       "      <td>...</td>\n",
       "      <td>...</td>\n",
       "      <td>...</td>\n",
       "      <td>...</td>\n",
       "      <td>...</td>\n",
       "      <td>...</td>\n",
       "      <td>...</td>\n",
       "      <td>...</td>\n",
       "      <td>...</td>\n",
       "    </tr>\n",
       "    <tr>\n",
       "      <th>61</th>\n",
       "      <td>0</td>\n",
       "      <td>0</td>\n",
       "      <td>0</td>\n",
       "      <td>0</td>\n",
       "      <td>0</td>\n",
       "      <td>0</td>\n",
       "      <td>0</td>\n",
       "      <td>0</td>\n",
       "      <td>0</td>\n",
       "      <td>0</td>\n",
       "      <td>...</td>\n",
       "      <td>0</td>\n",
       "      <td>0</td>\n",
       "      <td>0</td>\n",
       "      <td>0</td>\n",
       "      <td>0</td>\n",
       "      <td>0</td>\n",
       "      <td>8</td>\n",
       "      <td>0</td>\n",
       "      <td>8</td>\n",
       "      <td>0</td>\n",
       "    </tr>\n",
       "    <tr>\n",
       "      <th>62</th>\n",
       "      <td>0</td>\n",
       "      <td>0</td>\n",
       "      <td>0</td>\n",
       "      <td>0</td>\n",
       "      <td>0</td>\n",
       "      <td>0</td>\n",
       "      <td>0</td>\n",
       "      <td>0</td>\n",
       "      <td>0</td>\n",
       "      <td>0</td>\n",
       "      <td>...</td>\n",
       "      <td>0</td>\n",
       "      <td>0</td>\n",
       "      <td>0</td>\n",
       "      <td>0</td>\n",
       "      <td>0</td>\n",
       "      <td>1</td>\n",
       "      <td>0</td>\n",
       "      <td>0</td>\n",
       "      <td>11</td>\n",
       "      <td>1</td>\n",
       "    </tr>\n",
       "    <tr>\n",
       "      <th>63</th>\n",
       "      <td>0</td>\n",
       "      <td>0</td>\n",
       "      <td>0</td>\n",
       "      <td>0</td>\n",
       "      <td>0</td>\n",
       "      <td>0</td>\n",
       "      <td>0</td>\n",
       "      <td>0</td>\n",
       "      <td>0</td>\n",
       "      <td>0</td>\n",
       "      <td>...</td>\n",
       "      <td>0</td>\n",
       "      <td>0</td>\n",
       "      <td>0</td>\n",
       "      <td>0</td>\n",
       "      <td>0</td>\n",
       "      <td>0</td>\n",
       "      <td>0</td>\n",
       "      <td>0</td>\n",
       "      <td>0</td>\n",
       "      <td>0</td>\n",
       "    </tr>\n",
       "    <tr>\n",
       "      <th>64</th>\n",
       "      <td>0</td>\n",
       "      <td>0</td>\n",
       "      <td>0</td>\n",
       "      <td>0</td>\n",
       "      <td>0</td>\n",
       "      <td>0</td>\n",
       "      <td>0</td>\n",
       "      <td>0</td>\n",
       "      <td>0</td>\n",
       "      <td>0</td>\n",
       "      <td>...</td>\n",
       "      <td>0</td>\n",
       "      <td>0</td>\n",
       "      <td>0</td>\n",
       "      <td>0</td>\n",
       "      <td>0</td>\n",
       "      <td>0</td>\n",
       "      <td>0</td>\n",
       "      <td>0</td>\n",
       "      <td>0</td>\n",
       "      <td>0</td>\n",
       "    </tr>\n",
       "    <tr>\n",
       "      <th>65</th>\n",
       "      <td>0</td>\n",
       "      <td>0</td>\n",
       "      <td>0</td>\n",
       "      <td>0</td>\n",
       "      <td>0</td>\n",
       "      <td>0</td>\n",
       "      <td>0</td>\n",
       "      <td>0</td>\n",
       "      <td>0</td>\n",
       "      <td>0</td>\n",
       "      <td>...</td>\n",
       "      <td>0</td>\n",
       "      <td>0</td>\n",
       "      <td>0</td>\n",
       "      <td>0</td>\n",
       "      <td>0</td>\n",
       "      <td>0</td>\n",
       "      <td>2</td>\n",
       "      <td>0</td>\n",
       "      <td>0</td>\n",
       "      <td>0</td>\n",
       "    </tr>\n",
       "  </tbody>\n",
       "</table>\n",
       "<p>66 rows × 66 columns</p>\n",
       "</div>"
      ],
      "text/plain": [
       "    @666lehce  @abdulkadir06161  @abdullahciftcib  @adilomera1  @afmsudan  \\\n",
       "0           0                 0                 0            0          0   \n",
       "1           0                 0                 0            0          0   \n",
       "2           0                 0                 0            0          0   \n",
       "3           0                 0                 1            0          0   \n",
       "4           0                 0                 0            0          0   \n",
       "..        ...               ...               ...          ...        ...   \n",
       "61          0                 0                 0            0          0   \n",
       "62          0                 0                 0            0          0   \n",
       "63          0                 0                 0            0          0   \n",
       "64          0                 0                 0            0          0   \n",
       "65          0                 0                 0            0          0   \n",
       "\n",
       "    @AliYerlikaya  @amanda_devik  @artdbkglu  @Asibelblonde  @avozgeustun  \\\n",
       "0               0              0           0              0             0   \n",
       "1               0              0           0              0             0   \n",
       "2               0              0           0              0             0   \n",
       "3               0              0           0              0             0   \n",
       "4               0              0           0              0             0   \n",
       "..            ...            ...         ...            ...           ...   \n",
       "61              0              0           0              0             0   \n",
       "62              0              0           0              0             0   \n",
       "63              0              0           0              0             0   \n",
       "64              0              0           0              0             0   \n",
       "65              0              0           0              0             0   \n",
       "\n",
       "    ...  @thewizarddofoz  @tinercimayki  @toskofacts  @UstAkilOyunlari  \\\n",
       "0   ...                0              0            0                 0   \n",
       "1   ...                0              0            0                 0   \n",
       "2   ...                0              0            0                 0   \n",
       "3   ...                0              0            0                 0   \n",
       "4   ...                0              0            0                 0   \n",
       "..  ...              ...            ...          ...               ...   \n",
       "61  ...                0              0            0                 0   \n",
       "62  ...                0              0            0                 0   \n",
       "63  ...                0              0            0                 0   \n",
       "64  ...                0              0            0                 0   \n",
       "65  ...                0              0            0                 0   \n",
       "\n",
       "    @Wotah_  @yarftm  @yemeksepeti  @yokmaalesef  @zagortenay76  @zehra_mete  \n",
       "0         0        0             0             0              0            0  \n",
       "1         0        0             0             0              2            0  \n",
       "2         0        0             0             0              0            0  \n",
       "3         0        0             0             0              0            0  \n",
       "4         0        0             0             0              0            0  \n",
       "..      ...      ...           ...           ...            ...          ...  \n",
       "61        0        0             8             0              8            0  \n",
       "62        0        1             0             0             11            1  \n",
       "63        0        0             0             0              0            0  \n",
       "64        0        0             0             0              0            0  \n",
       "65        0        0             2             0              0            0  \n",
       "\n",
       "[66 rows x 66 columns]"
      ]
     },
     "execution_count": 16,
     "metadata": {},
     "output_type": "execute_result"
    }
   ],
   "source": [
    "read_twitter_network_analysiswith66users=pd.read_excel(r\"twitter_network_analysiswith66users.xlsx\")\n",
    "df_twitter_network_analysiswith66users=read_twitter_network_analysiswith66users.to_csv(r\"twitter_network_analysiswith66users.csv\", index=None)\n",
    "df_twitter_network_analysiswith66users=pd.read_csv(\"twitter_network_analysiswith66users.csv\")\n",
    "df_twitter_network_analysiswith66users=pd.DataFrame(df_twitter_network_analysiswith66users)\n",
    "df_twitter_network_analysiswith66users"
   ]
  },
  {
   "cell_type": "code",
   "execution_count": 73,
   "id": "c087d19f-849b-4137-8247-65f8fef596dd",
   "metadata": {
    "tags": []
   },
   "outputs": [
    {
     "data": {
      "text/plain": [
       "array([[0, 0, 0, ..., 0, 0, 0],\n",
       "       [0, 0, 0, ..., 0, 2, 0],\n",
       "       [0, 0, 0, ..., 0, 0, 0],\n",
       "       ...,\n",
       "       [0, 0, 0, ..., 0, 0, 0],\n",
       "       [0, 0, 0, ..., 0, 0, 0],\n",
       "       [0, 0, 0, ..., 0, 0, 0]])"
      ]
     },
     "execution_count": 73,
     "metadata": {},
     "output_type": "execute_result"
    }
   ],
   "source": [
    "df_twitter_network_analysiswith66users1=df_twitter_network_analysiswith66users.to_numpy()\n",
    "matrix=df_twitter_network_analysiswith66users1\n",
    "matrix"
   ]
  },
  {
   "cell_type": "code",
   "execution_count": 72,
   "id": "3483cb92-3967-4bc8-b17a-4352d91e1a5b",
   "metadata": {
    "tags": []
   },
   "outputs": [],
   "source": [
    "matrix1=matrix\n",
    "matrix2=matrix1"
   ]
  },
  {
   "cell_type": "code",
   "execution_count": 86,
   "id": "5570ee2b-4fc1-4fb8-ad42-f9b1574aee7d",
   "metadata": {
    "tags": []
   },
   "outputs": [],
   "source": [
    "# Create a graph\n",
    "G=nx.from_numpy_array(matrix)\n",
    "#G = nx.from_numpy_matrix(matrix)\n",
    "#G1 = nx.Graph(matrix1)\n",
    "#G2 = nx.from_pandas_adjacency(matrix2, create_using=nx.DiGraph)"
   ]
  },
  {
   "cell_type": "code",
   "execution_count": 87,
   "id": "fe1a29a8-3ea7-4ede-9ed7-c56b1ec5cabe",
   "metadata": {
    "tags": []
   },
   "outputs": [
    {
     "name": "stdout",
     "output_type": "stream",
     "text": [
      "Degree Centrality:\n",
      "{0: 0.0, 1: 0.015384615384615385, 2: 0.015384615384615385, 3: 0.046153846153846156, 4: 0.015384615384615385, 5: 0.015384615384615385, 6: 0.015384615384615385, 7: 0.015384615384615385, 8: 0.015384615384615385, 9: 0.0, 10: 0.0, 11: 0.015384615384615385, 12: 0.0, 13: 0.0, 14: 0.2923076923076923, 15: 0.03076923076923077, 16: 0.06153846153846154, 17: 0.03076923076923077, 18: 0.03076923076923077, 19: 0.0, 20: 0.0, 21: 0.03076923076923077, 22: 0.0, 23: 0.0, 24: 0.1076923076923077, 25: 0.03076923076923077, 26: 0.015384615384615385, 27: 0.03076923076923077, 28: 0.015384615384615385, 29: 0.046153846153846156, 30: 0.07692307692307693, 31: 0.0, 32: 0.0, 33: 0.015384615384615385, 34: 0.0, 35: 0.03076923076923077, 36: 0.046153846153846156, 37: 0.015384615384615385, 38: 0.0, 39: 0.046153846153846156, 40: 0.046153846153846156, 41: 0.0, 42: 0.03076923076923077, 43: 0.0, 44: 0.03076923076923077, 45: 0.0, 46: 0.0, 47: 0.0, 48: 0.0, 49: 0.0, 50: 0.0, 51: 0.0, 52: 0.0, 53: 0.015384615384615385, 54: 0.0, 55: 0.046153846153846156, 56: 0.0, 57: 0.0, 58: 0.0, 59: 0.0, 60: 0.0, 61: 0.03076923076923077, 62: 0.3076923076923077, 63: 0.0, 64: 0.07692307692307693, 65: 0.015384615384615385}\n"
     ]
    }
   ],
   "source": [
    "# Degree centrality\n",
    "deg_cen = nx.degree_centrality(G)\n",
    "print(\"Degree Centrality:\")\n",
    "print(deg_cen)"
   ]
  },
  {
   "cell_type": "code",
   "execution_count": 88,
   "id": "b79e0b84-1eef-4525-9133-40370914ea7b",
   "metadata": {
    "tags": []
   },
   "outputs": [
    {
     "name": "stdout",
     "output_type": "stream",
     "text": [
      "Betweenness Centrality:\n",
      "{0: 0.0, 1: 0.0, 2: 0.0, 3: 0.0033653846153846156, 4: 0.0, 5: 0.0, 6: 0.0, 7: 0.0, 8: 0.0, 9: 0.0, 10: 0.0, 11: 0.0, 12: 0.0, 13: 0.0, 14: 0.05841346153846153, 15: 0.0, 16: 0.012980769230769231, 17: 0.0, 18: 0.0, 19: 0.0, 20: 0.0, 21: 0.0, 22: 0.0, 23: 0.0, 24: 0.0004807692307692308, 25: 0.0, 26: 0.0, 27: 0.0, 28: 0.0, 29: 0.0, 30: 0.0033653846153846156, 31: 0.0, 32: 0.0, 33: 0.0, 34: 0.0, 35: 0.0, 36: 0.0, 37: 0.0, 38: 0.0, 39: 0.0019230769230769232, 40: 0.0, 41: 0.0, 42: 0.0, 43: 0.0, 44: 0.0, 45: 0.0, 46: 0.0, 47: 0.0, 48: 0.0, 49: 0.0, 50: 0.0, 51: 0.0, 52: 0.0, 53: 0.0, 54: 0.0, 55: 0.01201923076923077, 56: 0.0, 57: 0.0, 58: 0.0, 59: 0.0, 60: 0.0, 61: 0.0, 62: 0.08990384615384615, 63: 0.0, 64: 0.012740384615384615, 65: 0.0}\n"
     ]
    }
   ],
   "source": [
    "# Betweenness centrality\n",
    "bet_cen = nx.betweenness_centrality(G)\n",
    "print(\"Betweenness Centrality:\")\n",
    "print(bet_cen)"
   ]
  },
  {
   "cell_type": "code",
   "execution_count": 89,
   "id": "8d361156-5506-4ab2-bf8a-f4950e582f77",
   "metadata": {
    "tags": []
   },
   "outputs": [
    {
     "name": "stdout",
     "output_type": "stream",
     "text": [
      "Closeness Centrality:\n",
      "{0: 0.0, 1: 0.13506493506493508, 2: 0.03496503496503497, 3: 0.05494505494505495, 4: 0.03496503496503497, 5: 0.015384615384615385, 6: 0.1824561403508772, 7: 0.17049180327868851, 8: 0.17049180327868851, 9: 0.0, 10: 0.0, 11: 0.17049180327868851, 12: 0.0, 13: 0.0, 14: 0.2888888888888889, 15: 0.19622641509433963, 16: 0.20800000000000002, 17: 0.0, 18: 0.19622641509433963, 19: 0.0, 20: 0.0, 21: 0.19622641509433963, 22: 0.0, 23: 0.0, 24: 0.20800000000000002, 25: 0.19622641509433963, 26: 0.03496503496503497, 27: 0.19622641509433963, 28: 0.1368421052631579, 29: 0.2, 30: 0.05494505494505495, 31: 0.0, 32: 0.0, 33: 0.03496503496503497, 34: 0.0, 35: 0.19622641509433963, 36: 0.2, 37: 0.015384615384615385, 38: 0.0, 39: 0.20392156862745098, 40: 0.2, 41: 0.0, 42: 0.1890909090909091, 43: 0.0, 44: 0.1890909090909091, 45: 0.0, 46: 0.0, 47: 0.0, 48: 0.0, 49: 0.0, 50: 0.0, 51: 0.0, 52: 0.0, 53: 0.1386666666666667, 54: 0.0, 55: 0.20392156862745098, 56: 0.0, 57: 0.0, 58: 0.0, 59: 0.0, 60: 0.0, 61: 0.1890909090909091, 62: 0.325, 63: 0.0, 64: 0.2, 65: 0.1824561403508772}\n"
     ]
    }
   ],
   "source": [
    "# Closeness centrality\n",
    "clo_cen = nx.closeness_centrality(G)\n",
    "print(\"Closeness Centrality:\")\n",
    "print(clo_cen)"
   ]
  },
  {
   "cell_type": "code",
   "execution_count": 90,
   "id": "c74082d9-2bff-4b87-ab1c-9643fa7d2ff2",
   "metadata": {
    "tags": []
   },
   "outputs": [
    {
     "name": "stdout",
     "output_type": "stream",
     "text": [
      "PageRank Centrality:\n",
      "{0: 0.0037037037073314434, 1: 0.005989521228035546, 2: 0.013902494672000979, 3: 0.03600698111761355, 4: 0.02102737173709268, 5: 0.024691358021668244, 6: 0.004741449606404467, 7: 0.009970864910952894, 8: 0.006837284309142169, 9: 0.0037037037073314434, 10: 0.0037037037073314434, 11: 0.009970864910952894, 12: 0.0037037037073314434, 13: 0.0037037037073314434, 14: 0.13149342832797142, 15: 0.009950522006361241, 16: 0.01748204981603128, 17: 0.024691358021668244, 18: 0.01619734030539104, 19: 0.0037037037073314434, 20: 0.0037037037073314434, 21: 0.013084102608171968, 22: 0.0037037037073314434, 23: 0.0037037037073314434, 24: 0.04030378052608256, 25: 0.01619734030539104, 26: 0.013902494672000979, 27: 0.01619734030539104, 28: 0.005043099127233837, 29: 0.02219490794547548, 30: 0.05094326820908921, 31: 0.0037037037073314434, 32: 0.0037037037073314434, 33: 0.012365537722212064, 34: 0.0037037037073314434, 35: 0.01619734030539104, 36: 0.02219490794547548, 37: 0.024691358021668244, 38: 0.0037037037073314434, 39: 0.018673140644061545, 40: 0.016020573763477847, 41: 0.0037037037073314434, 42: 0.0312109113896252, 43: 0.0037037037073314434, 44: 0.006598976077760324, 45: 0.0037037037073314434, 46: 0.0037037037073314434, 47: 0.0037037037073314434, 48: 0.0037037037073314434, 49: 0.0037037037073314434, 50: 0.0037037037073314434, 51: 0.0037037037073314434, 52: 0.0037037037073314434, 53: 0.0055612301786873, 54: 0.0037037037073314434, 55: 0.02048389231951095, 56: 0.0037037037073314434, 57: 0.0037037037073314434, 58: 0.0037037037073314434, 59: 0.0037037037073314434, 60: 0.0037037037073314434, 61: 0.013884719689220884, 62: 0.14407011170229206, 63: 0.0037037037073314434, 64: 0.04033777082507322, 65: 0.005779195505477491}\n"
     ]
    }
   ],
   "source": [
    "# PageRank centrality\n",
    "pr_cen = nx.pagerank(G)\n",
    "print(\"PageRank Centrality:\")\n",
    "print(pr_cen)"
   ]
  },
  {
   "cell_type": "code",
   "execution_count": 91,
   "id": "b210be89-ba6a-4cb5-9c37-f677c21ac2b6",
   "metadata": {
    "tags": []
   },
   "outputs": [
    {
     "name": "stdout",
     "output_type": "stream",
     "text": [
      "Eigenvector Centrality:\n",
      "{0: 1.6875621723385826e-17, 1: 0.019253031921888607, 2: 6.033793657438822e-17, 3: 1.0868152733138898e-16, 4: 7.63440226609182e-17, 5: -2.830754053048812e-19, 6: 0.07375814472675211, 7: 0.0774371117316936, 8: 0.07743711173169361, 9: -1.458707150220518e-17, 10: -2.4952340282996117e-17, 11: 0.07743711173169364, 12: -2.0488797209042367e-17, 13: 3.571017960307465e-18, 14: 0.521189494592414, 15: 0.1511952564584457, 16: 0.1696439573852047, 17: 1.722296092656417e-18, 18: 0.15119525645844573, 19: 1.2648224429010338e-17, 20: -1.6119368091536967e-17, 21: 0.15119525645844573, 22: -1.9587343507086788e-17, 23: 3.3193953750589327e-18, 24: 0.278386360402248, 25: 0.15119525645844573, 26: 8.26614622480501e-17, 27: 0.15119525645844564, 28: 0.022971335872516385, 29: 0.1925572484377871, 30: 1.578329748990099e-16, 31: 1.5300936683677834e-17, 32: -4.348157625937468e-17, 33: 8.083835997822286e-17, 34: -3.5347367368996023e-17, 35: 0.1511952564584457, 36: 0.19255724843778702, 37: 1.3519954621259711e-17, 38: 4.182263284982965e-17, 39: 0.17044828838033435, 40: 0.19255724843778702, 41: 6.57402205940875e-18, 42: 0.0930111766486407, 43: -6.338363669451914e-18, 44: 0.09896344571409856, 45: 3.409331162455497e-17, 46: -1.1868098394915023e-17, 47: -1.1448400865932673e-17, 48: -1.1950844615350345e-17, 49: -2.8769577944040625e-18, 50: 2.0462041703598524e-17, 51: 1.2851161143143576e-17, 52: -1.6890320631741231e-18, 53: 0.025205300987346475, 54: -5.47841351921982e-18, 55: 0.15460828362235163, 56: 4.022278618798492e-17, 57: -1.296411359740769e-17, 58: 1.405698739168892e-17, 59: 1.3196195093029462e-17, 60: -3.106773411653807e-17, 61: 0.09301117664864064, 62: 0.4964282540057138, 63: -5.514403085529967e-18, 64: 0.12958228622354176, 65: 0.07375814472675207}\n"
     ]
    }
   ],
   "source": [
    "# Calculate eigenvector centrality\n",
    "eig_cen = nx.eigenvector_centrality_numpy(G)\n",
    "print(\"Eigenvector Centrality:\")\n",
    "print(eig_cen)"
   ]
  },
  {
   "cell_type": "code",
   "execution_count": 92,
   "id": "166a4e3e-8780-40a4-afdd-744752f63c2a",
   "metadata": {
    "tags": []
   },
   "outputs": [
    {
     "ename": "AttributeError",
     "evalue": "'list' object has no attribute 'ScalarMappable'",
     "output_type": "error",
     "traceback": [
      "\u001b[0;31m---------------------------------------------------------------------------\u001b[0m",
      "\u001b[0;31mAttributeError\u001b[0m                            Traceback (most recent call last)",
      "Cell \u001b[0;32mIn[92], line 11\u001b[0m\n\u001b[1;32m      9\u001b[0m         color_map\u001b[38;5;241m.\u001b[39mappend(\u001b[38;5;124m'\u001b[39m\u001b[38;5;124mred\u001b[39m\u001b[38;5;124m'\u001b[39m)     \n\u001b[1;32m     10\u001b[0m \u001b[38;5;66;03m#sekillerin icine renk barı ekleme_renkleri acıklak icin\u001b[39;00m\n\u001b[0;32m---> 11\u001b[0m cmap \u001b[38;5;241m=\u001b[39m color_map\u001b[38;5;241m.\u001b[39mScalarMappable(cmap\u001b[38;5;241m=\u001b[39mcm\u001b[38;5;241m.\u001b[39mReds)\n\u001b[1;32m     12\u001b[0m cmap\u001b[38;5;241m.\u001b[39mset_array(deg_cen\u001b[38;5;241m.\u001b[39mvalues())\n\u001b[1;32m     13\u001b[0m nx\u001b[38;5;241m.\u001b[39mdraw(G, pos, with_labels\u001b[38;5;241m=\u001b[39m\u001b[38;5;28;01mTrue\u001b[39;00m, node_color\u001b[38;5;241m=\u001b[39mcolor_map, cmap\u001b[38;5;241m=\u001b[39mcmap, vmin\u001b[38;5;241m=\u001b[39m\u001b[38;5;241m0\u001b[39m, vmax\u001b[38;5;241m=\u001b[39m\u001b[38;5;241m1\u001b[39m)\n",
      "\u001b[0;31mAttributeError\u001b[0m: 'list' object has no attribute 'ScalarMappable'"
     ]
    }
   ],
   "source": [
    "#şekillere istenilen rengi vermek ici\n",
    "color_map=[]\n",
    "for node in G.nodes():\n",
    "    if deg_cen[node] < 0.25:\n",
    "        color_map.append('blue')\n",
    "    elif 0.5 < deg_cen[node] < 0.5:\n",
    "        color_map.append('green')\n",
    "    else:\n",
    "        color_map.append('red')     \n",
    "#sekillerin icine renk barı ekleme_renkleri acıklak icin\n",
    "cmap = color_map.ScalarMappable(cmap=cm.Reds)\n",
    "cmap.set_array(deg_cen.values())\n",
    "nx.draw(G, pos, with_labels=True, node_color=color_map, cmap=cmap, vmin=0, vmax=1)\n",
    "plt.colorbar(cmap)"
   ]
  },
  {
   "cell_type": "code",
   "execution_count": 119,
   "id": "73163069-d1e3-43a1-9de5-90c20d573d5b",
   "metadata": {
    "tags": []
   },
   "outputs": [
    {
     "ename": "ImportError",
     "evalue": "requires pygraphviz http://pygraphviz.github.io/",
     "output_type": "error",
     "traceback": [
      "\u001b[0;31m---------------------------------------------------------------------------\u001b[0m",
      "\u001b[0;31mModuleNotFoundError\u001b[0m                       Traceback (most recent call last)",
      "File \u001b[0;32m~/anaconda3/lib/python3.11/site-packages/networkx/drawing/nx_agraph.py:295\u001b[0m, in \u001b[0;36mpygraphviz_layout\u001b[0;34m(G, prog, root, args)\u001b[0m\n\u001b[1;32m    294\u001b[0m \u001b[38;5;28;01mtry\u001b[39;00m:\n\u001b[0;32m--> 295\u001b[0m     \u001b[38;5;28;01mimport\u001b[39;00m \u001b[38;5;21;01mpygraphviz\u001b[39;00m\n\u001b[1;32m    296\u001b[0m \u001b[38;5;28;01mexcept\u001b[39;00m \u001b[38;5;167;01mImportError\u001b[39;00m \u001b[38;5;28;01mas\u001b[39;00m err:\n",
      "\u001b[0;31mModuleNotFoundError\u001b[0m: No module named 'pygraphviz'",
      "\nThe above exception was the direct cause of the following exception:\n",
      "\u001b[0;31mImportError\u001b[0m                               Traceback (most recent call last)",
      "Cell \u001b[0;32mIn[119], line 4\u001b[0m\n\u001b[1;32m      2\u001b[0m deg_cen \u001b[38;5;241m=\u001b[39m nx\u001b[38;5;241m.\u001b[39mdegree_centrality(G)\n\u001b[1;32m      3\u001b[0m \u001b[38;5;66;03m#pos = nx.spring_layout(G)\u001b[39;00m\n\u001b[0;32m----> 4\u001b[0m pos \u001b[38;5;241m=\u001b[39m graphviz_layout(G, prog\u001b[38;5;241m=\u001b[39m\u001b[38;5;124m'\u001b[39m\u001b[38;5;124mneato\u001b[39m\u001b[38;5;124m'\u001b[39m)\n\u001b[1;32m      5\u001b[0m \u001b[38;5;66;03m#pos = nx.spring_layout(G)\u001b[39;00m\n\u001b[1;32m      6\u001b[0m \u001b[38;5;66;03m#pos = graphviz_layout(G, prog='sfdp')\u001b[39;00m\n\u001b[1;32m      7\u001b[0m \u001b[38;5;66;03m#pos = graphviz_layout(G, prog='patchwork')\u001b[39;00m\n\u001b[0;32m   (...)\u001b[0m\n\u001b[1;32m     14\u001b[0m \u001b[38;5;66;03m#pos = nx.spectral_layout(G)\u001b[39;00m\n\u001b[1;32m     15\u001b[0m \u001b[38;5;66;03m#pos = nx.circular_layout(G)\u001b[39;00m\n\u001b[1;32m     16\u001b[0m node_sizes \u001b[38;5;241m=\u001b[39m [\u001b[38;5;241m3000\u001b[39m \u001b[38;5;241m*\u001b[39m v \u001b[38;5;28;01mfor\u001b[39;00m v \u001b[38;5;129;01min\u001b[39;00m deg_cen\u001b[38;5;241m.\u001b[39mvalues()]\n",
      "File \u001b[0;32m~/anaconda3/lib/python3.11/site-packages/networkx/drawing/nx_agraph.py:251\u001b[0m, in \u001b[0;36mgraphviz_layout\u001b[0;34m(G, prog, root, args)\u001b[0m\n\u001b[1;32m    220\u001b[0m \u001b[38;5;28;01mdef\u001b[39;00m \u001b[38;5;21mgraphviz_layout\u001b[39m(G, prog\u001b[38;5;241m=\u001b[39m\u001b[38;5;124m\"\u001b[39m\u001b[38;5;124mneato\u001b[39m\u001b[38;5;124m\"\u001b[39m, root\u001b[38;5;241m=\u001b[39m\u001b[38;5;28;01mNone\u001b[39;00m, args\u001b[38;5;241m=\u001b[39m\u001b[38;5;124m\"\u001b[39m\u001b[38;5;124m\"\u001b[39m):\n\u001b[1;32m    221\u001b[0m \u001b[38;5;250m    \u001b[39m\u001b[38;5;124;03m\"\"\"Create node positions for G using Graphviz.\u001b[39;00m\n\u001b[1;32m    222\u001b[0m \n\u001b[1;32m    223\u001b[0m \u001b[38;5;124;03m    Parameters\u001b[39;00m\n\u001b[0;32m   (...)\u001b[0m\n\u001b[1;32m    249\u001b[0m \u001b[38;5;124;03m    see https://gitlab.com/graphviz/graphviz/-/issues/1767 for more info.\u001b[39;00m\n\u001b[1;32m    250\u001b[0m \u001b[38;5;124;03m    \"\"\"\u001b[39;00m\n\u001b[0;32m--> 251\u001b[0m     \u001b[38;5;28;01mreturn\u001b[39;00m pygraphviz_layout(G, prog\u001b[38;5;241m=\u001b[39mprog, root\u001b[38;5;241m=\u001b[39mroot, args\u001b[38;5;241m=\u001b[39margs)\n",
      "File \u001b[0;32m~/anaconda3/lib/python3.11/site-packages/networkx/drawing/nx_agraph.py:297\u001b[0m, in \u001b[0;36mpygraphviz_layout\u001b[0;34m(G, prog, root, args)\u001b[0m\n\u001b[1;32m    295\u001b[0m     \u001b[38;5;28;01mimport\u001b[39;00m \u001b[38;5;21;01mpygraphviz\u001b[39;00m\n\u001b[1;32m    296\u001b[0m \u001b[38;5;28;01mexcept\u001b[39;00m \u001b[38;5;167;01mImportError\u001b[39;00m \u001b[38;5;28;01mas\u001b[39;00m err:\n\u001b[0;32m--> 297\u001b[0m     \u001b[38;5;28;01mraise\u001b[39;00m \u001b[38;5;167;01mImportError\u001b[39;00m(\n\u001b[1;32m    298\u001b[0m         \u001b[38;5;124m\"\u001b[39m\u001b[38;5;124mrequires pygraphviz \u001b[39m\u001b[38;5;124m\"\u001b[39m \u001b[38;5;124m\"\u001b[39m\u001b[38;5;124mhttp://pygraphviz.github.io/\u001b[39m\u001b[38;5;124m\"\u001b[39m\n\u001b[1;32m    299\u001b[0m     ) \u001b[38;5;28;01mfrom\u001b[39;00m \u001b[38;5;21;01merr\u001b[39;00m\n\u001b[1;32m    300\u001b[0m \u001b[38;5;28;01mif\u001b[39;00m root \u001b[38;5;129;01mis\u001b[39;00m \u001b[38;5;129;01mnot\u001b[39;00m \u001b[38;5;28;01mNone\u001b[39;00m:\n\u001b[1;32m    301\u001b[0m     args \u001b[38;5;241m+\u001b[39m\u001b[38;5;241m=\u001b[39m \u001b[38;5;124mf\u001b[39m\u001b[38;5;124m\"\u001b[39m\u001b[38;5;124m-Groot=\u001b[39m\u001b[38;5;132;01m{\u001b[39;00mroot\u001b[38;5;132;01m}\u001b[39;00m\u001b[38;5;124m\"\u001b[39m\n",
      "\u001b[0;31mImportError\u001b[0m: requires pygraphviz http://pygraphviz.github.io/"
     ]
    }
   ],
   "source": [
    "# Draw the graph with node size proportional to degree centrality\n",
    "deg_cen = nx.degree_centrality(G)\n",
    "#pos = nx.spring_layout(G)\n",
    "pos = graphviz_layout(G, prog='neato')\n",
    "#pos = nx.spring_layout(G)\n",
    "#pos = graphviz_layout(G, prog='sfdp')\n",
    "#pos = graphviz_layout(G, prog='patchwork')\n",
    "#pos = graphviz_layout(G, prog='fdp')\n",
    "#pos = graphviz_layout(G, prog='circo')\n",
    "#pos = graphviz_layout(G, prog='osage')\n",
    "#pos = graphviz_layout(G, prog='twopi')\n",
    "#pos = graphviz_layout(G, prog='dot')\n",
    "#pos = nx.random_layout(G)\n",
    "#pos = nx.spectral_layout(G)\n",
    "#pos = nx.circular_layout(G)\n",
    "node_sizes = [3000 * v for v in deg_cen.values()]\n",
    "node_colors = list(deg_cen.values())\n",
    "nx.draw_networkx_nodes(G, pos, node_size=node_sizes)\n",
    "nx.draw_networkx_edges(G, pos)\n",
    "nx.draw_networkx_labels(G, pos)\n",
    "plt.show()"
   ]
  },
  {
   "cell_type": "code",
   "execution_count": 100,
   "id": "74efba48-3740-410b-bc5d-b5feee8af823",
   "metadata": {
    "tags": []
   },
   "outputs": [
    {
     "name": "stdout",
     "output_type": "stream",
     "text": [
      "Number of nodes: 66\n",
      "Number of edges: 56\n",
      "Degree centrality: {0: 0.0, 1: 0.015384615384615385, 2: 0.015384615384615385, 3: 0.046153846153846156, 4: 0.015384615384615385, 5: 0.015384615384615385, 6: 0.015384615384615385, 7: 0.015384615384615385, 8: 0.015384615384615385, 9: 0.0, 10: 0.0, 11: 0.015384615384615385, 12: 0.0, 13: 0.0, 14: 0.2923076923076923, 15: 0.03076923076923077, 16: 0.06153846153846154, 17: 0.03076923076923077, 18: 0.03076923076923077, 19: 0.0, 20: 0.0, 21: 0.03076923076923077, 22: 0.0, 23: 0.0, 24: 0.1076923076923077, 25: 0.03076923076923077, 26: 0.015384615384615385, 27: 0.03076923076923077, 28: 0.015384615384615385, 29: 0.046153846153846156, 30: 0.07692307692307693, 31: 0.0, 32: 0.0, 33: 0.015384615384615385, 34: 0.0, 35: 0.03076923076923077, 36: 0.046153846153846156, 37: 0.015384615384615385, 38: 0.0, 39: 0.046153846153846156, 40: 0.046153846153846156, 41: 0.0, 42: 0.03076923076923077, 43: 0.0, 44: 0.03076923076923077, 45: 0.0, 46: 0.0, 47: 0.0, 48: 0.0, 49: 0.0, 50: 0.0, 51: 0.0, 52: 0.0, 53: 0.015384615384615385, 54: 0.0, 55: 0.046153846153846156, 56: 0.0, 57: 0.0, 58: 0.0, 59: 0.0, 60: 0.0, 61: 0.03076923076923077, 62: 0.3076923076923077, 63: 0.0, 64: 0.07692307692307693, 65: 0.015384615384615385}\n"
     ]
    },
    {
     "ename": "ImportError",
     "evalue": "requires pygraphviz http://pygraphviz.github.io/",
     "output_type": "error",
     "traceback": [
      "\u001b[0;31m---------------------------------------------------------------------------\u001b[0m",
      "\u001b[0;31mModuleNotFoundError\u001b[0m                       Traceback (most recent call last)",
      "File \u001b[0;32m~/anaconda3/lib/python3.11/site-packages/networkx/drawing/nx_agraph.py:295\u001b[0m, in \u001b[0;36mpygraphviz_layout\u001b[0;34m(G, prog, root, args)\u001b[0m\n\u001b[1;32m    294\u001b[0m \u001b[38;5;28;01mtry\u001b[39;00m:\n\u001b[0;32m--> 295\u001b[0m     \u001b[38;5;28;01mimport\u001b[39;00m \u001b[38;5;21;01mpygraphviz\u001b[39;00m\n\u001b[1;32m    296\u001b[0m \u001b[38;5;28;01mexcept\u001b[39;00m \u001b[38;5;167;01mImportError\u001b[39;00m \u001b[38;5;28;01mas\u001b[39;00m err:\n",
      "\u001b[0;31mModuleNotFoundError\u001b[0m: No module named 'pygraphviz'",
      "\nThe above exception was the direct cause of the following exception:\n",
      "\u001b[0;31mImportError\u001b[0m                               Traceback (most recent call last)",
      "Cell \u001b[0;32mIn[100], line 8\u001b[0m\n\u001b[1;32m      4\u001b[0m \u001b[38;5;28mprint\u001b[39m(\u001b[38;5;124m\"\u001b[39m\u001b[38;5;124mDegree centrality:\u001b[39m\u001b[38;5;124m\"\u001b[39m, nx\u001b[38;5;241m.\u001b[39mdegree_centrality(G))\n\u001b[1;32m      6\u001b[0m \u001b[38;5;66;03m# Visualize the graph\u001b[39;00m\n\u001b[1;32m      7\u001b[0m \u001b[38;5;66;03m#pos = nx.spring_layout(G)\u001b[39;00m\n\u001b[0;32m----> 8\u001b[0m pos \u001b[38;5;241m=\u001b[39m graphviz_layout(G, prog\u001b[38;5;241m=\u001b[39m\u001b[38;5;124m'\u001b[39m\u001b[38;5;124msfdp\u001b[39m\u001b[38;5;124m'\u001b[39m)\n\u001b[1;32m      9\u001b[0m \u001b[38;5;66;03m#pos = graphviz_layout(G, prog='patchwork')\u001b[39;00m\n\u001b[1;32m     10\u001b[0m \u001b[38;5;66;03m#pos = graphviz_layout(G, prog='fdp')\u001b[39;00m\n\u001b[1;32m     11\u001b[0m \u001b[38;5;66;03m#pos = graphviz_layout(G, prog='circo')\u001b[39;00m\n\u001b[0;32m   (...)\u001b[0m\n\u001b[1;32m     17\u001b[0m \u001b[38;5;66;03m#pos = nx.spectral_layout(G)\u001b[39;00m\n\u001b[1;32m     18\u001b[0m \u001b[38;5;66;03m#pos = nx.circular_layout(G)\u001b[39;00m\n\u001b[1;32m     19\u001b[0m nx\u001b[38;5;241m.\u001b[39mdraw_networkx_nodes(G, pos)\n",
      "File \u001b[0;32m~/anaconda3/lib/python3.11/site-packages/networkx/drawing/nx_agraph.py:251\u001b[0m, in \u001b[0;36mgraphviz_layout\u001b[0;34m(G, prog, root, args)\u001b[0m\n\u001b[1;32m    220\u001b[0m \u001b[38;5;28;01mdef\u001b[39;00m \u001b[38;5;21mgraphviz_layout\u001b[39m(G, prog\u001b[38;5;241m=\u001b[39m\u001b[38;5;124m\"\u001b[39m\u001b[38;5;124mneato\u001b[39m\u001b[38;5;124m\"\u001b[39m, root\u001b[38;5;241m=\u001b[39m\u001b[38;5;28;01mNone\u001b[39;00m, args\u001b[38;5;241m=\u001b[39m\u001b[38;5;124m\"\u001b[39m\u001b[38;5;124m\"\u001b[39m):\n\u001b[1;32m    221\u001b[0m \u001b[38;5;250m    \u001b[39m\u001b[38;5;124;03m\"\"\"Create node positions for G using Graphviz.\u001b[39;00m\n\u001b[1;32m    222\u001b[0m \n\u001b[1;32m    223\u001b[0m \u001b[38;5;124;03m    Parameters\u001b[39;00m\n\u001b[0;32m   (...)\u001b[0m\n\u001b[1;32m    249\u001b[0m \u001b[38;5;124;03m    see https://gitlab.com/graphviz/graphviz/-/issues/1767 for more info.\u001b[39;00m\n\u001b[1;32m    250\u001b[0m \u001b[38;5;124;03m    \"\"\"\u001b[39;00m\n\u001b[0;32m--> 251\u001b[0m     \u001b[38;5;28;01mreturn\u001b[39;00m pygraphviz_layout(G, prog\u001b[38;5;241m=\u001b[39mprog, root\u001b[38;5;241m=\u001b[39mroot, args\u001b[38;5;241m=\u001b[39margs)\n",
      "File \u001b[0;32m~/anaconda3/lib/python3.11/site-packages/networkx/drawing/nx_agraph.py:297\u001b[0m, in \u001b[0;36mpygraphviz_layout\u001b[0;34m(G, prog, root, args)\u001b[0m\n\u001b[1;32m    295\u001b[0m     \u001b[38;5;28;01mimport\u001b[39;00m \u001b[38;5;21;01mpygraphviz\u001b[39;00m\n\u001b[1;32m    296\u001b[0m \u001b[38;5;28;01mexcept\u001b[39;00m \u001b[38;5;167;01mImportError\u001b[39;00m \u001b[38;5;28;01mas\u001b[39;00m err:\n\u001b[0;32m--> 297\u001b[0m     \u001b[38;5;28;01mraise\u001b[39;00m \u001b[38;5;167;01mImportError\u001b[39;00m(\n\u001b[1;32m    298\u001b[0m         \u001b[38;5;124m\"\u001b[39m\u001b[38;5;124mrequires pygraphviz \u001b[39m\u001b[38;5;124m\"\u001b[39m \u001b[38;5;124m\"\u001b[39m\u001b[38;5;124mhttp://pygraphviz.github.io/\u001b[39m\u001b[38;5;124m\"\u001b[39m\n\u001b[1;32m    299\u001b[0m     ) \u001b[38;5;28;01mfrom\u001b[39;00m \u001b[38;5;21;01merr\u001b[39;00m\n\u001b[1;32m    300\u001b[0m \u001b[38;5;28;01mif\u001b[39;00m root \u001b[38;5;129;01mis\u001b[39;00m \u001b[38;5;129;01mnot\u001b[39;00m \u001b[38;5;28;01mNone\u001b[39;00m:\n\u001b[1;32m    301\u001b[0m     args \u001b[38;5;241m+\u001b[39m\u001b[38;5;241m=\u001b[39m \u001b[38;5;124mf\u001b[39m\u001b[38;5;124m\"\u001b[39m\u001b[38;5;124m-Groot=\u001b[39m\u001b[38;5;132;01m{\u001b[39;00mroot\u001b[38;5;132;01m}\u001b[39;00m\u001b[38;5;124m\"\u001b[39m\n",
      "\u001b[0;31mImportError\u001b[0m: requires pygraphviz http://pygraphviz.github.io/"
     ]
    }
   ],
   "source": [
    "# Calculate some network statistics\n",
    "print(\"Number of nodes:\", len(G.nodes))\n",
    "print(\"Number of edges:\", len(G.edges))\n",
    "print(\"Degree centrality:\", nx.degree_centrality(G))\n",
    "\n",
    "# Visualize the graph\n",
    "#pos = nx.spring_layout(G)\n",
    "pos = graphviz_layout(G, prog='sfdp')\n",
    "#pos = graphviz_layout(G, prog='patchwork')\n",
    "#pos = graphviz_layout(G, prog='fdp')\n",
    "#pos = graphviz_layout(G, prog='circo')\n",
    "#pos = graphviz_layout(G, prog='osage')\n",
    "#pos = graphviz_layout(G, prog='twopi')\n",
    "#pos = graphviz_layout(G, prog='neato')\n",
    "#pos = graphviz_layout(G, prog='dot')\n",
    "#pos = nx.random_layout(G)\n",
    "#pos = nx.spectral_layout(G)\n",
    "#pos = nx.circular_layout(G)\n",
    "nx.draw_networkx_nodes(G, pos)\n",
    "nx.draw_networkx_edges(G, pos)\n",
    "nx.draw_networkx_labels(G, pos)\n",
    "plt.show()"
   ]
  },
  {
   "cell_type": "code",
   "execution_count": 101,
   "id": "bf8e6c68-4554-426b-8aea-6708e825aeec",
   "metadata": {
    "tags": []
   },
   "outputs": [
    {
     "ename": "NameError",
     "evalue": "name 'node_colors' is not defined",
     "output_type": "error",
     "traceback": [
      "\u001b[0;31m---------------------------------------------------------------------------\u001b[0m",
      "\u001b[0;31mNameError\u001b[0m                                 Traceback (most recent call last)",
      "Cell \u001b[0;32mIn[101], line 18\u001b[0m\n\u001b[1;32m     16\u001b[0m node_sizes \u001b[38;5;241m=\u001b[39m [\u001b[38;5;241m30000\u001b[39m \u001b[38;5;241m*\u001b[39m v \u001b[38;5;28;01mfor\u001b[39;00m v \u001b[38;5;129;01min\u001b[39;00m bet_cen\u001b[38;5;241m.\u001b[39mvalues()]\n\u001b[1;32m     17\u001b[0m \u001b[38;5;66;03m#node_colors = list(bet_cen.values())\u001b[39;00m\n\u001b[0;32m---> 18\u001b[0m nx\u001b[38;5;241m.\u001b[39mdraw_networkx_nodes(G, pos, node_size\u001b[38;5;241m=\u001b[39mnode_sizes, node_color\u001b[38;5;241m=\u001b[39mnode_colors, cmap\u001b[38;5;241m=\u001b[39mplt\u001b[38;5;241m.\u001b[39mcm\u001b[38;5;241m.\u001b[39mBlues)\n\u001b[1;32m     19\u001b[0m nx\u001b[38;5;241m.\u001b[39mdraw_networkx_edges(G, pos)\n\u001b[1;32m     20\u001b[0m nx\u001b[38;5;241m.\u001b[39mdraw_networkx_labels(G, pos)\n",
      "\u001b[0;31mNameError\u001b[0m: name 'node_colors' is not defined"
     ]
    }
   ],
   "source": [
    "# Draw the graph with node size and color proportional to betweenness centrality\n",
    "bet_cen = nx.betweenness_centrality(G)\n",
    "#pos = nx.spring_layout(G)\n",
    "#pos = nx.kamada_kawai_layout(G)\n",
    "#pos = graphviz_layout(G, prog='neato')\n",
    "#pos = graphviz_layout(G, prog='sfdp')\n",
    "#pos = graphviz_layout(G, prog='patchwork')\n",
    "#pos = graphviz_layout(G, prog='fdp')\n",
    "#pos = graphviz_layout(G, prog='circo')\n",
    "#pos = graphviz_layout(G, prog='osage')\n",
    "#pos = graphviz_layout(G, prog='twopi')\n",
    "#pos = graphviz_layout(G, prog='dot')\n",
    "pos = nx.random_layout(G)\n",
    "#pos = nx.spectral_layout(G)\n",
    "#pos = nx.circular_layout(G)\n",
    "node_sizes = [30000 * v for v in bet_cen.values()]\n",
    "#node_colors = list(bet_cen.values())\n",
    "nx.draw_networkx_nodes(G, pos, node_size=node_sizes, node_color=node_colors, cmap=plt.cm.Blues)\n",
    "nx.draw_networkx_edges(G, pos)\n",
    "nx.draw_networkx_labels(G, pos)\n",
    "plt.colorbar()\n",
    "plt.show()"
   ]
  },
  {
   "cell_type": "code",
   "execution_count": 102,
   "id": "c09116b0-9410-4588-8a51-c0f2d5714c6d",
   "metadata": {
    "tags": []
   },
   "outputs": [
    {
     "ename": "ImportError",
     "evalue": "requires pygraphviz http://pygraphviz.github.io/",
     "output_type": "error",
     "traceback": [
      "\u001b[0;31m---------------------------------------------------------------------------\u001b[0m",
      "\u001b[0;31mModuleNotFoundError\u001b[0m                       Traceback (most recent call last)",
      "File \u001b[0;32m~/anaconda3/lib/python3.11/site-packages/networkx/drawing/nx_agraph.py:295\u001b[0m, in \u001b[0;36mpygraphviz_layout\u001b[0;34m(G, prog, root, args)\u001b[0m\n\u001b[1;32m    294\u001b[0m \u001b[38;5;28;01mtry\u001b[39;00m:\n\u001b[0;32m--> 295\u001b[0m     \u001b[38;5;28;01mimport\u001b[39;00m \u001b[38;5;21;01mpygraphviz\u001b[39;00m\n\u001b[1;32m    296\u001b[0m \u001b[38;5;28;01mexcept\u001b[39;00m \u001b[38;5;167;01mImportError\u001b[39;00m \u001b[38;5;28;01mas\u001b[39;00m err:\n",
      "\u001b[0;31mModuleNotFoundError\u001b[0m: No module named 'pygraphviz'",
      "\nThe above exception was the direct cause of the following exception:\n",
      "\u001b[0;31mImportError\u001b[0m                               Traceback (most recent call last)",
      "Cell \u001b[0;32mIn[102], line 9\u001b[0m\n\u001b[1;32m      2\u001b[0m clo_cen \u001b[38;5;241m=\u001b[39m nx\u001b[38;5;241m.\u001b[39mcloseness_centrality(G)\n\u001b[1;32m      3\u001b[0m \u001b[38;5;66;03m#pos = nx.spring_layout(G)\u001b[39;00m\n\u001b[1;32m      4\u001b[0m \u001b[38;5;66;03m#pos = graphviz_layout(G, prog='neato')\u001b[39;00m\n\u001b[1;32m      5\u001b[0m \u001b[38;5;66;03m#pos = graphviz_layout(G, prog='sfdp')\u001b[39;00m\n\u001b[1;32m      6\u001b[0m \u001b[38;5;66;03m#pos = graphviz_layout(G, prog='patchwork')\u001b[39;00m\n\u001b[1;32m      7\u001b[0m \u001b[38;5;66;03m#pos = graphviz_layout(G, prog='fdp')\u001b[39;00m\n\u001b[1;32m      8\u001b[0m \u001b[38;5;66;03m#pos = graphviz_layout(G, prog='circo')\u001b[39;00m\n\u001b[0;32m----> 9\u001b[0m pos \u001b[38;5;241m=\u001b[39m graphviz_layout(G, prog\u001b[38;5;241m=\u001b[39m\u001b[38;5;124m'\u001b[39m\u001b[38;5;124mosage\u001b[39m\u001b[38;5;124m'\u001b[39m)\n\u001b[1;32m     10\u001b[0m \u001b[38;5;66;03m#pos = graphviz_layout(G, prog='twopi')\u001b[39;00m\n\u001b[1;32m     11\u001b[0m \u001b[38;5;66;03m#pos = graphviz_layout(G, prog='dot')\u001b[39;00m\n\u001b[1;32m     12\u001b[0m \u001b[38;5;66;03m#pos = nx.random_layout(G)\u001b[39;00m\n\u001b[1;32m     13\u001b[0m \u001b[38;5;66;03m#pos = nx.spectral_layout(G)\u001b[39;00m\n\u001b[1;32m     14\u001b[0m \u001b[38;5;66;03m#pos = nx.circular_layout(G)\u001b[39;00m\n\u001b[1;32m     15\u001b[0m node_sizes \u001b[38;5;241m=\u001b[39m [\u001b[38;5;241m2000\u001b[39m \u001b[38;5;241m*\u001b[39m v \u001b[38;5;28;01mfor\u001b[39;00m v \u001b[38;5;129;01min\u001b[39;00m clo_cen\u001b[38;5;241m.\u001b[39mvalues()]\n",
      "File \u001b[0;32m~/anaconda3/lib/python3.11/site-packages/networkx/drawing/nx_agraph.py:251\u001b[0m, in \u001b[0;36mgraphviz_layout\u001b[0;34m(G, prog, root, args)\u001b[0m\n\u001b[1;32m    220\u001b[0m \u001b[38;5;28;01mdef\u001b[39;00m \u001b[38;5;21mgraphviz_layout\u001b[39m(G, prog\u001b[38;5;241m=\u001b[39m\u001b[38;5;124m\"\u001b[39m\u001b[38;5;124mneato\u001b[39m\u001b[38;5;124m\"\u001b[39m, root\u001b[38;5;241m=\u001b[39m\u001b[38;5;28;01mNone\u001b[39;00m, args\u001b[38;5;241m=\u001b[39m\u001b[38;5;124m\"\u001b[39m\u001b[38;5;124m\"\u001b[39m):\n\u001b[1;32m    221\u001b[0m \u001b[38;5;250m    \u001b[39m\u001b[38;5;124;03m\"\"\"Create node positions for G using Graphviz.\u001b[39;00m\n\u001b[1;32m    222\u001b[0m \n\u001b[1;32m    223\u001b[0m \u001b[38;5;124;03m    Parameters\u001b[39;00m\n\u001b[0;32m   (...)\u001b[0m\n\u001b[1;32m    249\u001b[0m \u001b[38;5;124;03m    see https://gitlab.com/graphviz/graphviz/-/issues/1767 for more info.\u001b[39;00m\n\u001b[1;32m    250\u001b[0m \u001b[38;5;124;03m    \"\"\"\u001b[39;00m\n\u001b[0;32m--> 251\u001b[0m     \u001b[38;5;28;01mreturn\u001b[39;00m pygraphviz_layout(G, prog\u001b[38;5;241m=\u001b[39mprog, root\u001b[38;5;241m=\u001b[39mroot, args\u001b[38;5;241m=\u001b[39margs)\n",
      "File \u001b[0;32m~/anaconda3/lib/python3.11/site-packages/networkx/drawing/nx_agraph.py:297\u001b[0m, in \u001b[0;36mpygraphviz_layout\u001b[0;34m(G, prog, root, args)\u001b[0m\n\u001b[1;32m    295\u001b[0m     \u001b[38;5;28;01mimport\u001b[39;00m \u001b[38;5;21;01mpygraphviz\u001b[39;00m\n\u001b[1;32m    296\u001b[0m \u001b[38;5;28;01mexcept\u001b[39;00m \u001b[38;5;167;01mImportError\u001b[39;00m \u001b[38;5;28;01mas\u001b[39;00m err:\n\u001b[0;32m--> 297\u001b[0m     \u001b[38;5;28;01mraise\u001b[39;00m \u001b[38;5;167;01mImportError\u001b[39;00m(\n\u001b[1;32m    298\u001b[0m         \u001b[38;5;124m\"\u001b[39m\u001b[38;5;124mrequires pygraphviz \u001b[39m\u001b[38;5;124m\"\u001b[39m \u001b[38;5;124m\"\u001b[39m\u001b[38;5;124mhttp://pygraphviz.github.io/\u001b[39m\u001b[38;5;124m\"\u001b[39m\n\u001b[1;32m    299\u001b[0m     ) \u001b[38;5;28;01mfrom\u001b[39;00m \u001b[38;5;21;01merr\u001b[39;00m\n\u001b[1;32m    300\u001b[0m \u001b[38;5;28;01mif\u001b[39;00m root \u001b[38;5;129;01mis\u001b[39;00m \u001b[38;5;129;01mnot\u001b[39;00m \u001b[38;5;28;01mNone\u001b[39;00m:\n\u001b[1;32m    301\u001b[0m     args \u001b[38;5;241m+\u001b[39m\u001b[38;5;241m=\u001b[39m \u001b[38;5;124mf\u001b[39m\u001b[38;5;124m\"\u001b[39m\u001b[38;5;124m-Groot=\u001b[39m\u001b[38;5;132;01m{\u001b[39;00mroot\u001b[38;5;132;01m}\u001b[39;00m\u001b[38;5;124m\"\u001b[39m\n",
      "\u001b[0;31mImportError\u001b[0m: requires pygraphviz http://pygraphviz.github.io/"
     ]
    }
   ],
   "source": [
    "# Draw the graph with node size and color proportional to closeness centrality\n",
    "clo_cen = nx.closeness_centrality(G)\n",
    "#pos = nx.spring_layout(G)\n",
    "#pos = graphviz_layout(G, prog='neato')\n",
    "#pos = graphviz_layout(G, prog='sfdp')\n",
    "#pos = graphviz_layout(G, prog='patchwork')\n",
    "#pos = graphviz_layout(G, prog='fdp')\n",
    "#pos = graphviz_layout(G, prog='circo')\n",
    "pos = graphviz_layout(G, prog='osage')\n",
    "#pos = graphviz_layout(G, prog='twopi')\n",
    "#pos = graphviz_layout(G, prog='dot')\n",
    "#pos = nx.random_layout(G)\n",
    "#pos = nx.spectral_layout(G)\n",
    "#pos = nx.circular_layout(G)\n",
    "node_sizes = [2000 * v for v in clo_cen.values()]\n",
    "node_colors = list(clo_cen.values())\n",
    "nx.draw_networkx_nodes(G, pos, node_size=node_sizes, node_color=node_colors, cmap=plt.cm.Reds)\n",
    "nx.draw_networkx_edges(G, pos)\n",
    "nx.draw_networkx_labels(G, pos)\n",
    "plt.colorbar()\n",
    "plt.show()"
   ]
  },
  {
   "cell_type": "code",
   "execution_count": 103,
   "id": "841d21c6-f447-4790-937a-4ecb40f9cd2b",
   "metadata": {
    "tags": []
   },
   "outputs": [
    {
     "ename": "ImportError",
     "evalue": "requires pygraphviz http://pygraphviz.github.io/",
     "output_type": "error",
     "traceback": [
      "\u001b[0;31m---------------------------------------------------------------------------\u001b[0m",
      "\u001b[0;31mModuleNotFoundError\u001b[0m                       Traceback (most recent call last)",
      "File \u001b[0;32m~/anaconda3/lib/python3.11/site-packages/networkx/drawing/nx_agraph.py:295\u001b[0m, in \u001b[0;36mpygraphviz_layout\u001b[0;34m(G, prog, root, args)\u001b[0m\n\u001b[1;32m    294\u001b[0m \u001b[38;5;28;01mtry\u001b[39;00m:\n\u001b[0;32m--> 295\u001b[0m     \u001b[38;5;28;01mimport\u001b[39;00m \u001b[38;5;21;01mpygraphviz\u001b[39;00m\n\u001b[1;32m    296\u001b[0m \u001b[38;5;28;01mexcept\u001b[39;00m \u001b[38;5;167;01mImportError\u001b[39;00m \u001b[38;5;28;01mas\u001b[39;00m err:\n",
      "\u001b[0;31mModuleNotFoundError\u001b[0m: No module named 'pygraphviz'",
      "\nThe above exception was the direct cause of the following exception:\n",
      "\u001b[0;31mImportError\u001b[0m                               Traceback (most recent call last)",
      "Cell \u001b[0;32mIn[103], line 11\u001b[0m\n\u001b[1;32m      2\u001b[0m pr_cen \u001b[38;5;241m=\u001b[39m nx\u001b[38;5;241m.\u001b[39mpagerank(G)\n\u001b[1;32m      3\u001b[0m \u001b[38;5;66;03m#pos = nx.spring_layout(G)\u001b[39;00m\n\u001b[1;32m      4\u001b[0m \u001b[38;5;66;03m#pos = graphviz_layout(G, prog='neato')\u001b[39;00m\n\u001b[1;32m      5\u001b[0m \u001b[38;5;66;03m#pos = nx.spring_layout(G)\u001b[39;00m\n\u001b[0;32m   (...)\u001b[0m\n\u001b[1;32m      9\u001b[0m \u001b[38;5;66;03m#pos = graphviz_layout(G, prog='circo')\u001b[39;00m\n\u001b[1;32m     10\u001b[0m \u001b[38;5;66;03m#pos = graphviz_layout(G, prog='osage')\u001b[39;00m\n\u001b[0;32m---> 11\u001b[0m pos \u001b[38;5;241m=\u001b[39m graphviz_layout(G, prog\u001b[38;5;241m=\u001b[39m\u001b[38;5;124m'\u001b[39m\u001b[38;5;124mtwopi\u001b[39m\u001b[38;5;124m'\u001b[39m)\n\u001b[1;32m     12\u001b[0m \u001b[38;5;66;03m#pos = graphviz_layout(G, prog='dot')\u001b[39;00m\n\u001b[1;32m     13\u001b[0m \u001b[38;5;66;03m#pos = nx.random_layout(G)\u001b[39;00m\n\u001b[1;32m     14\u001b[0m \u001b[38;5;66;03m#pos = nx.spectral_layout(G)\u001b[39;00m\n\u001b[1;32m     15\u001b[0m \u001b[38;5;66;03m#pos = nx.circular_layout(G)\u001b[39;00m\n\u001b[1;32m     16\u001b[0m node_sizes \u001b[38;5;241m=\u001b[39m [\u001b[38;5;241m5000\u001b[39m \u001b[38;5;241m*\u001b[39m v \u001b[38;5;28;01mfor\u001b[39;00m v \u001b[38;5;129;01min\u001b[39;00m pr_cen\u001b[38;5;241m.\u001b[39mvalues()]\n",
      "File \u001b[0;32m~/anaconda3/lib/python3.11/site-packages/networkx/drawing/nx_agraph.py:251\u001b[0m, in \u001b[0;36mgraphviz_layout\u001b[0;34m(G, prog, root, args)\u001b[0m\n\u001b[1;32m    220\u001b[0m \u001b[38;5;28;01mdef\u001b[39;00m \u001b[38;5;21mgraphviz_layout\u001b[39m(G, prog\u001b[38;5;241m=\u001b[39m\u001b[38;5;124m\"\u001b[39m\u001b[38;5;124mneato\u001b[39m\u001b[38;5;124m\"\u001b[39m, root\u001b[38;5;241m=\u001b[39m\u001b[38;5;28;01mNone\u001b[39;00m, args\u001b[38;5;241m=\u001b[39m\u001b[38;5;124m\"\u001b[39m\u001b[38;5;124m\"\u001b[39m):\n\u001b[1;32m    221\u001b[0m \u001b[38;5;250m    \u001b[39m\u001b[38;5;124;03m\"\"\"Create node positions for G using Graphviz.\u001b[39;00m\n\u001b[1;32m    222\u001b[0m \n\u001b[1;32m    223\u001b[0m \u001b[38;5;124;03m    Parameters\u001b[39;00m\n\u001b[0;32m   (...)\u001b[0m\n\u001b[1;32m    249\u001b[0m \u001b[38;5;124;03m    see https://gitlab.com/graphviz/graphviz/-/issues/1767 for more info.\u001b[39;00m\n\u001b[1;32m    250\u001b[0m \u001b[38;5;124;03m    \"\"\"\u001b[39;00m\n\u001b[0;32m--> 251\u001b[0m     \u001b[38;5;28;01mreturn\u001b[39;00m pygraphviz_layout(G, prog\u001b[38;5;241m=\u001b[39mprog, root\u001b[38;5;241m=\u001b[39mroot, args\u001b[38;5;241m=\u001b[39margs)\n",
      "File \u001b[0;32m~/anaconda3/lib/python3.11/site-packages/networkx/drawing/nx_agraph.py:297\u001b[0m, in \u001b[0;36mpygraphviz_layout\u001b[0;34m(G, prog, root, args)\u001b[0m\n\u001b[1;32m    295\u001b[0m     \u001b[38;5;28;01mimport\u001b[39;00m \u001b[38;5;21;01mpygraphviz\u001b[39;00m\n\u001b[1;32m    296\u001b[0m \u001b[38;5;28;01mexcept\u001b[39;00m \u001b[38;5;167;01mImportError\u001b[39;00m \u001b[38;5;28;01mas\u001b[39;00m err:\n\u001b[0;32m--> 297\u001b[0m     \u001b[38;5;28;01mraise\u001b[39;00m \u001b[38;5;167;01mImportError\u001b[39;00m(\n\u001b[1;32m    298\u001b[0m         \u001b[38;5;124m\"\u001b[39m\u001b[38;5;124mrequires pygraphviz \u001b[39m\u001b[38;5;124m\"\u001b[39m \u001b[38;5;124m\"\u001b[39m\u001b[38;5;124mhttp://pygraphviz.github.io/\u001b[39m\u001b[38;5;124m\"\u001b[39m\n\u001b[1;32m    299\u001b[0m     ) \u001b[38;5;28;01mfrom\u001b[39;00m \u001b[38;5;21;01merr\u001b[39;00m\n\u001b[1;32m    300\u001b[0m \u001b[38;5;28;01mif\u001b[39;00m root \u001b[38;5;129;01mis\u001b[39;00m \u001b[38;5;129;01mnot\u001b[39;00m \u001b[38;5;28;01mNone\u001b[39;00m:\n\u001b[1;32m    301\u001b[0m     args \u001b[38;5;241m+\u001b[39m\u001b[38;5;241m=\u001b[39m \u001b[38;5;124mf\u001b[39m\u001b[38;5;124m\"\u001b[39m\u001b[38;5;124m-Groot=\u001b[39m\u001b[38;5;132;01m{\u001b[39;00mroot\u001b[38;5;132;01m}\u001b[39;00m\u001b[38;5;124m\"\u001b[39m\n",
      "\u001b[0;31mImportError\u001b[0m: requires pygraphviz http://pygraphviz.github.io/"
     ]
    }
   ],
   "source": [
    "# Draw the graph with node size and color proportional to Pagerank centrality\n",
    "pr_cen = nx.pagerank(G)\n",
    "#pos = nx.spring_layout(G)\n",
    "#pos = graphviz_layout(G, prog='neato')\n",
    "#pos = nx.spring_layout(G)\n",
    "#pos = graphviz_layout(G, prog='sfdp')\n",
    "#pos = graphviz_layout(G, prog='patchwork')\n",
    "#pos = graphviz_layout(G, prog='fdp')\n",
    "#pos = graphviz_layout(G, prog='circo')\n",
    "#pos = graphviz_layout(G, prog='osage')\n",
    "pos = graphviz_layout(G, prog='twopi')\n",
    "#pos = graphviz_layout(G, prog='dot')\n",
    "#pos = nx.random_layout(G)\n",
    "#pos = nx.spectral_layout(G)\n",
    "#pos = nx.circular_layout(G)\n",
    "node_sizes = [5000 * v for v in pr_cen.values()]\n",
    "node_colors = list(pr_cen.values())\n",
    "nx.draw_networkx_nodes(G, pos, node_size=node_sizes, node_color=node_colors, cmap=plt.cm.Reds)\n",
    "nx.draw_networkx_edges(G, pos)\n",
    "nx.draw_networkx_labels(G, pos)\n",
    "plt.colorbar()\n",
    "plt.show()"
   ]
  },
  {
   "cell_type": "code",
   "execution_count": 104,
   "id": "993dad80-d3bb-4586-9ae1-73fcf8f87f2b",
   "metadata": {
    "tags": []
   },
   "outputs": [
    {
     "ename": "ImportError",
     "evalue": "requires pygraphviz http://pygraphviz.github.io/",
     "output_type": "error",
     "traceback": [
      "\u001b[0;31m---------------------------------------------------------------------------\u001b[0m",
      "\u001b[0;31mModuleNotFoundError\u001b[0m                       Traceback (most recent call last)",
      "File \u001b[0;32m~/anaconda3/lib/python3.11/site-packages/networkx/drawing/nx_agraph.py:295\u001b[0m, in \u001b[0;36mpygraphviz_layout\u001b[0;34m(G, prog, root, args)\u001b[0m\n\u001b[1;32m    294\u001b[0m \u001b[38;5;28;01mtry\u001b[39;00m:\n\u001b[0;32m--> 295\u001b[0m     \u001b[38;5;28;01mimport\u001b[39;00m \u001b[38;5;21;01mpygraphviz\u001b[39;00m\n\u001b[1;32m    296\u001b[0m \u001b[38;5;28;01mexcept\u001b[39;00m \u001b[38;5;167;01mImportError\u001b[39;00m \u001b[38;5;28;01mas\u001b[39;00m err:\n",
      "\u001b[0;31mModuleNotFoundError\u001b[0m: No module named 'pygraphviz'",
      "\nThe above exception was the direct cause of the following exception:\n",
      "\u001b[0;31mImportError\u001b[0m                               Traceback (most recent call last)",
      "Cell \u001b[0;32mIn[104], line 11\u001b[0m\n\u001b[1;32m      2\u001b[0m eig_cen \u001b[38;5;241m=\u001b[39m nx\u001b[38;5;241m.\u001b[39meigenvector_centrality_numpy(G)\n\u001b[1;32m      3\u001b[0m \u001b[38;5;66;03m#pos = nx.random_layout(G)\u001b[39;00m\n\u001b[1;32m      4\u001b[0m \u001b[38;5;66;03m#pos = nx.spectral_layout(G)\u001b[39;00m\n\u001b[1;32m      5\u001b[0m \u001b[38;5;66;03m#pos = nx.circular_layout(G)\u001b[39;00m\n\u001b[0;32m   (...)\u001b[0m\n\u001b[1;32m      9\u001b[0m \u001b[38;5;66;03m#pos = graphviz_layout(G, prog='patchwork')\u001b[39;00m\n\u001b[1;32m     10\u001b[0m \u001b[38;5;66;03m#pos = graphviz_layout(G, prog='fdp')\u001b[39;00m\n\u001b[0;32m---> 11\u001b[0m pos \u001b[38;5;241m=\u001b[39m graphviz_layout(G, prog\u001b[38;5;241m=\u001b[39m\u001b[38;5;124m'\u001b[39m\u001b[38;5;124mcirco\u001b[39m\u001b[38;5;124m'\u001b[39m)\n\u001b[1;32m     12\u001b[0m \u001b[38;5;66;03m#pos = graphviz_layout(G, prog='osage')\u001b[39;00m\n\u001b[1;32m     13\u001b[0m \u001b[38;5;66;03m#pos = graphviz_layout(G, prog='twopi')\u001b[39;00m\n\u001b[1;32m     14\u001b[0m \u001b[38;5;66;03m#pos = graphviz_layout(G, prog='dot')\u001b[39;00m\n\u001b[1;32m     15\u001b[0m node_sizes \u001b[38;5;241m=\u001b[39m[\u001b[38;5;241m5000\u001b[39m \u001b[38;5;241m*\u001b[39m v \u001b[38;5;28;01mfor\u001b[39;00m v \u001b[38;5;129;01min\u001b[39;00m eig_cen\u001b[38;5;241m.\u001b[39mvalues()]\n",
      "File \u001b[0;32m~/anaconda3/lib/python3.11/site-packages/networkx/drawing/nx_agraph.py:251\u001b[0m, in \u001b[0;36mgraphviz_layout\u001b[0;34m(G, prog, root, args)\u001b[0m\n\u001b[1;32m    220\u001b[0m \u001b[38;5;28;01mdef\u001b[39;00m \u001b[38;5;21mgraphviz_layout\u001b[39m(G, prog\u001b[38;5;241m=\u001b[39m\u001b[38;5;124m\"\u001b[39m\u001b[38;5;124mneato\u001b[39m\u001b[38;5;124m\"\u001b[39m, root\u001b[38;5;241m=\u001b[39m\u001b[38;5;28;01mNone\u001b[39;00m, args\u001b[38;5;241m=\u001b[39m\u001b[38;5;124m\"\u001b[39m\u001b[38;5;124m\"\u001b[39m):\n\u001b[1;32m    221\u001b[0m \u001b[38;5;250m    \u001b[39m\u001b[38;5;124;03m\"\"\"Create node positions for G using Graphviz.\u001b[39;00m\n\u001b[1;32m    222\u001b[0m \n\u001b[1;32m    223\u001b[0m \u001b[38;5;124;03m    Parameters\u001b[39;00m\n\u001b[0;32m   (...)\u001b[0m\n\u001b[1;32m    249\u001b[0m \u001b[38;5;124;03m    see https://gitlab.com/graphviz/graphviz/-/issues/1767 for more info.\u001b[39;00m\n\u001b[1;32m    250\u001b[0m \u001b[38;5;124;03m    \"\"\"\u001b[39;00m\n\u001b[0;32m--> 251\u001b[0m     \u001b[38;5;28;01mreturn\u001b[39;00m pygraphviz_layout(G, prog\u001b[38;5;241m=\u001b[39mprog, root\u001b[38;5;241m=\u001b[39mroot, args\u001b[38;5;241m=\u001b[39margs)\n",
      "File \u001b[0;32m~/anaconda3/lib/python3.11/site-packages/networkx/drawing/nx_agraph.py:297\u001b[0m, in \u001b[0;36mpygraphviz_layout\u001b[0;34m(G, prog, root, args)\u001b[0m\n\u001b[1;32m    295\u001b[0m     \u001b[38;5;28;01mimport\u001b[39;00m \u001b[38;5;21;01mpygraphviz\u001b[39;00m\n\u001b[1;32m    296\u001b[0m \u001b[38;5;28;01mexcept\u001b[39;00m \u001b[38;5;167;01mImportError\u001b[39;00m \u001b[38;5;28;01mas\u001b[39;00m err:\n\u001b[0;32m--> 297\u001b[0m     \u001b[38;5;28;01mraise\u001b[39;00m \u001b[38;5;167;01mImportError\u001b[39;00m(\n\u001b[1;32m    298\u001b[0m         \u001b[38;5;124m\"\u001b[39m\u001b[38;5;124mrequires pygraphviz \u001b[39m\u001b[38;5;124m\"\u001b[39m \u001b[38;5;124m\"\u001b[39m\u001b[38;5;124mhttp://pygraphviz.github.io/\u001b[39m\u001b[38;5;124m\"\u001b[39m\n\u001b[1;32m    299\u001b[0m     ) \u001b[38;5;28;01mfrom\u001b[39;00m \u001b[38;5;21;01merr\u001b[39;00m\n\u001b[1;32m    300\u001b[0m \u001b[38;5;28;01mif\u001b[39;00m root \u001b[38;5;129;01mis\u001b[39;00m \u001b[38;5;129;01mnot\u001b[39;00m \u001b[38;5;28;01mNone\u001b[39;00m:\n\u001b[1;32m    301\u001b[0m     args \u001b[38;5;241m+\u001b[39m\u001b[38;5;241m=\u001b[39m \u001b[38;5;124mf\u001b[39m\u001b[38;5;124m\"\u001b[39m\u001b[38;5;124m-Groot=\u001b[39m\u001b[38;5;132;01m{\u001b[39;00mroot\u001b[38;5;132;01m}\u001b[39;00m\u001b[38;5;124m\"\u001b[39m\n",
      "\u001b[0;31mImportError\u001b[0m: requires pygraphviz http://pygraphviz.github.io/"
     ]
    }
   ],
   "source": [
    "# Draw the graph with node size and color proportional to betweenness centrality\n",
    "eig_cen = nx.eigenvector_centrality_numpy(G)\n",
    "#pos = nx.random_layout(G)\n",
    "#pos = nx.spectral_layout(G)\n",
    "#pos = nx.circular_layout(G)\n",
    "#pos = nx.spring_layout(G)\n",
    "#pos = graphviz_layout(G, prog='neato')\n",
    "#pos = graphviz_layout(G, prog='sfdp')\n",
    "#pos = graphviz_layout(G, prog='patchwork')\n",
    "#pos = graphviz_layout(G, prog='fdp')\n",
    "pos = graphviz_layout(G, prog='circo')\n",
    "#pos = graphviz_layout(G, prog='osage')\n",
    "#pos = graphviz_layout(G, prog='twopi')\n",
    "#pos = graphviz_layout(G, prog='dot')\n",
    "node_sizes =[5000 * v for v in eig_cen.values()]\n",
    "node_colors = list(eig_cen.values())\n",
    "nx.draw_networkx_nodes(G, pos, node_size=node_sizes, node_color=node_colors, cmap=plt.cm.Reds)\n",
    "nx.draw_networkx_edges(G, pos)\n",
    "nx.draw_networkx_labels(G, pos)\n",
    "plt.colorbar()\n",
    "plt.show()"
   ]
  },
  {
   "cell_type": "code",
   "execution_count": 105,
   "id": "fc88d373-f25f-445f-802c-8e1ed804fdd8",
   "metadata": {
    "tags": []
   },
   "outputs": [
    {
     "ename": "ImportError",
     "evalue": "requires pygraphviz http://pygraphviz.github.io/",
     "output_type": "error",
     "traceback": [
      "\u001b[0;31m---------------------------------------------------------------------------\u001b[0m",
      "\u001b[0;31mModuleNotFoundError\u001b[0m                       Traceback (most recent call last)",
      "File \u001b[0;32m~/anaconda3/lib/python3.11/site-packages/networkx/drawing/nx_agraph.py:295\u001b[0m, in \u001b[0;36mpygraphviz_layout\u001b[0;34m(G, prog, root, args)\u001b[0m\n\u001b[1;32m    294\u001b[0m \u001b[38;5;28;01mtry\u001b[39;00m:\n\u001b[0;32m--> 295\u001b[0m     \u001b[38;5;28;01mimport\u001b[39;00m \u001b[38;5;21;01mpygraphviz\u001b[39;00m\n\u001b[1;32m    296\u001b[0m \u001b[38;5;28;01mexcept\u001b[39;00m \u001b[38;5;167;01mImportError\u001b[39;00m \u001b[38;5;28;01mas\u001b[39;00m err:\n",
      "\u001b[0;31mModuleNotFoundError\u001b[0m: No module named 'pygraphviz'",
      "\nThe above exception was the direct cause of the following exception:\n",
      "\u001b[0;31mImportError\u001b[0m                               Traceback (most recent call last)",
      "Cell \u001b[0;32mIn[105], line 10\u001b[0m\n\u001b[1;32m      2\u001b[0m communities \u001b[38;5;241m=\u001b[39m greedy_modularity_communities(G)\n\u001b[1;32m      3\u001b[0m \u001b[38;5;66;03m#pos = graphviz_layout(G, prog='neato')\u001b[39;00m\n\u001b[1;32m      4\u001b[0m \u001b[38;5;66;03m#pos = nx.spring_layout(G)\u001b[39;00m\n\u001b[1;32m      5\u001b[0m \u001b[38;5;66;03m#pos = graphviz_layout(G, prog='sfdp')\u001b[39;00m\n\u001b[0;32m   (...)\u001b[0m\n\u001b[1;32m      8\u001b[0m \u001b[38;5;66;03m#pos = graphviz_layout(G, prog='circo')\u001b[39;00m\n\u001b[1;32m      9\u001b[0m \u001b[38;5;66;03m#pos = graphviz_layout(G, prog='osage')\u001b[39;00m\n\u001b[0;32m---> 10\u001b[0m pos \u001b[38;5;241m=\u001b[39m graphviz_layout(G, prog\u001b[38;5;241m=\u001b[39m\u001b[38;5;124m'\u001b[39m\u001b[38;5;124mtwopi\u001b[39m\u001b[38;5;124m'\u001b[39m)\n\u001b[1;32m     11\u001b[0m \u001b[38;5;66;03m#pos = graphviz_layout(G, prog='dot')\u001b[39;00m\n\u001b[1;32m     12\u001b[0m \u001b[38;5;66;03m#€pos = nx.random_layout(G)\u001b[39;00m\n\u001b[1;32m     13\u001b[0m \u001b[38;5;66;03m#pos = nx.spectral_layout(G)\u001b[39;00m\n\u001b[1;32m     14\u001b[0m \u001b[38;5;66;03m#pos = nx.circular_layout(G)\u001b[39;00m\n\u001b[1;32m     15\u001b[0m colors \u001b[38;5;241m=\u001b[39m [\u001b[38;5;124m'\u001b[39m\u001b[38;5;124mr\u001b[39m\u001b[38;5;124m'\u001b[39m, \u001b[38;5;124m'\u001b[39m\u001b[38;5;124mg\u001b[39m\u001b[38;5;124m'\u001b[39m, \u001b[38;5;124m'\u001b[39m\u001b[38;5;124mb\u001b[39m\u001b[38;5;124m'\u001b[39m, \u001b[38;5;124m'\u001b[39m\u001b[38;5;124my\u001b[39m\u001b[38;5;124m'\u001b[39m, \u001b[38;5;124m'\u001b[39m\u001b[38;5;124mm\u001b[39m\u001b[38;5;124m'\u001b[39m, \u001b[38;5;124m'\u001b[39m\u001b[38;5;124mc\u001b[39m\u001b[38;5;124m'\u001b[39m, \u001b[38;5;124m'\u001b[39m\u001b[38;5;124mk\u001b[39m\u001b[38;5;124m'\u001b[39m]\n",
      "File \u001b[0;32m~/anaconda3/lib/python3.11/site-packages/networkx/drawing/nx_agraph.py:251\u001b[0m, in \u001b[0;36mgraphviz_layout\u001b[0;34m(G, prog, root, args)\u001b[0m\n\u001b[1;32m    220\u001b[0m \u001b[38;5;28;01mdef\u001b[39;00m \u001b[38;5;21mgraphviz_layout\u001b[39m(G, prog\u001b[38;5;241m=\u001b[39m\u001b[38;5;124m\"\u001b[39m\u001b[38;5;124mneato\u001b[39m\u001b[38;5;124m\"\u001b[39m, root\u001b[38;5;241m=\u001b[39m\u001b[38;5;28;01mNone\u001b[39;00m, args\u001b[38;5;241m=\u001b[39m\u001b[38;5;124m\"\u001b[39m\u001b[38;5;124m\"\u001b[39m):\n\u001b[1;32m    221\u001b[0m \u001b[38;5;250m    \u001b[39m\u001b[38;5;124;03m\"\"\"Create node positions for G using Graphviz.\u001b[39;00m\n\u001b[1;32m    222\u001b[0m \n\u001b[1;32m    223\u001b[0m \u001b[38;5;124;03m    Parameters\u001b[39;00m\n\u001b[0;32m   (...)\u001b[0m\n\u001b[1;32m    249\u001b[0m \u001b[38;5;124;03m    see https://gitlab.com/graphviz/graphviz/-/issues/1767 for more info.\u001b[39;00m\n\u001b[1;32m    250\u001b[0m \u001b[38;5;124;03m    \"\"\"\u001b[39;00m\n\u001b[0;32m--> 251\u001b[0m     \u001b[38;5;28;01mreturn\u001b[39;00m pygraphviz_layout(G, prog\u001b[38;5;241m=\u001b[39mprog, root\u001b[38;5;241m=\u001b[39mroot, args\u001b[38;5;241m=\u001b[39margs)\n",
      "File \u001b[0;32m~/anaconda3/lib/python3.11/site-packages/networkx/drawing/nx_agraph.py:297\u001b[0m, in \u001b[0;36mpygraphviz_layout\u001b[0;34m(G, prog, root, args)\u001b[0m\n\u001b[1;32m    295\u001b[0m     \u001b[38;5;28;01mimport\u001b[39;00m \u001b[38;5;21;01mpygraphviz\u001b[39;00m\n\u001b[1;32m    296\u001b[0m \u001b[38;5;28;01mexcept\u001b[39;00m \u001b[38;5;167;01mImportError\u001b[39;00m \u001b[38;5;28;01mas\u001b[39;00m err:\n\u001b[0;32m--> 297\u001b[0m     \u001b[38;5;28;01mraise\u001b[39;00m \u001b[38;5;167;01mImportError\u001b[39;00m(\n\u001b[1;32m    298\u001b[0m         \u001b[38;5;124m\"\u001b[39m\u001b[38;5;124mrequires pygraphviz \u001b[39m\u001b[38;5;124m\"\u001b[39m \u001b[38;5;124m\"\u001b[39m\u001b[38;5;124mhttp://pygraphviz.github.io/\u001b[39m\u001b[38;5;124m\"\u001b[39m\n\u001b[1;32m    299\u001b[0m     ) \u001b[38;5;28;01mfrom\u001b[39;00m \u001b[38;5;21;01merr\u001b[39;00m\n\u001b[1;32m    300\u001b[0m \u001b[38;5;28;01mif\u001b[39;00m root \u001b[38;5;129;01mis\u001b[39;00m \u001b[38;5;129;01mnot\u001b[39;00m \u001b[38;5;28;01mNone\u001b[39;00m:\n\u001b[1;32m    301\u001b[0m     args \u001b[38;5;241m+\u001b[39m\u001b[38;5;241m=\u001b[39m \u001b[38;5;124mf\u001b[39m\u001b[38;5;124m\"\u001b[39m\u001b[38;5;124m-Groot=\u001b[39m\u001b[38;5;132;01m{\u001b[39;00mroot\u001b[38;5;132;01m}\u001b[39;00m\u001b[38;5;124m\"\u001b[39m\n",
      "\u001b[0;31mImportError\u001b[0m: requires pygraphviz http://pygraphviz.github.io/"
     ]
    }
   ],
   "source": [
    "# Draw the graph with Harel – Koren Fast (buyukboyutlumatrislericin)Multiscale Layout algoritmas\n",
    "communities = greedy_modularity_communities(G)\n",
    "#pos = graphviz_layout(G, prog='neato')\n",
    "#pos = nx.spring_layout(G)\n",
    "#pos = graphviz_layout(G, prog='sfdp')\n",
    "#pos = graphviz_layout(G, prog='patchwork')\n",
    "#pos = graphviz_layout(G, prog='fdp')\n",
    "#pos = graphviz_layout(G, prog='circo')\n",
    "#pos = graphviz_layout(G, prog='osage')\n",
    "pos = graphviz_layout(G, prog='twopi')\n",
    "#pos = graphviz_layout(G, prog='dot')\n",
    "#€pos = nx.random_layout(G)\n",
    "#pos = nx.spectral_layout(G)\n",
    "#pos = nx.circular_layout(G)\n",
    "colors = ['r', 'g', 'b', 'y', 'm', 'c', 'k']\n",
    "for i, community in enumerate(communities):\n",
    "    nx.draw_networkx_nodes(G, pos, nodelist=list(community),\n",
    "                           node_color=f\"C{i}\")\n",
    "# Draw the edges of the graph\n",
    "nx.draw_networkx_edges(G, pos, alpha=0.9)\n",
    "nx.draw_networkx_labels(G, pos)\n",
    "# Display the graph\n",
    "plt.axis('off')\n",
    "plt.colorbar()\n",
    "plt.show()"
   ]
  },
  {
   "cell_type": "code",
   "execution_count": 106,
   "id": "54337d64-c409-419f-b0e9-a0e9a3a2fce8",
   "metadata": {
    "tags": []
   },
   "outputs": [
    {
     "ename": "ImportError",
     "evalue": "requires pygraphviz http://pygraphviz.github.io/",
     "output_type": "error",
     "traceback": [
      "\u001b[0;31m---------------------------------------------------------------------------\u001b[0m",
      "\u001b[0;31mModuleNotFoundError\u001b[0m                       Traceback (most recent call last)",
      "File \u001b[0;32m~/anaconda3/lib/python3.11/site-packages/networkx/drawing/nx_agraph.py:295\u001b[0m, in \u001b[0;36mpygraphviz_layout\u001b[0;34m(G, prog, root, args)\u001b[0m\n\u001b[1;32m    294\u001b[0m \u001b[38;5;28;01mtry\u001b[39;00m:\n\u001b[0;32m--> 295\u001b[0m     \u001b[38;5;28;01mimport\u001b[39;00m \u001b[38;5;21;01mpygraphviz\u001b[39;00m\n\u001b[1;32m    296\u001b[0m \u001b[38;5;28;01mexcept\u001b[39;00m \u001b[38;5;167;01mImportError\u001b[39;00m \u001b[38;5;28;01mas\u001b[39;00m err:\n",
      "\u001b[0;31mModuleNotFoundError\u001b[0m: No module named 'pygraphviz'",
      "\nThe above exception was the direct cause of the following exception:\n",
      "\u001b[0;31mImportError\u001b[0m                               Traceback (most recent call last)",
      "Cell \u001b[0;32mIn[106], line 8\u001b[0m\n\u001b[1;32m      2\u001b[0m pos \u001b[38;5;241m=\u001b[39m nx\u001b[38;5;241m.\u001b[39mfruchterman_reingold_layout(G)\n\u001b[1;32m      3\u001b[0m \u001b[38;5;66;03m#pos = nx.spring_layout(G)\u001b[39;00m\n\u001b[1;32m      4\u001b[0m \u001b[38;5;66;03m#pos = graphviz_layout(G, prog='sfdp')\u001b[39;00m\n\u001b[1;32m      5\u001b[0m \u001b[38;5;66;03m#pos = graphviz_layout(G, prog='patchwork')\u001b[39;00m\n\u001b[1;32m      6\u001b[0m \u001b[38;5;66;03m#pos = graphviz_layout(G, prog='fdp')\u001b[39;00m\n\u001b[1;32m      7\u001b[0m \u001b[38;5;66;03m#pos = graphviz_layout(G, prog='circo')pos = graphviz_layout(G, prog='osage')\u001b[39;00m\n\u001b[0;32m----> 8\u001b[0m pos \u001b[38;5;241m=\u001b[39m graphviz_layout(G, prog\u001b[38;5;241m=\u001b[39m\u001b[38;5;124m'\u001b[39m\u001b[38;5;124mtwopi\u001b[39m\u001b[38;5;124m'\u001b[39m)\n\u001b[1;32m      9\u001b[0m \u001b[38;5;66;03m#pos = graphviz_layout(G, prog='neato')\u001b[39;00m\n\u001b[1;32m     10\u001b[0m \u001b[38;5;66;03m#pos = graphviz_layout(G, prog='dot')\u001b[39;00m\n\u001b[1;32m     11\u001b[0m \u001b[38;5;66;03m#pos = nx.random_layout(G)\u001b[39;00m\n\u001b[1;32m     12\u001b[0m \u001b[38;5;66;03m#pos = nx.spectral_layout(G)\u001b[39;00m\n\u001b[1;32m     13\u001b[0m \u001b[38;5;66;03m#pos = nx.circular_layout(G)\u001b[39;00m\n\u001b[1;32m     15\u001b[0m colors \u001b[38;5;241m=\u001b[39m [\u001b[38;5;124m'\u001b[39m\u001b[38;5;124mr\u001b[39m\u001b[38;5;124m'\u001b[39m, \u001b[38;5;124m'\u001b[39m\u001b[38;5;124mg\u001b[39m\u001b[38;5;124m'\u001b[39m, \u001b[38;5;124m'\u001b[39m\u001b[38;5;124mb\u001b[39m\u001b[38;5;124m'\u001b[39m, \u001b[38;5;124m'\u001b[39m\u001b[38;5;124my\u001b[39m\u001b[38;5;124m'\u001b[39m, \u001b[38;5;124m'\u001b[39m\u001b[38;5;124mm\u001b[39m\u001b[38;5;124m'\u001b[39m, \u001b[38;5;124m'\u001b[39m\u001b[38;5;124mc\u001b[39m\u001b[38;5;124m'\u001b[39m, \u001b[38;5;124m'\u001b[39m\u001b[38;5;124mk\u001b[39m\u001b[38;5;124m'\u001b[39m]\n",
      "File \u001b[0;32m~/anaconda3/lib/python3.11/site-packages/networkx/drawing/nx_agraph.py:251\u001b[0m, in \u001b[0;36mgraphviz_layout\u001b[0;34m(G, prog, root, args)\u001b[0m\n\u001b[1;32m    220\u001b[0m \u001b[38;5;28;01mdef\u001b[39;00m \u001b[38;5;21mgraphviz_layout\u001b[39m(G, prog\u001b[38;5;241m=\u001b[39m\u001b[38;5;124m\"\u001b[39m\u001b[38;5;124mneato\u001b[39m\u001b[38;5;124m\"\u001b[39m, root\u001b[38;5;241m=\u001b[39m\u001b[38;5;28;01mNone\u001b[39;00m, args\u001b[38;5;241m=\u001b[39m\u001b[38;5;124m\"\u001b[39m\u001b[38;5;124m\"\u001b[39m):\n\u001b[1;32m    221\u001b[0m \u001b[38;5;250m    \u001b[39m\u001b[38;5;124;03m\"\"\"Create node positions for G using Graphviz.\u001b[39;00m\n\u001b[1;32m    222\u001b[0m \n\u001b[1;32m    223\u001b[0m \u001b[38;5;124;03m    Parameters\u001b[39;00m\n\u001b[0;32m   (...)\u001b[0m\n\u001b[1;32m    249\u001b[0m \u001b[38;5;124;03m    see https://gitlab.com/graphviz/graphviz/-/issues/1767 for more info.\u001b[39;00m\n\u001b[1;32m    250\u001b[0m \u001b[38;5;124;03m    \"\"\"\u001b[39;00m\n\u001b[0;32m--> 251\u001b[0m     \u001b[38;5;28;01mreturn\u001b[39;00m pygraphviz_layout(G, prog\u001b[38;5;241m=\u001b[39mprog, root\u001b[38;5;241m=\u001b[39mroot, args\u001b[38;5;241m=\u001b[39margs)\n",
      "File \u001b[0;32m~/anaconda3/lib/python3.11/site-packages/networkx/drawing/nx_agraph.py:297\u001b[0m, in \u001b[0;36mpygraphviz_layout\u001b[0;34m(G, prog, root, args)\u001b[0m\n\u001b[1;32m    295\u001b[0m     \u001b[38;5;28;01mimport\u001b[39;00m \u001b[38;5;21;01mpygraphviz\u001b[39;00m\n\u001b[1;32m    296\u001b[0m \u001b[38;5;28;01mexcept\u001b[39;00m \u001b[38;5;167;01mImportError\u001b[39;00m \u001b[38;5;28;01mas\u001b[39;00m err:\n\u001b[0;32m--> 297\u001b[0m     \u001b[38;5;28;01mraise\u001b[39;00m \u001b[38;5;167;01mImportError\u001b[39;00m(\n\u001b[1;32m    298\u001b[0m         \u001b[38;5;124m\"\u001b[39m\u001b[38;5;124mrequires pygraphviz \u001b[39m\u001b[38;5;124m\"\u001b[39m \u001b[38;5;124m\"\u001b[39m\u001b[38;5;124mhttp://pygraphviz.github.io/\u001b[39m\u001b[38;5;124m\"\u001b[39m\n\u001b[1;32m    299\u001b[0m     ) \u001b[38;5;28;01mfrom\u001b[39;00m \u001b[38;5;21;01merr\u001b[39;00m\n\u001b[1;32m    300\u001b[0m \u001b[38;5;28;01mif\u001b[39;00m root \u001b[38;5;129;01mis\u001b[39;00m \u001b[38;5;129;01mnot\u001b[39;00m \u001b[38;5;28;01mNone\u001b[39;00m:\n\u001b[1;32m    301\u001b[0m     args \u001b[38;5;241m+\u001b[39m\u001b[38;5;241m=\u001b[39m \u001b[38;5;124mf\u001b[39m\u001b[38;5;124m\"\u001b[39m\u001b[38;5;124m-Groot=\u001b[39m\u001b[38;5;132;01m{\u001b[39;00mroot\u001b[38;5;132;01m}\u001b[39;00m\u001b[38;5;124m\"\u001b[39m\n",
      "\u001b[0;31mImportError\u001b[0m: requires pygraphviz http://pygraphviz.github.io/"
     ]
    }
   ],
   "source": [
    "# Compute the Fruchterman-Reingold layout for the graph\n",
    "pos = nx.fruchterman_reingold_layout(G)\n",
    "#pos = nx.spring_layout(G)\n",
    "#pos = graphviz_layout(G, prog='sfdp')\n",
    "#pos = graphviz_layout(G, prog='patchwork')\n",
    "#pos = graphviz_layout(G, prog='fdp')\n",
    "#pos = graphviz_layout(G, prog='circo')pos = graphviz_layout(G, prog='osage')\n",
    "pos = graphviz_layout(G, prog='twopi')\n",
    "#pos = graphviz_layout(G, prog='neato')\n",
    "#pos = graphviz_layout(G, prog='dot')\n",
    "#pos = nx.random_layout(G)\n",
    "#pos = nx.spectral_layout(G)\n",
    "#pos = nx.circular_layout(G)\n",
    "\n",
    "colors = ['r', 'g', 'b', 'y', 'm', 'c', 'k']\n",
    "for i, community in enumerate(communities):\n",
    "    nx.draw_networkx_nodes(G, pos, nodelist=list(community),\n",
    "                           node_color=f\"C{i}\")\n",
    "# Draw the graph with the Fruchterman-Reingold layout\n",
    "#nx.draw_networkx_nodes(G, pos, node_size=500, alpha=0.1)\n",
    "nx.draw_networkx_edges(G, pos, alpha=0.9)\n",
    "nx.draw_networkx_labels(G, pos)\n",
    "\n",
    "\n",
    "# Display the graph\n",
    "plt.axis('off')\n",
    "plt.show()"
   ]
  },
  {
   "cell_type": "code",
   "execution_count": 107,
   "id": "9d7150ee-3b4f-413f-b925-5d2bf54d2533",
   "metadata": {
    "tags": []
   },
   "outputs": [
    {
     "ename": "ImportError",
     "evalue": "requires pygraphviz http://pygraphviz.github.io/",
     "output_type": "error",
     "traceback": [
      "\u001b[0;31m---------------------------------------------------------------------------\u001b[0m",
      "\u001b[0;31mModuleNotFoundError\u001b[0m                       Traceback (most recent call last)",
      "File \u001b[0;32m~/anaconda3/lib/python3.11/site-packages/networkx/drawing/nx_agraph.py:295\u001b[0m, in \u001b[0;36mpygraphviz_layout\u001b[0;34m(G, prog, root, args)\u001b[0m\n\u001b[1;32m    294\u001b[0m \u001b[38;5;28;01mtry\u001b[39;00m:\n\u001b[0;32m--> 295\u001b[0m     \u001b[38;5;28;01mimport\u001b[39;00m \u001b[38;5;21;01mpygraphviz\u001b[39;00m\n\u001b[1;32m    296\u001b[0m \u001b[38;5;28;01mexcept\u001b[39;00m \u001b[38;5;167;01mImportError\u001b[39;00m \u001b[38;5;28;01mas\u001b[39;00m err:\n",
      "\u001b[0;31mModuleNotFoundError\u001b[0m: No module named 'pygraphviz'",
      "\nThe above exception was the direct cause of the following exception:\n",
      "\u001b[0;31mImportError\u001b[0m                               Traceback (most recent call last)",
      "Cell \u001b[0;32mIn[107], line 14\u001b[0m\n\u001b[1;32m      4\u001b[0m katz_cen \u001b[38;5;241m=\u001b[39m nx\u001b[38;5;241m.\u001b[39mkatz_centrality(G, alpha\u001b[38;5;241m=\u001b[39malpha, beta\u001b[38;5;241m=\u001b[39mbeta)\n\u001b[1;32m      6\u001b[0m \u001b[38;5;66;03m# Draw the graph using the circular layout\u001b[39;00m\n\u001b[1;32m      7\u001b[0m \u001b[38;5;66;03m#pos = nx.circular_layout(G)\u001b[39;00m\n\u001b[1;32m      8\u001b[0m \u001b[38;5;66;03m#pos = nx.spring_layout(G)\u001b[39;00m\n\u001b[0;32m   (...)\u001b[0m\n\u001b[1;32m     12\u001b[0m \u001b[38;5;66;03m#pos = graphviz_layout(G, prog='circo')\u001b[39;00m\n\u001b[1;32m     13\u001b[0m \u001b[38;5;66;03m#pos = graphviz_layout(G, prog='osage')\u001b[39;00m\n\u001b[0;32m---> 14\u001b[0m pos \u001b[38;5;241m=\u001b[39m graphviz_layout(G, prog\u001b[38;5;241m=\u001b[39m\u001b[38;5;124m'\u001b[39m\u001b[38;5;124mtwopi\u001b[39m\u001b[38;5;124m'\u001b[39m)\n\u001b[1;32m     15\u001b[0m \u001b[38;5;66;03m#pos = graphviz_layout(G, prog='neato')\u001b[39;00m\n\u001b[1;32m     16\u001b[0m \u001b[38;5;66;03m#pos = graphviz_layout(G, prog='dot')\u001b[39;00m\n\u001b[1;32m     17\u001b[0m \u001b[38;5;66;03m#pos = nx.random_layout(G)\u001b[39;00m\n\u001b[1;32m     18\u001b[0m \u001b[38;5;66;03m#pos = nx.spectral_layout(G)\u001b[39;00m\n\u001b[1;32m     19\u001b[0m nx\u001b[38;5;241m.\u001b[39mdraw(G, pos, with_labels\u001b[38;5;241m=\u001b[39m\u001b[38;5;28;01mTrue\u001b[39;00m)\n",
      "File \u001b[0;32m~/anaconda3/lib/python3.11/site-packages/networkx/drawing/nx_agraph.py:251\u001b[0m, in \u001b[0;36mgraphviz_layout\u001b[0;34m(G, prog, root, args)\u001b[0m\n\u001b[1;32m    220\u001b[0m \u001b[38;5;28;01mdef\u001b[39;00m \u001b[38;5;21mgraphviz_layout\u001b[39m(G, prog\u001b[38;5;241m=\u001b[39m\u001b[38;5;124m\"\u001b[39m\u001b[38;5;124mneato\u001b[39m\u001b[38;5;124m\"\u001b[39m, root\u001b[38;5;241m=\u001b[39m\u001b[38;5;28;01mNone\u001b[39;00m, args\u001b[38;5;241m=\u001b[39m\u001b[38;5;124m\"\u001b[39m\u001b[38;5;124m\"\u001b[39m):\n\u001b[1;32m    221\u001b[0m \u001b[38;5;250m    \u001b[39m\u001b[38;5;124;03m\"\"\"Create node positions for G using Graphviz.\u001b[39;00m\n\u001b[1;32m    222\u001b[0m \n\u001b[1;32m    223\u001b[0m \u001b[38;5;124;03m    Parameters\u001b[39;00m\n\u001b[0;32m   (...)\u001b[0m\n\u001b[1;32m    249\u001b[0m \u001b[38;5;124;03m    see https://gitlab.com/graphviz/graphviz/-/issues/1767 for more info.\u001b[39;00m\n\u001b[1;32m    250\u001b[0m \u001b[38;5;124;03m    \"\"\"\u001b[39;00m\n\u001b[0;32m--> 251\u001b[0m     \u001b[38;5;28;01mreturn\u001b[39;00m pygraphviz_layout(G, prog\u001b[38;5;241m=\u001b[39mprog, root\u001b[38;5;241m=\u001b[39mroot, args\u001b[38;5;241m=\u001b[39margs)\n",
      "File \u001b[0;32m~/anaconda3/lib/python3.11/site-packages/networkx/drawing/nx_agraph.py:297\u001b[0m, in \u001b[0;36mpygraphviz_layout\u001b[0;34m(G, prog, root, args)\u001b[0m\n\u001b[1;32m    295\u001b[0m     \u001b[38;5;28;01mimport\u001b[39;00m \u001b[38;5;21;01mpygraphviz\u001b[39;00m\n\u001b[1;32m    296\u001b[0m \u001b[38;5;28;01mexcept\u001b[39;00m \u001b[38;5;167;01mImportError\u001b[39;00m \u001b[38;5;28;01mas\u001b[39;00m err:\n\u001b[0;32m--> 297\u001b[0m     \u001b[38;5;28;01mraise\u001b[39;00m \u001b[38;5;167;01mImportError\u001b[39;00m(\n\u001b[1;32m    298\u001b[0m         \u001b[38;5;124m\"\u001b[39m\u001b[38;5;124mrequires pygraphviz \u001b[39m\u001b[38;5;124m\"\u001b[39m \u001b[38;5;124m\"\u001b[39m\u001b[38;5;124mhttp://pygraphviz.github.io/\u001b[39m\u001b[38;5;124m\"\u001b[39m\n\u001b[1;32m    299\u001b[0m     ) \u001b[38;5;28;01mfrom\u001b[39;00m \u001b[38;5;21;01merr\u001b[39;00m\n\u001b[1;32m    300\u001b[0m \u001b[38;5;28;01mif\u001b[39;00m root \u001b[38;5;129;01mis\u001b[39;00m \u001b[38;5;129;01mnot\u001b[39;00m \u001b[38;5;28;01mNone\u001b[39;00m:\n\u001b[1;32m    301\u001b[0m     args \u001b[38;5;241m+\u001b[39m\u001b[38;5;241m=\u001b[39m \u001b[38;5;124mf\u001b[39m\u001b[38;5;124m\"\u001b[39m\u001b[38;5;124m-Groot=\u001b[39m\u001b[38;5;132;01m{\u001b[39;00mroot\u001b[38;5;132;01m}\u001b[39;00m\u001b[38;5;124m\"\u001b[39m\n",
      "\u001b[0;31mImportError\u001b[0m: requires pygraphviz http://pygraphviz.github.io/"
     ]
    }
   ],
   "source": [
    "# Compute the Katz centrality for each node\n",
    "alpha = 0.1\n",
    "beta = 1.0\n",
    "katz_cen = nx.katz_centrality(G, alpha=alpha, beta=beta)\n",
    "\n",
    "# Draw the graph using the circular layout\n",
    "#pos = nx.circular_layout(G)\n",
    "#pos = nx.spring_layout(G)\n",
    "#pos = graphviz_layout(G, prog='sfdp')\n",
    "#pos = graphviz_layout(G, prog='patchwork')\n",
    "#pos = graphviz_layout(G, prog='fdp')\n",
    "#pos = graphviz_layout(G, prog='circo')\n",
    "#pos = graphviz_layout(G, prog='osage')\n",
    "pos = graphviz_layout(G, prog='twopi')\n",
    "#pos = graphviz_layout(G, prog='neato')\n",
    "#pos = graphviz_layout(G, prog='dot')\n",
    "#pos = nx.random_layout(G)\n",
    "#pos = nx.spectral_layout(G)\n",
    "nx.draw(G, pos, with_labels=True)\n",
    "\n",
    "# Draw the node labels with the Katz centrality values\n",
    "node_sizes = [3000 * v for v in katz_cen.values()]\n",
    "node_colors = list(katz_cen.values())\n",
    "nx.draw_networkx_nodes(G, pos, node_size=node_sizes, alpha=0.5)\n",
    "nx.draw_networkx_edges(G, pos, alpha=0.5)\n",
    "nx.draw_networkx_labels(G, pos)\n",
    "# Show the plot\n",
    "plt.show()"
   ]
  },
  {
   "cell_type": "code",
   "execution_count": 108,
   "id": "febe6af4-1126-46a8-ab56-da0f0cd1a06a",
   "metadata": {
    "tags": []
   },
   "outputs": [
    {
     "ename": "NameError",
     "evalue": "name 'katz_centrality' is not defined",
     "output_type": "error",
     "traceback": [
      "\u001b[0;31m---------------------------------------------------------------------------\u001b[0m",
      "\u001b[0;31mNameError\u001b[0m                                 Traceback (most recent call last)",
      "Cell \u001b[0;32mIn[108], line 2\u001b[0m\n\u001b[1;32m      1\u001b[0m \u001b[38;5;66;03m# Print the Katz centrality for each node\u001b[39;00m\n\u001b[0;32m----> 2\u001b[0m \u001b[38;5;28;01mfor\u001b[39;00m node, centrality \u001b[38;5;129;01min\u001b[39;00m katz_centrality\u001b[38;5;241m.\u001b[39mitems():\n\u001b[1;32m      3\u001b[0m     \u001b[38;5;28mprint\u001b[39m(\u001b[38;5;124mf\u001b[39m\u001b[38;5;124m\"\u001b[39m\u001b[38;5;124mNode \u001b[39m\u001b[38;5;132;01m{\u001b[39;00mnode\u001b[38;5;132;01m}\u001b[39;00m\u001b[38;5;124m: Katz Centrality = \u001b[39m\u001b[38;5;132;01m{\u001b[39;00mcentrality\u001b[38;5;132;01m}\u001b[39;00m\u001b[38;5;124m\"\u001b[39m)\n",
      "\u001b[0;31mNameError\u001b[0m: name 'katz_centrality' is not defined"
     ]
    }
   ],
   "source": [
    "# Print the Katz centrality for each node\n",
    "for node, centrality in katz_centrality.items():\n",
    "    print(f\"Node {node}: Katz Centrality = {centrality}\")"
   ]
  },
  {
   "cell_type": "code",
   "execution_count": 109,
   "id": "223addc0-60ca-4c7d-87d1-f772a6ab1b32",
   "metadata": {
    "tags": []
   },
   "outputs": [
    {
     "ename": "AttributeError",
     "evalue": "module 'community' has no attribute 'best_partition'",
     "output_type": "error",
     "traceback": [
      "\u001b[0;31m---------------------------------------------------------------------------\u001b[0m",
      "\u001b[0;31mAttributeError\u001b[0m                            Traceback (most recent call last)",
      "Cell \u001b[0;32mIn[109], line 2\u001b[0m\n\u001b[1;32m      1\u001b[0m \u001b[38;5;66;03m# Apply the Louvain method to detect communities\u001b[39;00m\n\u001b[0;32m----> 2\u001b[0m partition \u001b[38;5;241m=\u001b[39m community\u001b[38;5;241m.\u001b[39mbest_partition(G)\n\u001b[1;32m      4\u001b[0m pos \u001b[38;5;241m=\u001b[39m nx\u001b[38;5;241m.\u001b[39mspring_layout(G)\n\u001b[1;32m      5\u001b[0m \u001b[38;5;66;03m#pos = graphviz_layout(G, prog='sfdp')\u001b[39;00m\n\u001b[1;32m      6\u001b[0m \u001b[38;5;66;03m#pos = graphviz_layout(G, prog='patchwork')\u001b[39;00m\n\u001b[1;32m      7\u001b[0m \u001b[38;5;66;03m#pos = graphviz_layout(G, prog='fdp')\u001b[39;00m\n\u001b[0;32m   (...)\u001b[0m\n\u001b[1;32m     14\u001b[0m \u001b[38;5;66;03m#pos = nx.spectral_layout(G)\u001b[39;00m\n\u001b[1;32m     15\u001b[0m \u001b[38;5;66;03m#pos = nx.circular_layout(G)\u001b[39;00m\n",
      "\u001b[0;31mAttributeError\u001b[0m: module 'community' has no attribute 'best_partition'"
     ]
    }
   ],
   "source": [
    "# Apply the Louvain method to detect communities\n",
    "partition = community.best_partition(G)\n",
    "\n",
    "pos = nx.spring_layout(G)\n",
    "#pos = graphviz_layout(G, prog='sfdp')\n",
    "#pos = graphviz_layout(G, prog='patchwork')\n",
    "#pos = graphviz_layout(G, prog='fdp')\n",
    "#pos = graphviz_layout(G, prog='circo')\n",
    "#pos = graphviz_layout(G, prog='osage')\n",
    "#pos = graphviz_layout(G, prog='twopi')\n",
    "#pos = graphviz_layout(G, prog='neato')\n",
    "#pos = graphviz_layout(G, prog='dot')\n",
    "#pos = nx.random_layout(G)\n",
    "#pos = nx.spectral_layout(G)\n",
    "#pos = nx.circular_layout(G)\n",
    "\n",
    "nx.draw_networkx_nodes(G, pos, node_color=list(partition.values()))\n",
    "nx.draw_networkx_edges(G, pos)\n",
    "nx.draw_networkx_labels(G, pos)\n",
    "plt.show()\n",
    "\n",
    "# Print the communities\n",
    "for node, comm_id in partition.items():\n",
    "    print(f\"Node {node} belongs to community {comm_id}\")"
   ]
  },
  {
   "cell_type": "code",
   "execution_count": 110,
   "id": "f6daf613-dc88-4c7f-bad9-8c3c91ad96bf",
   "metadata": {
    "tags": []
   },
   "outputs": [
    {
     "ename": "ImportError",
     "evalue": "requires pygraphviz http://pygraphviz.github.io/",
     "output_type": "error",
     "traceback": [
      "\u001b[0;31m---------------------------------------------------------------------------\u001b[0m",
      "\u001b[0;31mModuleNotFoundError\u001b[0m                       Traceback (most recent call last)",
      "File \u001b[0;32m~/anaconda3/lib/python3.11/site-packages/networkx/drawing/nx_agraph.py:295\u001b[0m, in \u001b[0;36mpygraphviz_layout\u001b[0;34m(G, prog, root, args)\u001b[0m\n\u001b[1;32m    294\u001b[0m \u001b[38;5;28;01mtry\u001b[39;00m:\n\u001b[0;32m--> 295\u001b[0m     \u001b[38;5;28;01mimport\u001b[39;00m \u001b[38;5;21;01mpygraphviz\u001b[39;00m\n\u001b[1;32m    296\u001b[0m \u001b[38;5;28;01mexcept\u001b[39;00m \u001b[38;5;167;01mImportError\u001b[39;00m \u001b[38;5;28;01mas\u001b[39;00m err:\n",
      "\u001b[0;31mModuleNotFoundError\u001b[0m: No module named 'pygraphviz'",
      "\nThe above exception was the direct cause of the following exception:\n",
      "\u001b[0;31mImportError\u001b[0m                               Traceback (most recent call last)",
      "Cell \u001b[0;32mIn[110], line 13\u001b[0m\n\u001b[1;32m      3\u001b[0m first_partition \u001b[38;5;241m=\u001b[39m \u001b[38;5;28mnext\u001b[39m(communities)\n\u001b[1;32m      5\u001b[0m \u001b[38;5;66;03m# Draw the graph with the first partition\u001b[39;00m\n\u001b[1;32m      6\u001b[0m \u001b[38;5;66;03m#pos = nx.spring_layout(G)\u001b[39;00m\n\u001b[1;32m      7\u001b[0m \n\u001b[0;32m   (...)\u001b[0m\n\u001b[1;32m     11\u001b[0m \u001b[38;5;66;03m#pos = graphviz_layout(G, prog='circo')\u001b[39;00m\n\u001b[1;32m     12\u001b[0m \u001b[38;5;66;03m#pos = graphviz_layout(G, prog='osage')\u001b[39;00m\n\u001b[0;32m---> 13\u001b[0m pos \u001b[38;5;241m=\u001b[39m graphviz_layout(G, prog\u001b[38;5;241m=\u001b[39m\u001b[38;5;124m'\u001b[39m\u001b[38;5;124mtwopi\u001b[39m\u001b[38;5;124m'\u001b[39m)\n\u001b[1;32m     14\u001b[0m \u001b[38;5;66;03m#pos = graphviz_layout(G, prog='neato')\u001b[39;00m\n\u001b[1;32m     15\u001b[0m \u001b[38;5;66;03m#pos = graphviz_layout(G, prog='dot')\u001b[39;00m\n\u001b[1;32m     16\u001b[0m \u001b[38;5;66;03m#pos = nx.random_layout(G)\u001b[39;00m\n\u001b[1;32m     17\u001b[0m \u001b[38;5;66;03m#pos = nx.spectral_layout(G)\u001b[39;00m\n\u001b[1;32m     18\u001b[0m \u001b[38;5;66;03m#pos = nx.circular_layout(G)\u001b[39;00m\n\u001b[1;32m     20\u001b[0m \u001b[38;5;28;01mfor\u001b[39;00m i, comm \u001b[38;5;129;01min\u001b[39;00m \u001b[38;5;28menumerate\u001b[39m(first_partition):\n",
      "File \u001b[0;32m~/anaconda3/lib/python3.11/site-packages/networkx/drawing/nx_agraph.py:251\u001b[0m, in \u001b[0;36mgraphviz_layout\u001b[0;34m(G, prog, root, args)\u001b[0m\n\u001b[1;32m    220\u001b[0m \u001b[38;5;28;01mdef\u001b[39;00m \u001b[38;5;21mgraphviz_layout\u001b[39m(G, prog\u001b[38;5;241m=\u001b[39m\u001b[38;5;124m\"\u001b[39m\u001b[38;5;124mneato\u001b[39m\u001b[38;5;124m\"\u001b[39m, root\u001b[38;5;241m=\u001b[39m\u001b[38;5;28;01mNone\u001b[39;00m, args\u001b[38;5;241m=\u001b[39m\u001b[38;5;124m\"\u001b[39m\u001b[38;5;124m\"\u001b[39m):\n\u001b[1;32m    221\u001b[0m \u001b[38;5;250m    \u001b[39m\u001b[38;5;124;03m\"\"\"Create node positions for G using Graphviz.\u001b[39;00m\n\u001b[1;32m    222\u001b[0m \n\u001b[1;32m    223\u001b[0m \u001b[38;5;124;03m    Parameters\u001b[39;00m\n\u001b[0;32m   (...)\u001b[0m\n\u001b[1;32m    249\u001b[0m \u001b[38;5;124;03m    see https://gitlab.com/graphviz/graphviz/-/issues/1767 for more info.\u001b[39;00m\n\u001b[1;32m    250\u001b[0m \u001b[38;5;124;03m    \"\"\"\u001b[39;00m\n\u001b[0;32m--> 251\u001b[0m     \u001b[38;5;28;01mreturn\u001b[39;00m pygraphviz_layout(G, prog\u001b[38;5;241m=\u001b[39mprog, root\u001b[38;5;241m=\u001b[39mroot, args\u001b[38;5;241m=\u001b[39margs)\n",
      "File \u001b[0;32m~/anaconda3/lib/python3.11/site-packages/networkx/drawing/nx_agraph.py:297\u001b[0m, in \u001b[0;36mpygraphviz_layout\u001b[0;34m(G, prog, root, args)\u001b[0m\n\u001b[1;32m    295\u001b[0m     \u001b[38;5;28;01mimport\u001b[39;00m \u001b[38;5;21;01mpygraphviz\u001b[39;00m\n\u001b[1;32m    296\u001b[0m \u001b[38;5;28;01mexcept\u001b[39;00m \u001b[38;5;167;01mImportError\u001b[39;00m \u001b[38;5;28;01mas\u001b[39;00m err:\n\u001b[0;32m--> 297\u001b[0m     \u001b[38;5;28;01mraise\u001b[39;00m \u001b[38;5;167;01mImportError\u001b[39;00m(\n\u001b[1;32m    298\u001b[0m         \u001b[38;5;124m\"\u001b[39m\u001b[38;5;124mrequires pygraphviz \u001b[39m\u001b[38;5;124m\"\u001b[39m \u001b[38;5;124m\"\u001b[39m\u001b[38;5;124mhttp://pygraphviz.github.io/\u001b[39m\u001b[38;5;124m\"\u001b[39m\n\u001b[1;32m    299\u001b[0m     ) \u001b[38;5;28;01mfrom\u001b[39;00m \u001b[38;5;21;01merr\u001b[39;00m\n\u001b[1;32m    300\u001b[0m \u001b[38;5;28;01mif\u001b[39;00m root \u001b[38;5;129;01mis\u001b[39;00m \u001b[38;5;129;01mnot\u001b[39;00m \u001b[38;5;28;01mNone\u001b[39;00m:\n\u001b[1;32m    301\u001b[0m     args \u001b[38;5;241m+\u001b[39m\u001b[38;5;241m=\u001b[39m \u001b[38;5;124mf\u001b[39m\u001b[38;5;124m\"\u001b[39m\u001b[38;5;124m-Groot=\u001b[39m\u001b[38;5;132;01m{\u001b[39;00mroot\u001b[38;5;132;01m}\u001b[39;00m\u001b[38;5;124m\"\u001b[39m\n",
      "\u001b[0;31mImportError\u001b[0m: requires pygraphviz http://pygraphviz.github.io/"
     ]
    }
   ],
   "source": [
    "# Apply the Girvan-Newman algorithm to detect communities\n",
    "communities = nx.community.girvan_newman(G)\n",
    "first_partition = next(communities)\n",
    "\n",
    "# Draw the graph with the first partition\n",
    "#pos = nx.spring_layout(G)\n",
    "\n",
    "#pos = graphviz_layout(G, prog='sfdp')\n",
    "#pos = graphviz_layout(G, prog='patchwork')\n",
    "#pos = graphviz_layout(G, prog='fdp')\n",
    "#pos = graphviz_layout(G, prog='circo')\n",
    "#pos = graphviz_layout(G, prog='osage')\n",
    "pos = graphviz_layout(G, prog='twopi')\n",
    "#pos = graphviz_layout(G, prog='neato')\n",
    "#pos = graphviz_layout(G, prog='dot')\n",
    "#pos = nx.random_layout(G)\n",
    "#pos = nx.spectral_layout(G)\n",
    "#pos = nx.circular_layout(G)\n",
    "\n",
    "for i, comm in enumerate(first_partition):\n",
    "    nx.draw_networkx_nodes(G, pos, nodelist=list(comm), node_color=f\"C{i}\")\n",
    "nx.draw_networkx_edges(G, pos)\n",
    "nx.draw_networkx_labels(G, pos)\n",
    "\n",
    "# Show the plot\n",
    "plt.show()\n",
    "\n",
    "# Print the communities\n",
    "for i, comm in enumerate(communities):\n",
    "    print(f\"Community {i}: {comm}\")"
   ]
  },
  {
   "cell_type": "code",
   "execution_count": 41,
   "id": "c4f756e5-17f6-486f-a433-3ac00abaf1ae",
   "metadata": {
    "tags": []
   },
   "outputs": [
    {
     "ename": "NameError",
     "evalue": "name 'G' is not defined",
     "output_type": "error",
     "traceback": [
      "\u001b[0;31m---------------------------------------------------------------------------\u001b[0m",
      "\u001b[0;31mNameError\u001b[0m                                 Traceback (most recent call last)",
      "Cell \u001b[0;32mIn[41], line 2\u001b[0m\n\u001b[1;32m      1\u001b[0m \u001b[38;5;66;03m# Apply the Label Propagation algorithm to detect communities\u001b[39;00m\n\u001b[0;32m----> 2\u001b[0m communities \u001b[38;5;241m=\u001b[39m nx\u001b[38;5;241m.\u001b[39malgorithms\u001b[38;5;241m.\u001b[39mcommunity\u001b[38;5;241m.\u001b[39mlabel_propagation\u001b[38;5;241m.\u001b[39mlabel_propagation_communities(G)\n\u001b[1;32m      4\u001b[0m \u001b[38;5;66;03m#pos = nx.spring_layout(G)\u001b[39;00m\n\u001b[1;32m      5\u001b[0m \n\u001b[1;32m      6\u001b[0m \u001b[38;5;66;03m#pos = graphviz_layout(G, prog='sfdp')\u001b[39;00m\n\u001b[0;32m   (...)\u001b[0m\n\u001b[1;32m      9\u001b[0m \u001b[38;5;66;03m#pos = graphviz_layout(G, prog='circo')\u001b[39;00m\n\u001b[1;32m     10\u001b[0m \u001b[38;5;66;03m#pos = graphviz_layout(G, prog='osage')\u001b[39;00m\n\u001b[1;32m     11\u001b[0m pos \u001b[38;5;241m=\u001b[39m graphviz_layout(G, prog\u001b[38;5;241m=\u001b[39m\u001b[38;5;124m'\u001b[39m\u001b[38;5;124mtwopi\u001b[39m\u001b[38;5;124m'\u001b[39m)\n",
      "\u001b[0;31mNameError\u001b[0m: name 'G' is not defined"
     ]
    }
   ],
   "source": [
    "# Apply the Label Propagation algorithm to detect communities\n",
    "communities = nx.algorithms.community.label_propagation.label_propagation_communities(G)\n",
    "\n",
    "#pos = nx.spring_layout(G)\n",
    "\n",
    "#pos = graphviz_layout(G, prog='sfdp')\n",
    "#pos = graphviz_layout(G, prog='patchwork')\n",
    "#pos = graphviz_layout(G, prog='fdp')\n",
    "#pos = graphviz_layout(G, prog='circo')\n",
    "#pos = graphviz_layout(G, prog='osage')\n",
    "pos = graphviz_layout(G, prog='twopi')\n",
    "#pos = graphviz_layout(G, prog='neato')\n",
    "#pos = graphviz_layout(G, prog='dot')\n",
    "#pos = nx.random_layout(G)\n",
    "#pos = nx.spectral_layout(G)\n",
    "#pos = nx.circular_layout(G)\n",
    "# Print the communities\n",
    "for i, comm in enumerate(communities):\n",
    "    print(f\"Community {i}: {comm}\")\n",
    "    nx.draw_networkx_nodes(G, pos, nodelist=list(comm), node_color=f\"C{i}\")\n",
    "    nx.draw_networkx_edges(G, pos)\n",
    "nx.draw_networkx_labels(G, pos)\n",
    "\n",
    "# Show the plot\n",
    "plt.colorbar(nodes, fraction=0.046, pad=0.04)\n",
    "plt.show()"
   ]
  },
  {
   "cell_type": "code",
   "execution_count": 42,
   "id": "ff6e54f2-6b95-4956-871a-cf860ea24baa",
   "metadata": {
    "tags": []
   },
   "outputs": [
    {
     "ename": "SyntaxError",
     "evalue": "invalid syntax (3151720722.py, line 2)",
     "output_type": "error",
     "traceback": [
      "\u001b[0;36m  Cell \u001b[0;32mIn[42], line 2\u001b[0;36m\u001b[0m\n\u001b[0;31m    --import networkx as nx\u001b[0m\n\u001b[0m      ^\u001b[0m\n\u001b[0;31mSyntaxError\u001b[0m\u001b[0;31m:\u001b[0m invalid syntax\n"
     ]
    }
   ],
   "source": [
    "#tablo renklendirme icincolorbar yapabilirimburadan örnekicin\n",
    "--import networkx as nx\n",
    "import matplotlib.pyplot as plt\n",
    "\n",
    "def visualize_clustering_coefficient(graph):\n",
    "    clustering_coefficients = nx.clustering(graph)\n",
    "    node_colors = [clustering_coefficients[node] for node in graph.nodes()]\n",
    "\n",
    "    plt.figure(figsize=(8, 8))\n",
    "    pos = nx.spring_layout(graph)\n",
    "\n",
    "    # Use scatter plot instead of draw_networkx_nodes to create a mappable object\n",
    "    nodes = nx.draw_networkx_nodes(graph, pos, node_size=200, node_color=node_colors, cmap=plt.cm.YlOrRd)\n",
    "    nodes.set_edgecolor('black') # Set node border color to black\n",
    "    nx.draw_networkx_edges(graph, pos, width=1, alpha=0.5)\n",
    "    nx.draw_networkx_labels(graph, pos, font_size=10, font_color='black')\n",
    "    \n",
    "    # Create a colorbar using the mappable object returned by scatter plot\n",
    "    plt.colorbar(nodes, fraction=0.046, pad=0.04)\n",
    "    plt.axis('off')\n",
    "    plt.show()--"
   ]
  },
  {
   "cell_type": "code",
   "execution_count": 43,
   "id": "212a92e1-a01c-47f6-adcd-ee06843bfe92",
   "metadata": {
    "tags": []
   },
   "outputs": [
    {
     "ename": "NameError",
     "evalue": "name 'graph' is not defined",
     "output_type": "error",
     "traceback": [
      "\u001b[0;31m---------------------------------------------------------------------------\u001b[0m",
      "\u001b[0;31mNameError\u001b[0m                                 Traceback (most recent call last)",
      "Cell \u001b[0;32mIn[43], line 2\u001b[0m\n\u001b[1;32m      1\u001b[0m \u001b[38;5;66;03m# Use scatter plot instead of draw_networkx_nodes to create a mappable object\u001b[39;00m\n\u001b[0;32m----> 2\u001b[0m nodes \u001b[38;5;241m=\u001b[39m nx\u001b[38;5;241m.\u001b[39mdraw_networkx_nodes(graph, pos, node_size\u001b[38;5;241m=\u001b[39m\u001b[38;5;241m200\u001b[39m, node_color\u001b[38;5;241m=\u001b[39mnode_colors, cmap\u001b[38;5;241m=\u001b[39mplt\u001b[38;5;241m.\u001b[39mcm\u001b[38;5;241m.\u001b[39mYlOrRd)\n\u001b[1;32m      3\u001b[0m nodes\u001b[38;5;241m.\u001b[39mset_edgecolor(\u001b[38;5;124m'\u001b[39m\u001b[38;5;124mblack\u001b[39m\u001b[38;5;124m'\u001b[39m) \u001b[38;5;66;03m# Set node border color to black\u001b[39;00m\n\u001b[1;32m      4\u001b[0m nx\u001b[38;5;241m.\u001b[39mdraw_networkx_edges(graph, pos, width\u001b[38;5;241m=\u001b[39m\u001b[38;5;241m1\u001b[39m, alpha\u001b[38;5;241m=\u001b[39m\u001b[38;5;241m0.5\u001b[39m)\n",
      "\u001b[0;31mNameError\u001b[0m: name 'graph' is not defined"
     ]
    }
   ],
   "source": [
    "    # Use scatter plot instead of draw_networkx_nodes to create a mappable object\n",
    "    nodes = nx.draw_networkx_nodes(graph, pos, node_size=200, node_color=node_colors, cmap=plt.cm.YlOrRd)\n",
    "    nodes.set_edgecolor('black') # Set node border color to black\n",
    "    nx.draw_networkx_edges(graph, pos, width=1, alpha=0.5)\n",
    "    nx.draw_networkx_labels(graph, pos, font_size=10, font_color='black')\n",
    "    \n",
    "    # Create a colorbar using the mappable object returned by scatter plot\n",
    "    plt.colorbar(nodes, fraction=0.046, pad=0.04)\n",
    "    plt.axis('off')\n",
    "    plt.show()"
   ]
  },
  {
   "cell_type": "code",
   "execution_count": 44,
   "id": "818fe1ca-2244-42b7-9036-a60fef106653",
   "metadata": {
    "tags": []
   },
   "outputs": [
    {
     "ename": "NameError",
     "evalue": "name 'G' is not defined",
     "output_type": "error",
     "traceback": [
      "\u001b[0;31m---------------------------------------------------------------------------\u001b[0m",
      "\u001b[0;31mNameError\u001b[0m                                 Traceback (most recent call last)",
      "Cell \u001b[0;32mIn[44], line 4\u001b[0m\n\u001b[1;32m      2\u001b[0m source_node \u001b[38;5;241m=\u001b[39m (\u001b[38;5;241m4\u001b[39m, \u001b[38;5;241m3\u001b[39m)\n\u001b[1;32m      3\u001b[0m target_node \u001b[38;5;241m=\u001b[39m (\u001b[38;5;241m6\u001b[39m, \u001b[38;5;241m5\u001b[39m)\n\u001b[0;32m----> 4\u001b[0m shortest_path \u001b[38;5;241m=\u001b[39m nx\u001b[38;5;241m.\u001b[39mshortest_path(G, source\u001b[38;5;241m=\u001b[39msource_node, target\u001b[38;5;241m=\u001b[39mtarget_node)\n\u001b[1;32m      6\u001b[0m \u001b[38;5;66;03m# Print the shortest path\u001b[39;00m\n\u001b[1;32m      7\u001b[0m \u001b[38;5;28mprint\u001b[39m(\u001b[38;5;124mf\u001b[39m\u001b[38;5;124m\"\u001b[39m\u001b[38;5;124mShortest path between nodes \u001b[39m\u001b[38;5;132;01m{\u001b[39;00msource_node\u001b[38;5;132;01m}\u001b[39;00m\u001b[38;5;124m and \u001b[39m\u001b[38;5;132;01m{\u001b[39;00mtarget_node\u001b[38;5;132;01m}\u001b[39;00m\u001b[38;5;124m: \u001b[39m\u001b[38;5;132;01m{\u001b[39;00mshortest_path\u001b[38;5;132;01m}\u001b[39;00m\u001b[38;5;124m\"\u001b[39m)\n",
      "\u001b[0;31mNameError\u001b[0m: name 'G' is not defined"
     ]
    }
   ],
   "source": [
    "# Compute the shortest path between two nodes\n",
    "source_node = (4, 3)\n",
    "target_node = (6, 5)\n",
    "shortest_path = nx.shortest_path(G, source=source_node, target=target_node)\n",
    "\n",
    "# Print the shortest path\n",
    "print(f\"Shortest path between nodes {source_node} and {target_node}: {shortest_path}\")\n",
    "pos = nx.spring_layout(G)\n",
    "#pos = graphviz_layout(G, prog='sfdp')\n",
    "#pos = graphviz_layout(G, prog='patchwork')\n",
    "#pos = graphviz_layout(G, prog='fdp')\n",
    "#pos = graphviz_layout(G, prog='circo')\n",
    "#pos = graphviz_layout(G, prog='osage')\n",
    "#pos = graphviz_layout(G, prog='twopi')\n",
    "#pos = graphviz_layout(G, prog='neato')\n",
    "#pos = graphviz_layout(G, prog='dot')\n",
    "#pos = nx.random_layout(G)\n",
    "#pos = nx.spectral_layout(G)\n",
    "#pos = nx.circular_layout(G)\n",
    "nx.draw_networkx_nodes(G, pos)\n",
    "nx.draw_networkx_labels(G, pos)\n",
    "nx.draw_networkx_edges(G, pos)\n",
    "shortest_path = nx.shortest_path(G, 0, 3, weight='weight')\n",
    "nx.draw_networkx_edges(G, pos, edgelist=list(zip(shortest_path, shortest_path[1:])), edge_color='r', width=4)\n",
    "plt.show()"
   ]
  },
  {
   "cell_type": "code",
   "execution_count": 45,
   "id": "08797243-8ab0-43e4-95fd-9d1056664b17",
   "metadata": {
    "tags": []
   },
   "outputs": [
    {
     "ename": "NameError",
     "evalue": "name 'G' is not defined",
     "output_type": "error",
     "traceback": [
      "\u001b[0;31m---------------------------------------------------------------------------\u001b[0m",
      "\u001b[0;31mNameError\u001b[0m                                 Traceback (most recent call last)",
      "Cell \u001b[0;32mIn[45], line 1\u001b[0m\n\u001b[0;32m----> 1\u001b[0m pos \u001b[38;5;241m=\u001b[39m nx\u001b[38;5;241m.\u001b[39mspring_layout(G)\n\u001b[1;32m      2\u001b[0m \u001b[38;5;66;03m#pos = graphviz_layout(G, prog='sfdp')\u001b[39;00m\n\u001b[1;32m      3\u001b[0m \u001b[38;5;66;03m#pos = graphviz_layout(G, prog='patchwork')\u001b[39;00m\n\u001b[1;32m      4\u001b[0m \u001b[38;5;66;03m#pos = graphviz_layout(G, prog='fdp')\u001b[39;00m\n\u001b[0;32m   (...)\u001b[0m\n\u001b[1;32m     11\u001b[0m \u001b[38;5;66;03m#pos = nx.spectral_layout(G)\u001b[39;00m\n\u001b[1;32m     12\u001b[0m \u001b[38;5;66;03m#pos = nx.circular_layout(G)\u001b[39;00m\n\u001b[1;32m     13\u001b[0m nx\u001b[38;5;241m.\u001b[39mdraw_networkx_nodes(G, pos)\n",
      "\u001b[0;31mNameError\u001b[0m: name 'G' is not defined"
     ]
    }
   ],
   "source": [
    "pos = nx.spring_layout(G)\n",
    "#pos = graphviz_layout(G, prog='sfdp')\n",
    "#pos = graphviz_layout(G, prog='patchwork')\n",
    "#pos = graphviz_layout(G, prog='fdp')\n",
    "#pos = graphviz_layout(G, prog='circo')\n",
    "#pos = graphviz_layout(G, prog='osage')\n",
    "#pos = graphviz_layout(G, prog='twopi')\n",
    "#pos = graphviz_layout(G, prog='neato')\n",
    "#pos = graphviz_layout(G, prog='dot')\n",
    "#pos = nx.random_layout(G)\n",
    "#pos = nx.spectral_layout(G)\n",
    "#pos = nx.circular_layout(G)\n",
    "nx.draw_networkx_nodes(G, pos)\n",
    "nx.draw_networkx_labels(G, pos)\n",
    "nx.draw_networkx_edges(G, pos)\n",
    "shortest_path = nx.shortest_path(G, '0', '65', weight='weight')\n",
    "nx.draw_networkx_edges(G1, pos, edgelist=list(zip(shortest_path, shortest_path[1:])), edge_color='r', width=4)\n",
    "plt.show()"
   ]
  },
  {
   "cell_type": "code",
   "execution_count": 46,
   "id": "c7ab60fa-e6f1-4e34-97f1-5476fbf1e43b",
   "metadata": {
    "tags": []
   },
   "outputs": [
    {
     "ename": "NameError",
     "evalue": "name 'G' is not defined",
     "output_type": "error",
     "traceback": [
      "\u001b[0;31m---------------------------------------------------------------------------\u001b[0m",
      "\u001b[0;31mNameError\u001b[0m                                 Traceback (most recent call last)",
      "Cell \u001b[0;32mIn[46], line 2\u001b[0m\n\u001b[1;32m      1\u001b[0m \u001b[38;5;66;03m# Compute the connected components\u001b[39;00m\n\u001b[0;32m----> 2\u001b[0m connected_components \u001b[38;5;241m=\u001b[39m nx\u001b[38;5;241m.\u001b[39mconnected_components(G)\n\u001b[1;32m      4\u001b[0m \u001b[38;5;66;03m# Draw the graph using the circular layout\u001b[39;00m\n\u001b[1;32m      5\u001b[0m \u001b[38;5;66;03m#pos = nx.circular_layout(G)\u001b[39;00m\n\u001b[1;32m      6\u001b[0m \u001b[38;5;66;03m#pos = nx.spring_layout(G)\u001b[39;00m\n\u001b[0;32m   (...)\u001b[0m\n\u001b[1;32m      9\u001b[0m \u001b[38;5;66;03m#pos = graphviz_layout(G, prog='fdp')\u001b[39;00m\n\u001b[1;32m     10\u001b[0m \u001b[38;5;66;03m#pos = graphviz_layout(G, prog='circo')#pos = graphviz_layout(G, prog='osage')\u001b[39;00m\n\u001b[1;32m     11\u001b[0m pos \u001b[38;5;241m=\u001b[39m graphviz_layout(G, prog\u001b[38;5;241m=\u001b[39m\u001b[38;5;124m'\u001b[39m\u001b[38;5;124mtwopi\u001b[39m\u001b[38;5;124m'\u001b[39m)\n",
      "\u001b[0;31mNameError\u001b[0m: name 'G' is not defined"
     ]
    }
   ],
   "source": [
    "# Compute the connected components\n",
    "connected_components = nx.connected_components(G)\n",
    "\n",
    "# Draw the graph using the circular layout\n",
    "#pos = nx.circular_layout(G)\n",
    "#pos = nx.spring_layout(G)\n",
    "#pos = graphviz_layout(G, prog='sfdp')\n",
    "#pos = graphviz_layout(G, prog='patchwork')\n",
    "#pos = graphviz_layout(G, prog='fdp')\n",
    "#pos = graphviz_layout(G, prog='circo')#pos = graphviz_layout(G, prog='osage')\n",
    "pos = graphviz_layout(G, prog='twopi')\n",
    "#pos = graphviz_layout(G, prog='neato')\n",
    "#pos = graphviz_layout(G, prog='dot')\n",
    "#pos = nx.random_layout(G)\n",
    "#pos = nx.spectral_layout(G)\n",
    "nx.draw(G, pos=pos, with_labels=True)\n",
    "\n",
    "for i, comm in enumerate(connected_components):\n",
    "    nx.draw_networkx_nodes(G, pos, nodelist=list(comm), node_color=f\"C{i}\")\n",
    "nx.draw_networkx_edges(G, pos)\n",
    "nx.draw_networkx_labels(G, pos)\n",
    "\n",
    "# Show the plot\n",
    "plt.show()"
   ]
  },
  {
   "cell_type": "code",
   "execution_count": 47,
   "id": "64869646-e416-474d-80c2-0c2920c7bd58",
   "metadata": {
    "tags": []
   },
   "outputs": [
    {
     "ename": "NameError",
     "evalue": "name 'connected_components' is not defined",
     "output_type": "error",
     "traceback": [
      "\u001b[0;31m---------------------------------------------------------------------------\u001b[0m",
      "\u001b[0;31mNameError\u001b[0m                                 Traceback (most recent call last)",
      "Cell \u001b[0;32mIn[47], line 2\u001b[0m\n\u001b[1;32m      1\u001b[0m \u001b[38;5;66;03m# Print the size of the largest connected component\u001b[39;00m\n\u001b[0;32m----> 2\u001b[0m largest_cc \u001b[38;5;241m=\u001b[39m \u001b[38;5;28mmax\u001b[39m(connected_components, key\u001b[38;5;241m=\u001b[39m\u001b[38;5;28mlen\u001b[39m)\n\u001b[1;32m      3\u001b[0m \u001b[38;5;28mprint\u001b[39m(\u001b[38;5;124mf\u001b[39m\u001b[38;5;124m\"\u001b[39m\u001b[38;5;124mSize of largest connected component: \u001b[39m\u001b[38;5;132;01m{\u001b[39;00m\u001b[38;5;28mlen\u001b[39m(largest_cc)\u001b[38;5;132;01m}\u001b[39;00m\u001b[38;5;124m\"\u001b[39m)\n\u001b[1;32m      5\u001b[0m \u001b[38;5;66;03m# Check if the graph is connected\u001b[39;00m\n",
      "\u001b[0;31mNameError\u001b[0m: name 'connected_components' is not defined"
     ]
    }
   ],
   "source": [
    "# Print the size of the largest connected component\n",
    "largest_cc = max(connected_components, key=len)\n",
    "print(f\"Size of largest connected component: {len(largest_cc)}\")\n",
    "\n",
    "# Check if the graph is connected\n",
    "print(f\"Is the graph connected? {nx.is_connected(G)}\")"
   ]
  },
  {
   "cell_type": "code",
   "execution_count": 48,
   "id": "c4d8ecda-bfb7-4886-92dc-40efa7fb3aba",
   "metadata": {
    "tags": []
   },
   "outputs": [
    {
     "ename": "NameError",
     "evalue": "name 'G' is not defined",
     "output_type": "error",
     "traceback": [
      "\u001b[0;31m---------------------------------------------------------------------------\u001b[0m",
      "\u001b[0;31mNameError\u001b[0m                                 Traceback (most recent call last)",
      "Cell \u001b[0;32mIn[48], line 2\u001b[0m\n\u001b[1;32m      1\u001b[0m \u001b[38;5;66;03m# Compute the clustering coefficient for all nodes\u001b[39;00m\n\u001b[0;32m----> 2\u001b[0m clustering_coefficient \u001b[38;5;241m=\u001b[39m nx\u001b[38;5;241m.\u001b[39mclustering(G)\n\u001b[1;32m      4\u001b[0m \u001b[38;5;66;03m# Print the clustering coefficient for each node\u001b[39;00m\n\u001b[1;32m      5\u001b[0m \u001b[38;5;28;01mfor\u001b[39;00m node, cc \u001b[38;5;129;01min\u001b[39;00m clustering_coefficient\u001b[38;5;241m.\u001b[39mitems():\n",
      "\u001b[0;31mNameError\u001b[0m: name 'G' is not defined"
     ]
    }
   ],
   "source": [
    "# Compute the clustering coefficient for all nodes\n",
    "clustering_coefficient = nx.clustering(G)\n",
    "\n",
    "# Print the clustering coefficient for each node\n",
    "for node, cc in clustering_coefficient.items():\n",
    "    print(f\"Node {node}: Clustering Coefficient = {cc}\")"
   ]
  },
  {
   "cell_type": "code",
   "execution_count": 50,
   "id": "91201d33-2e22-4508-b2bc-3fb597517ab8",
   "metadata": {
    "tags": []
   },
   "outputs": [],
   "source": [
    "#kumeleme_katsayısını_gorsellestırmeye_calıstım_ama_olmadı\n",
    "#import networkx as nx\n",
    "import matplotlib.pyplot as plt\n",
    "\n",
    "\n",
    "def visualize_clustering_coefficient(G):\n",
    "    clustering_coefficients = nx.clustering(G)\n",
    "    node_colors = [clustering_coefficients[node] for node in G.nodes()]\n",
    "\n",
    "    plt.figure(figsize=(8, 8))\n",
    "    pos = nx.spring_layout(G)\n",
    "\n",
    "    nx.draw_networkx_nodes(G, clustering_coefficients, node_size=200, cmap=plt.cm.YlOrRd, node_color=node_colors)\n",
    "    nx.draw_networkx_edges(G, clustering_coefficients, width=1, alpha=0.5)\n",
    "    nx.draw_networkx_labels(G, clustering_coefficients, font_size=10, font_color='black')\n",
    "    plt.axis('off')\n",
    "    plt.colorbar()\n",
    "#    plt.show()"
   ]
  },
  {
   "cell_type": "code",
   "execution_count": 51,
   "id": "68d436ca-e5da-4887-a12d-9d5be82559c2",
   "metadata": {
    "tags": []
   },
   "outputs": [
    {
     "ename": "NameError",
     "evalue": "name 'G' is not defined",
     "output_type": "error",
     "traceback": [
      "\u001b[0;31m---------------------------------------------------------------------------\u001b[0m",
      "\u001b[0;31mNameError\u001b[0m                                 Traceback (most recent call last)",
      "Cell \u001b[0;32mIn[51], line 2\u001b[0m\n\u001b[1;32m      1\u001b[0m \u001b[38;5;66;03m# Compute the Jaccard coefficient for all pairs of non-adjacent nodes\u001b[39;00m\n\u001b[0;32m----> 2\u001b[0m jaccard_coefficient \u001b[38;5;241m=\u001b[39m nx\u001b[38;5;241m.\u001b[39mjaccard_coefficient(G)\n\u001b[1;32m      3\u001b[0m \u001b[38;5;66;03m# Create a new graph to display the Jaccard coefficient values as edge weights\u001b[39;00m\n\u001b[1;32m      4\u001b[0m H \u001b[38;5;241m=\u001b[39m nx\u001b[38;5;241m.\u001b[39mGraph()\n",
      "\u001b[0;31mNameError\u001b[0m: name 'G' is not defined"
     ]
    }
   ],
   "source": [
    "# Compute the Jaccard coefficient for all pairs of non-adjacent nodes\n",
    "jaccard_coefficient = nx.jaccard_coefficient(G)\n",
    "# Create a new graph to display the Jaccard coefficient values as edge weights\n",
    "H = nx.Graph()\n",
    "H.add_nodes_from(G.nodes())\n",
    "H.add_weighted_edges_from([(u, v, c) for u, v, c in jaccard_coefficient])\n",
    "\n",
    "# Draw the original graph with edge colors based on their Jaccard coefficient\n",
    "edge_colors = [H[u][v]['weight'] for u, v in H.edges()]\n",
    "nx.draw(G, edge_color=edge_colors, with_labels=True)\n",
    "\n",
    "# Show the plot\n",
    "plt.show()"
   ]
  },
  {
   "cell_type": "code",
   "execution_count": 52,
   "id": "5a13f5f2-8aa1-4dcf-ba80-a6459f028ff3",
   "metadata": {
    "tags": []
   },
   "outputs": [
    {
     "ename": "NameError",
     "evalue": "name 'G' is not defined",
     "output_type": "error",
     "traceback": [
      "\u001b[0;31m---------------------------------------------------------------------------\u001b[0m",
      "\u001b[0;31mNameError\u001b[0m                                 Traceback (most recent call last)",
      "Cell \u001b[0;32mIn[52], line 2\u001b[0m\n\u001b[1;32m      1\u001b[0m \u001b[38;5;66;03m# Compute the Jaccard coefficient for all pairs of non-adjacent nodes\u001b[39;00m\n\u001b[0;32m----> 2\u001b[0m jaccard_coefficient \u001b[38;5;241m=\u001b[39m nx\u001b[38;5;241m.\u001b[39mjaccard_coefficient(G, [(u, v) \u001b[38;5;28;01mfor\u001b[39;00m u \u001b[38;5;129;01min\u001b[39;00m G \u001b[38;5;28;01mfor\u001b[39;00m v \u001b[38;5;129;01min\u001b[39;00m G \u001b[38;5;28;01mif\u001b[39;00m u \u001b[38;5;241m!=\u001b[39m v \u001b[38;5;129;01mand\u001b[39;00m \u001b[38;5;129;01mnot\u001b[39;00m G\u001b[38;5;241m.\u001b[39mhas_edge(u, v)])\n\u001b[1;32m      3\u001b[0m \u001b[38;5;66;03m# Create a new graph with edge weights equal to the Jaccard coefficient\u001b[39;00m\n\u001b[1;32m      4\u001b[0m H \u001b[38;5;241m=\u001b[39m nx\u001b[38;5;241m.\u001b[39mGraph()\n",
      "\u001b[0;31mNameError\u001b[0m: name 'G' is not defined"
     ]
    }
   ],
   "source": [
    "# Compute the Jaccard coefficient for all pairs of non-adjacent nodes\n",
    "jaccard_coefficient = nx.jaccard_coefficient(G, [(u, v) for u in G for v in G if u != v and not G.has_edge(u, v)])\n",
    "# Create a new graph with edge weights equal to the Jaccard coefficient\n",
    "H = nx.Graph()\n",
    "H.add_nodes_from(G.nodes())\n",
    "H.add_weighted_edges_from([(u, v, c) for u, v, c in jaccard_coefficient])\n",
    "\n",
    "\n",
    "\n",
    "# Create a dictionary mapping nodes to their Jaccard coefficient\n",
    "node_color = {n: c for n, _, c in jaccard_coefficient}\n",
    "\n",
    "# Draw the graph with node colors based on their Jaccard coefficient\n",
    "pos = nx.spring_layout(G)\n",
    "nx.draw(G, pos, node_color=[node_color[n] for n in G.nodes()], edge_color=[H[u][v]['weight'] for u, v in H.edges()], with_labels=True)\n",
    "\n",
    "# Show the plot\n",
    "plt.show()"
   ]
  },
  {
   "cell_type": "code",
   "execution_count": 53,
   "id": "882bfdb9-bc86-4a15-ab57-03f5b5a28181",
   "metadata": {
    "tags": []
   },
   "outputs": [],
   "source": [
    "#Kendal Benzerlik Testi_Ağ Analiz sonuçları_icin"
   ]
  },
  {
   "cell_type": "code",
   "execution_count": 55,
   "id": "5e0c138f-e054-491d-a431-0983822032c3",
   "metadata": {
    "tags": []
   },
   "outputs": [],
   "source": [
    "import numpy as np\n",
    "from scipy.stats import kendalltau, spearmanr"
   ]
  },
  {
   "cell_type": "code",
   "execution_count": 56,
   "id": "857d9d5a-d52c-4a70-99ea-9ddb8fd0175f",
   "metadata": {
    "tags": []
   },
   "outputs": [],
   "source": [
    "ranking_onerilen=[1,2,3,4,5,6,7,8,9,10,11,12,13,14,15,16,17,18,19,20,21,22,23,24,25,26,27,28,29,30,31,\n",
    "                  32,33,34,35,36,37,38,39,40,41,42,43,44,45,46,47,48,49,50,51,52,53,54,55,56,57,58,59,60,61,62,63,64,65,66]\n",
    "ranking_ortalama=[1,2,3,5,4,6,7,9,8,10,16,11,15,14,13,14,17,19,18,22,26,27,21,20,23,25,24,28,37,31,29,30,32,33,56,35,66,34,\n",
    "                  38,36,40,65,42,50,53,44,51,46,58,41,47,43,54,60,49,39,64,48,61,45,59,52,63,62,57,55]\n",
    "ranking_medyan=[1,2,3,5,4,6,7,8,9,10,11,12,13,14,15,16,17,18,20,17,28,29,25,24,21,22,23,30,26,46,31,33,42,27,32,36,34,43,\n",
    "                37,40,38,35,39,53,52,41,56,49,54,45,50,44,58,55,60,47,57,51,59,48,61,65,63,62,64,66]"
   ]
  },
  {
   "cell_type": "code",
   "execution_count": 57,
   "id": "7cd937b5-6b99-4bc3-8ba4-c0c3b148ae65",
   "metadata": {
    "tags": []
   },
   "outputs": [
    {
     "name": "stdout",
     "output_type": "stream",
     "text": [
      "Kendall's Tau: 0.8794591052751134\n"
     ]
    }
   ],
   "source": [
    "#Kendal\n",
    "tau, _ = kendalltau(ranking_onerilen, ranking_medyan)\n",
    "print(f\"Kendall's Tau: {tau}\")"
   ]
  },
  {
   "cell_type": "code",
   "execution_count": 58,
   "id": "ce1c2557-40a7-4fbc-b669-0296b678593e",
   "metadata": {
    "tags": []
   },
   "outputs": [
    {
     "name": "stdout",
     "output_type": "stream",
     "text": [
      "Spearman's Rank Correlation: 0.9274076548637382\n"
     ]
    }
   ],
   "source": [
    "#Spearman_Rank_Correlation\n",
    "rho, _ = spearmanr(ranking_onerilen, ranking_ortalama)\n",
    "print(f\"Spearman's Rank Correlation: {rho}\")"
   ]
  },
  {
   "cell_type": "code",
   "execution_count": 59,
   "id": "244cc38e-7632-49ad-80fd-2aa9128033a2",
   "metadata": {
    "tags": []
   },
   "outputs": [
    {
     "name": "stdout",
     "output_type": "stream",
     "text": [
      "Spearman's Rank Correlation: 0.9713492469921324\n"
     ]
    }
   ],
   "source": [
    "#Spearman_Rank_Correlation\n",
    "rho1, _ = spearmanr(ranking_onerilen, ranking_medyan)\n",
    "print(f\"Spearman's Rank Correlation: {rho1}\")"
   ]
  },
  {
   "cell_type": "code",
   "execution_count": 60,
   "id": "142536df-3f70-4fb8-b4e9-709a0c33b739",
   "metadata": {
    "tags": []
   },
   "outputs": [
    {
     "name": "stdout",
     "output_type": "stream",
     "text": [
      "Mean Absolute Error (MAE): 4.424242424242424\n"
     ]
    }
   ],
   "source": [
    "#Mean_Absolute_Error_(MAE)\n",
    "mae = np.mean(np.abs(np.array(ranking_onerilen) - np.array(ranking_ortalama)))\n",
    "print(f\"Mean Absolute Error (MAE): {mae}\")"
   ]
  },
  {
   "cell_type": "code",
   "execution_count": 61,
   "id": "455d596a-6c53-469f-b206-22fc83edbd4c",
   "metadata": {
    "tags": []
   },
   "outputs": [
    {
     "name": "stdout",
     "output_type": "stream",
     "text": [
      "Mean Absolute Error (MAE): 2.9393939393939394\n"
     ]
    }
   ],
   "source": [
    "#Mean_Absolute_Error_(MAE)\n",
    "mae1 = np.mean(np.abs(np.array(ranking_onerilen) - np.array(ranking_medyan)))\n",
    "print(f\"Mean Absolute Error (MAE): {mae1}\")"
   ]
  },
  {
   "cell_type": "code",
   "execution_count": 62,
   "id": "93e9ce41-de38-4835-9b1c-69c66d0b1a1b",
   "metadata": {
    "tags": []
   },
   "outputs": [
    {
     "name": "stdout",
     "output_type": "stream",
     "text": [
      "Footrule Distance: 194\n"
     ]
    }
   ],
   "source": [
    "#Footrule_Distance\n",
    "footrule_distance = sum(abs(i - j) for i, j in zip(ranking_onerilen, ranking_medyan))\n",
    "print(f\"Footrule Distance: {footrule_distance}\")"
   ]
  },
  {
   "cell_type": "code",
   "execution_count": 63,
   "id": "db82a3d8-3f23-4d54-857e-acdd26f17b7a",
   "metadata": {
    "tags": []
   },
   "outputs": [
    {
     "name": "stdout",
     "output_type": "stream",
     "text": [
      "Average Ranking Agreement (ARA): 0.4919651056014692\n"
     ]
    }
   ],
   "source": [
    "#Average_Ranking_Scores\n",
    "total_pairs=len(ranking_onerilen) * len(ranking_medyan)\n",
    "agreed_pairs = sum(1 for i in ranking_onerilen for j in ranking_medyan if i < j)\n",
    "ara = agreed_pairs / total_pairs\n",
    "print(f\"Average Ranking Agreement (ARA): {ara}\")"
   ]
  },
  {
   "cell_type": "code",
   "execution_count": 64,
   "id": "fe997fee-c216-45e3-8487-017ffdbf23a2",
   "metadata": {
    "tags": []
   },
   "outputs": [],
   "source": [
    "#Intraclass_Correlation_Coefficient_(ICC)"
   ]
  },
  {
   "cell_type": "code",
   "execution_count": 67,
   "id": "8786db88-68b0-422e-afb8-ce579672d815",
   "metadata": {
    "tags": []
   },
   "outputs": [
    {
     "name": "stdout",
     "output_type": "stream",
     "text": [
      "Intraclass Correlation Coefficient (ICC): 0.8602\n"
     ]
    }
   ],
   "source": [
    "data = pd.DataFrame({'Ranking_A': ranking_onerilen, 'Ranking_B': ranking_ortalama})\n",
    "formula = 'Ranking_A ~ Ranking_B'\n",
    "model = ols(formula, data=data).fit()\n",
    "icc = model.ess / (model.ess + model.ssr)\n",
    "print(f'Intraclass Correlation Coefficient (ICC): {icc:.4f}')"
   ]
  },
  {
   "cell_type": "code",
   "execution_count": 68,
   "id": "488b92f0-afad-4796-b464-b930ed36ff47",
   "metadata": {
    "tags": []
   },
   "outputs": [],
   "source": [
    "#Normalized_Discounted_Cumulative_nDCG\n",
    "#ranked_items=onerilen,relevance_scores=ortalama ya da medyan\n",
    "ranked_item=[1,2,3,4,5,6,7,8,9,10,11,12,13,14,15,16,17,18,19,20,21,22,23,24,25,26,27,28,29,30,31,\n",
    "                  32,33,34,35,36,37,38,39,40,41,42,43,44,45,46,47,48,49,50,51,52,53,54,55,56,57,58,59,60,61,62,63,64,65,66]\n",
    "ranked_items=[1,2,3,5,4,6,7,9,8,10,16,11,15,14,13,14,17,19,18,22,26,27,21,20,23,25,24,28,37,31,29,30,32,33,56,35,66,34,\n",
    "                  38,36,40,65,42,50,53,44,51,46,58,41,47,43,54,60,49,39,64,48,61,45,59,52,63,62,57,55]\n",
    "relevance_scores=[1,2,3,5,4,6,7,8,9,10,11,12,13,14,15,16,17,18,20,17,28,29,25,24,21,22,23,30,26,46,31,33,42,27,32,36,34,43,\n",
    "                37,40,38,35,39,53,52,41,56,49,54,45,50,44,58,55,60,47,57,51,59,48,61,65,63,62,64,66]"
   ]
  },
  {
   "cell_type": "code",
   "execution_count": 69,
   "id": "aae48af3-c269-4516-9751-3175f108590b",
   "metadata": {
    "tags": []
   },
   "outputs": [],
   "source": [
    "ideal_ranking = [item for _, item in sorted(zip(relevance_scores, ranked_items), reverse=True)]\n",
    "def dcg(ranked_list, relevance_scores):\n",
    "    dcg = 0\n",
    "    for i in range(len(ranked_list)):\n",
    "        rel = relevance_scores[i]\n",
    "        dcg += (2 ** rel - 1) / np.log2(i + 2)\n",
    "    return dcg"
   ]
  },
  {
   "cell_type": "code",
   "execution_count": 70,
   "id": "4448822f-21da-47c4-bd81-9353fc78aaaf",
   "metadata": {
    "tags": []
   },
   "outputs": [],
   "source": [
    "#Calculate\n",
    "def ndcg(ranked_list, ideal_ranking, relevance_scores):\n",
    "    dcg_value = dcg(ranked_list, relevance_scores)\n",
    "    ideal_dcg_value = dcg(ideal_ranking, relevance_scores)\n",
    "    return dcg_value / ideal_dcg_value if ideal_dcg_value > 0 else 0"
   ]
  },
  {
   "cell_type": "code",
   "execution_count": 71,
   "id": "1ae692d1-732f-4f67-8dea-d92e92697897",
   "metadata": {
    "tags": []
   },
   "outputs": [
    {
     "name": "stdout",
     "output_type": "stream",
     "text": [
      "nDCG: 1.0000\n"
     ]
    }
   ],
   "source": [
    "#Calculate_nDCG_for_your_ranking\n",
    "nDCG = ndcg(ranked_items, ideal_ranking, relevance_scores)\n",
    "print(f\"nDCG: {nDCG:.4f}\")"
   ]
  },
  {
   "cell_type": "code",
   "execution_count": null,
   "id": "1a9ef12e-fff6-4ec5-9cd6-0ce64c02ec65",
   "metadata": {},
   "outputs": [],
   "source": []
  }
 ],
 "metadata": {
  "kernelspec": {
   "display_name": "Python 3 (ipykernel)",
   "language": "python",
   "name": "python3"
  },
  "language_info": {
   "codemirror_mode": {
    "name": "ipython",
    "version": 3
   },
   "file_extension": ".py",
   "mimetype": "text/x-python",
   "name": "python",
   "nbconvert_exporter": "python",
   "pygments_lexer": "ipython3",
   "version": "3.11.5"
  }
 },
 "nbformat": 4,
 "nbformat_minor": 5
}
